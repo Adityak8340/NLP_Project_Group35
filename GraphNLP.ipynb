{
  "nbformat": 4,
  "nbformat_minor": 0,
  "metadata": {
    "colab": {
      "provenance": [],
      "gpuType": "V28"
    },
    "kernelspec": {
      "name": "python3",
      "display_name": "Python 3"
    },
    "language_info": {
      "name": "python"
    },
    "accelerator": "TPU"
  },
  "cells": [
    {
      "cell_type": "code",
      "execution_count": 1,
      "metadata": {
        "colab": {
          "base_uri": "https://localhost:8080/"
        },
        "id": "WYhB2OARw_Nq",
        "outputId": "13b374d2-ff0d-48ae-95e0-e92e139060be"
      },
      "outputs": [
        {
          "output_type": "stream",
          "name": "stdout",
          "text": [
            "\u001b[2K     \u001b[90m━━━━━━━━━━━━━━━━━━━━━━━━━━━━━━━━━━━━━━━━\u001b[0m \u001b[32m63.7/63.7 kB\u001b[0m \u001b[31m2.5 MB/s\u001b[0m eta \u001b[36m0:00:00\u001b[0m\n",
            "\u001b[2K     \u001b[90m━━━━━━━━━━━━━━━━━━━━━━━━━━━━━━━━━━━━━━━━\u001b[0m \u001b[32m50.6/50.6 kB\u001b[0m \u001b[31m2.5 MB/s\u001b[0m eta \u001b[36m0:00:00\u001b[0m\n",
            "\u001b[2K   \u001b[90m━━━━━━━━━━━━━━━━━━━━━━━━━━━━━━━━━━━━━━━━\u001b[0m \u001b[32m1.0/1.0 MB\u001b[0m \u001b[31m17.2 MB/s\u001b[0m eta \u001b[36m0:00:00\u001b[0m\n",
            "\u001b[2K   \u001b[90m━━━━━━━━━━━━━━━━━━━━━━━━━━━━━━━━━━━━━━━━\u001b[0m \u001b[32m2.4/2.4 MB\u001b[0m \u001b[31m59.4 MB/s\u001b[0m eta \u001b[36m0:00:00\u001b[0m\n",
            "\u001b[2K   \u001b[90m━━━━━━━━━━━━━━━━━━━━━━━━━━━━━━━━━━━━━━━━\u001b[0m \u001b[32m296.6/296.6 kB\u001b[0m \u001b[31m18.5 MB/s\u001b[0m eta \u001b[36m0:00:00\u001b[0m\n",
            "\u001b[2K   \u001b[90m━━━━━━━━━━━━━━━━━━━━━━━━━━━━━━━━━━━━━━━━\u001b[0m \u001b[32m1.2/1.2 MB\u001b[0m \u001b[31m46.7 MB/s\u001b[0m eta \u001b[36m0:00:00\u001b[0m\n",
            "\u001b[2K   \u001b[90m━━━━━━━━━━━━━━━━━━━━━━━━━━━━━━━━━━━━━━━━\u001b[0m \u001b[32m106.5/106.5 kB\u001b[0m \u001b[31m6.7 MB/s\u001b[0m eta \u001b[36m0:00:00\u001b[0m\n",
            "\u001b[2K   \u001b[90m━━━━━━━━━━━━━━━━━━━━━━━━━━━━━━━━━━━━━━━━\u001b[0m \u001b[32m408.0/408.0 kB\u001b[0m \u001b[31m23.6 MB/s\u001b[0m eta \u001b[36m0:00:00\u001b[0m\n",
            "\u001b[2K   \u001b[90m━━━━━━━━━━━━━━━━━━━━━━━━━━━━━━━━━━━━━━━━\u001b[0m \u001b[32m296.9/296.9 kB\u001b[0m \u001b[31m17.0 MB/s\u001b[0m eta \u001b[36m0:00:00\u001b[0m\n",
            "\u001b[2K   \u001b[90m━━━━━━━━━━━━━━━━━━━━━━━━━━━━━━━━━━━━━━━━\u001b[0m \u001b[32m3.1/3.1 MB\u001b[0m \u001b[31m83.7 MB/s\u001b[0m eta \u001b[36m0:00:00\u001b[0m\n",
            "\u001b[2K   \u001b[90m━━━━━━━━━━━━━━━━━━━━━━━━━━━━━━━━━━━━━━━━\u001b[0m \u001b[32m241.9/241.9 kB\u001b[0m \u001b[31m13.2 MB/s\u001b[0m eta \u001b[36m0:00:00\u001b[0m\n",
            "\u001b[2K   \u001b[90m━━━━━━━━━━━━━━━━━━━━━━━━━━━━━━━━━━━━━━━━\u001b[0m \u001b[32m599.5/599.5 kB\u001b[0m \u001b[31m27.2 MB/s\u001b[0m eta \u001b[36m0:00:00\u001b[0m\n",
            "\u001b[2K   \u001b[90m━━━━━━━━━━━━━━━━━━━━━━━━━━━━━━━━━━━━━━━━\u001b[0m \u001b[32m76.4/76.4 kB\u001b[0m \u001b[31m4.7 MB/s\u001b[0m eta \u001b[36m0:00:00\u001b[0m\n",
            "\u001b[2K   \u001b[90m━━━━━━━━━━━━━━━━━━━━━━━━━━━━━━━━━━━━━━━━\u001b[0m \u001b[32m78.0/78.0 kB\u001b[0m \u001b[31m4.1 MB/s\u001b[0m eta \u001b[36m0:00:00\u001b[0m\n",
            "\u001b[2K   \u001b[90m━━━━━━━━━━━━━━━━━━━━━━━━━━━━━━━━━━━━━━━━\u001b[0m \u001b[32m49.5/49.5 kB\u001b[0m \u001b[31m2.7 MB/s\u001b[0m eta \u001b[36m0:00:00\u001b[0m\n",
            "\u001b[2K   \u001b[90m━━━━━━━━━━━━━━━━━━━━━━━━━━━━━━━━━━━━━━━━\u001b[0m \u001b[32m124.6/124.6 kB\u001b[0m \u001b[31m7.3 MB/s\u001b[0m eta \u001b[36m0:00:00\u001b[0m\n",
            "\u001b[2K   \u001b[90m━━━━━━━━━━━━━━━━━━━━━━━━━━━━━━━━━━━━━━━━\u001b[0m \u001b[32m144.5/144.5 kB\u001b[0m \u001b[31m8.5 MB/s\u001b[0m eta \u001b[36m0:00:00\u001b[0m\n",
            "\u001b[2K   \u001b[90m━━━━━━━━━━━━━━━━━━━━━━━━━━━━━━━━━━━━━━━━\u001b[0m \u001b[32m54.5/54.5 kB\u001b[0m \u001b[31m2.9 MB/s\u001b[0m eta \u001b[36m0:00:00\u001b[0m\n",
            "\u001b[2K   \u001b[90m━━━━━━━━━━━━━━━━━━━━━━━━━━━━━━━━━━━━━━━━\u001b[0m \u001b[32m318.1/318.1 kB\u001b[0m \u001b[31m18.8 MB/s\u001b[0m eta \u001b[36m0:00:00\u001b[0m\n",
            "\u001b[2K   \u001b[90m━━━━━━━━━━━━━━━━━━━━━━━━━━━━━━━━━━━━━━━━\u001b[0m \u001b[32m208.9/208.9 kB\u001b[0m \u001b[31m9.8 MB/s\u001b[0m eta \u001b[36m0:00:00\u001b[0m\n",
            "\u001b[2K   \u001b[90m━━━━━━━━━━━━━━━━━━━━━━━━━━━━━━━━━━━━━━━━\u001b[0m \u001b[32m58.3/58.3 kB\u001b[0m \u001b[31m2.9 MB/s\u001b[0m eta \u001b[36m0:00:00\u001b[0m\n",
            "\u001b[?25h"
          ]
        }
      ],
      "source": [
        "!pip install --upgrade --quiet  langchain langchain-community langchain-groq neo4j"
      ]
    },
    {
      "cell_type": "code",
      "source": [
        "# Wait 60 seconds before connecting using these details, or login to https://console.neo4j.io to validate the Aura Instance is available\n",
        "NEO4J_URI=\"neo4j+s://6ed9b7da.databases.neo4j.io\"\n",
        "NEO4J_USERNAME=\"neo4j\"\n",
        "NEO4J_PASSWORD=\"14V4z2NxsI8laZL3tvaAvyJzIdgyZCwgxKHbRWObatM\"\n"
      ],
      "metadata": {
        "id": "OBL8Iqs4xoeh"
      },
      "execution_count": 2,
      "outputs": []
    },
    {
      "cell_type": "code",
      "source": [
        "import os\n",
        "os.environ[\"NEO4J_URI\"]=NEO4J_URI\n",
        "os.environ[\"NEO4J_USERNAME\"]=NEO4J_USERNAME\n",
        "os.environ[\"NEO4J_PASSWORD\"]=NEO4J_PASSWORD"
      ],
      "metadata": {
        "id": "uDS6XHgbycee"
      },
      "execution_count": 3,
      "outputs": []
    },
    {
      "cell_type": "code",
      "source": [
        "from langchain_community.graphs import Neo4jGraph\n",
        "graph=Neo4jGraph(\n",
        "    url=NEO4J_URI,\n",
        "    username=NEO4J_USERNAME,\n",
        "    password=NEO4J_PASSWORD,\n",
        ")"
      ],
      "metadata": {
        "id": "5rikUUiCymWG"
      },
      "execution_count": 4,
      "outputs": []
    },
    {
      "cell_type": "code",
      "source": [
        "graph"
      ],
      "metadata": {
        "colab": {
          "base_uri": "https://localhost:8080/"
        },
        "id": "j6Zy5Bc_y1oN",
        "outputId": "a0b43989-d92e-409c-8db2-ba714dd1b1bc"
      },
      "execution_count": 5,
      "outputs": [
        {
          "output_type": "execute_result",
          "data": {
            "text/plain": [
              "<langchain_community.graphs.neo4j_graph.Neo4jGraph at 0x7c5231856560>"
            ]
          },
          "metadata": {},
          "execution_count": 5
        }
      ]
    },
    {
      "cell_type": "code",
      "source": [
        "groq_api_key=\"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\""
      ],
      "metadata": {
        "id": "55sZpcz8y2dx"
      },
      "execution_count": 21,
      "outputs": []
    },
    {
      "cell_type": "code",
      "source": [
        "from langchain_groq import ChatGroq\n",
        "\n",
        "llm=ChatGroq(groq_api_key=groq_api_key,model_name=\"Gemma2-9b-It\")\n",
        "llm"
      ],
      "metadata": {
        "colab": {
          "base_uri": "https://localhost:8080/"
        },
        "id": "YtqR-fXVzxXZ",
        "outputId": "37904c72-06e9-4e35-d0b3-4e7e194b84ee"
      },
      "execution_count": 22,
      "outputs": [
        {
          "output_type": "execute_result",
          "data": {
            "text/plain": [
              "ChatGroq(client=<groq.resources.chat.completions.Completions object at 0x7c51ff268880>, async_client=<groq.resources.chat.completions.AsyncCompletions object at 0x7c51ff269540>, model_name='Gemma2-9b-It', model_kwargs={}, groq_api_key=SecretStr('**********'))"
            ]
          },
          "metadata": {},
          "execution_count": 22
        }
      ]
    },
    {
      "cell_type": "code",
      "source": [
        "!pip install --upgrade --quiet langchain_experimental"
      ],
      "metadata": {
        "colab": {
          "base_uri": "https://localhost:8080/"
        },
        "id": "6mbEhsdS1Y0N",
        "outputId": "251c0b5b-2046-48c5-f850-6e4f691fc2c6"
      },
      "execution_count": 23,
      "outputs": [
        {
          "output_type": "stream",
          "name": "stdout",
          "text": [
            "\u001b[?25l   \u001b[90m━━━━━━━━━━━━━━━━━━━━━━━━━━━━━━━━━━━━━━━━\u001b[0m \u001b[32m0.0/208.1 kB\u001b[0m \u001b[31m?\u001b[0m eta \u001b[36m-:--:--\u001b[0m\r\u001b[2K   \u001b[91m━━━━━━━━━━━━━━━━━━━━━━━━━━━\u001b[0m\u001b[91m╸\u001b[0m\u001b[90m━━━━━━━━━━━━\u001b[0m \u001b[32m143.4/208.1 kB\u001b[0m \u001b[31m4.1 MB/s\u001b[0m eta \u001b[36m0:00:01\u001b[0m\r\u001b[2K   \u001b[90m━━━━━━━━━━━━━━━━━━━━━━━━━━━━━━━━━━━━━━━━\u001b[0m \u001b[32m208.1/208.1 kB\u001b[0m \u001b[31m3.5 MB/s\u001b[0m eta \u001b[36m0:00:00\u001b[0m\n",
            "\u001b[?25h"
          ]
        }
      ]
    },
    {
      "cell_type": "code",
      "source": [
        "from langchain_experimental.graph_transformers import LLMGraphTransformer\n",
        "llm_transformer=LLMGraphTransformer(llm=llm)"
      ],
      "metadata": {
        "id": "8ripzwTX0q1X"
      },
      "execution_count": 24,
      "outputs": []
    },
    {
      "cell_type": "code",
      "source": [
        "### Load the dataset of movie\n",
        "\n",
        "movie_query=\"\"\"\n",
        "LOAD CSV WITH HEADERS FROM 'https://raw.githubusercontent.com/Adityak8340/docbot/main/cleaned_final_data_v2.csv' AS row\n",
        "\n",
        "MERGE (c:CVE {id: row.`CVE-ID`})\n",
        "SET c.cvss_v3 = toFloat(row.`CVSS-V3`),\n",
        "    c.cvss_v2 = toFloat(row.`CVSS-V2`),\n",
        "    c.severity = row.SEVERITY,\n",
        "    c.rip = row.RIP,\n",
        "    c.cwe_id = row.`CWE-ID`,\n",
        "    c.operating_system = row.Operating_System,\n",
        "    c.software_component = row.Software_Component,\n",
        "    c.version = row.Version,\n",
        "    c.impact = row.Impact,\n",
        "    c.affected_hardware = row.Affected_Hardware,\n",
        "    c.network_requirements = row.Network_Requirements,\n",
        "    c.affected_protocols = row.Affected_Protocols,\n",
        "    c.authentication_required = row.Authentication_Required,\n",
        "    c.privileges_required = row.Privileges_Required,\n",
        "    c.user_interaction_required = row.User_Interaction_Required,\n",
        "    c.vendor = row.Vendor\n",
        "\n",
        "// Optionally, if there are relationships (e.g., linking vulnerabilities with protocols, software components, etc.)\n",
        "FOREACH (protocol IN split(row.Affected_Protocols, '|') |\n",
        "    MERGE (p:Protocol {name: trim(protocol)})\n",
        "    MERGE (c)-[:AFFECTS_PROTOCOL]->(p))\n",
        "    \"\"\"\n"
      ],
      "metadata": {
        "id": "EPOewFsm5DZv"
      },
      "execution_count": 17,
      "outputs": []
    },
    {
      "cell_type": "code",
      "source": [
        "graph"
      ],
      "metadata": {
        "colab": {
          "base_uri": "https://localhost:8080/"
        },
        "id": "UeRdr8nm7rAw",
        "outputId": "07d3ea55-7705-4739-bc3c-2fb3937978d7"
      },
      "execution_count": 18,
      "outputs": [
        {
          "output_type": "execute_result",
          "data": {
            "text/plain": [
              "<langchain_community.graphs.neo4j_graph.Neo4jGraph at 0x7c5231856560>"
            ]
          },
          "metadata": {},
          "execution_count": 18
        }
      ]
    },
    {
      "cell_type": "markdown",
      "source": [],
      "metadata": {
        "id": "jliMlsXCO-Jy"
      }
    },
    {
      "cell_type": "code",
      "source": [
        "graph.query(movie_query)"
      ],
      "metadata": {
        "colab": {
          "base_uri": "https://localhost:8080/"
        },
        "id": "6YeLz1st7rp2",
        "outputId": "d8e26a8b-e924-4adf-969a-0c54e13960bf"
      },
      "execution_count": 19,
      "outputs": [
        {
          "output_type": "execute_result",
          "data": {
            "text/plain": [
              "[]"
            ]
          },
          "metadata": {},
          "execution_count": 19
        }
      ]
    },
    {
      "cell_type": "code",
      "source": [
        "graph.refresh_schema()\n",
        "print(graph.schema)"
      ],
      "metadata": {
        "colab": {
          "base_uri": "https://localhost:8080/"
        },
        "id": "nQm5agJA7xnH",
        "outputId": "66fc905b-5a7c-4ef9-d182-23ac5edb0597"
      },
      "execution_count": 20,
      "outputs": [
        {
          "output_type": "stream",
          "name": "stdout",
          "text": [
            "Node properties:\n",
            "CVE {id: STRING, cvss_v2: FLOAT, severity: STRING, cwe_id: STRING, operating_system: STRING, software_component: STRING, impact: STRING, vendor: STRING, network_requirements: STRING, affected_protocols: STRING, version: STRING, authentication_required: STRING, user_interaction_required: STRING, privileges_required: STRING, affected_hardware: STRING, cvss_v3: FLOAT}\n",
            "Protocol {name: STRING}\n",
            "Relationship properties:\n",
            "\n",
            "The relationships:\n",
            "(:CVE)-[:AFFECTS_PROTOCOL]->(:Protocol)\n"
          ]
        }
      ]
    },
    {
      "cell_type": "code",
      "source": [
        "from langchain.chains import GraphCypherQAChain\n",
        "chain=GraphCypherQAChain.from_llm(llm=llm,graph=graph,verbose=True, allow_dangerous_requests=True)\n",
        "chain"
      ],
      "metadata": {
        "colab": {
          "base_uri": "https://localhost:8080/"
        },
        "id": "tGUot6uZ8wnj",
        "outputId": "d9a0e122-9f3d-4ff4-af5c-39ee378c5a3a"
      },
      "execution_count": 26,
      "outputs": [
        {
          "output_type": "execute_result",
          "data": {
            "text/plain": [
              "GraphCypherQAChain(verbose=True, graph=<langchain_community.graphs.neo4j_graph.Neo4jGraph object at 0x7c5231856560>, cypher_generation_chain=LLMChain(verbose=False, prompt=PromptTemplate(input_variables=['question', 'schema'], input_types={}, partial_variables={}, template='Task:Generate Cypher statement to query a graph database.\\nInstructions:\\nUse only the provided relationship types and properties in the schema.\\nDo not use any other relationship types or properties that are not provided.\\nSchema:\\n{schema}\\nNote: Do not include any explanations or apologies in your responses.\\nDo not respond to any questions that might ask anything else than for you to construct a Cypher statement.\\nDo not include any text except the generated Cypher statement.\\n\\nThe question is:\\n{question}'), llm=ChatGroq(client=<groq.resources.chat.completions.Completions object at 0x7c51ff268880>, async_client=<groq.resources.chat.completions.AsyncCompletions object at 0x7c51ff269540>, model_name='Gemma2-9b-It', model_kwargs={}, groq_api_key=SecretStr('**********')), output_parser=StrOutputParser(), llm_kwargs={}), qa_chain=LLMChain(verbose=False, prompt=PromptTemplate(input_variables=['context', 'question'], input_types={}, partial_variables={}, template=\"You are an assistant that helps to form nice and human understandable answers.\\nThe information part contains the provided information that you must use to construct an answer.\\nThe provided information is authoritative, you must never doubt it or try to use your internal knowledge to correct it.\\nMake the answer sound as a response to the question. Do not mention that you based the result on the given information.\\nHere is an example:\\n\\nQuestion: Which managers own Neo4j stocks?\\nContext:[manager:CTL LLC, manager:JANE STREET GROUP LLC]\\nHelpful Answer: CTL LLC, JANE STREET GROUP LLC owns Neo4j stocks.\\n\\nFollow this example when generating answers.\\nIf the provided information is empty, say that you don't know the answer.\\nInformation:\\n{context}\\n\\nQuestion: {question}\\nHelpful Answer:\"), llm=ChatGroq(client=<groq.resources.chat.completions.Completions object at 0x7c51ff268880>, async_client=<groq.resources.chat.completions.AsyncCompletions object at 0x7c51ff269540>, model_name='Gemma2-9b-It', model_kwargs={}, groq_api_key=SecretStr('**********')), output_parser=StrOutputParser(), llm_kwargs={}), graph_schema='Node properties are the following:\\nCVE {id: STRING, cvss_v2: FLOAT, severity: STRING, cwe_id: STRING, operating_system: STRING, software_component: STRING, impact: STRING, vendor: STRING, network_requirements: STRING, affected_protocols: STRING, version: STRING, authentication_required: STRING, user_interaction_required: STRING, privileges_required: STRING, affected_hardware: STRING, cvss_v3: FLOAT},Protocol {name: STRING}\\nRelationship properties are the following:\\n\\nThe relationships are the following:\\n(:CVE)-[:AFFECTS_PROTOCOL]->(:Protocol)', allow_dangerous_requests=True)"
            ]
          },
          "metadata": {},
          "execution_count": 26
        }
      ]
    },
    {
      "cell_type": "code",
      "source": [
        "response=chain.invoke({\"query\":\"CVE-2004-0167 having what attacks and Operating system?\"})\n",
        "\n",
        "response\n"
      ],
      "metadata": {
        "colab": {
          "base_uri": "https://localhost:8080/"
        },
        "id": "53tukPgo9Ab9",
        "outputId": "b504aac1-d000-4c94-918b-74de929c5a45"
      },
      "execution_count": 27,
      "outputs": [
        {
          "output_type": "stream",
          "name": "stdout",
          "text": [
            "\n",
            "\n",
            "\u001b[1m> Entering new GraphCypherQAChain chain...\u001b[0m\n",
            "Generated Cypher:\n",
            "\u001b[32;1m\u001b[1;3mMATCH (c:CVE {id: 'CVE-2004-0167'})-[:AFFECTS_PROTOCOL]->(p:Protocol)\n",
            "RETURN c.operating_system, p.name \n",
            "\u001b[0m\n",
            "Full Context:\n",
            "\u001b[32;1m\u001b[1;3m[]\u001b[0m\n",
            "\n",
            "\u001b[1m> Finished chain.\u001b[0m\n"
          ]
        },
        {
          "output_type": "execute_result",
          "data": {
            "text/plain": [
              "{'query': 'CVE-2004-0167 having what attacks and Operating system?',\n",
              " 'result': \"I don't know the answer. \\n\"}"
            ]
          },
          "metadata": {},
          "execution_count": 27
        }
      ]
    },
    {
      "cell_type": "code",
      "source": [
        "response=chain.invoke({\"query\":\"Find vulnerabilities related to the ip_input.c software component.\"})\n",
        "\n",
        "response"
      ],
      "metadata": {
        "colab": {
          "base_uri": "https://localhost:8080/"
        },
        "id": "mlipgwFC9WD4",
        "outputId": "ae987e50-ce3e-478b-b3eb-8cee01389830"
      },
      "execution_count": 29,
      "outputs": [
        {
          "output_type": "stream",
          "name": "stdout",
          "text": [
            "\n",
            "\n",
            "\u001b[1m> Entering new GraphCypherQAChain chain...\u001b[0m\n",
            "Generated Cypher:\n",
            "\u001b[32;1m\u001b[1;3mMATCH (c:CVE {software_component: 'ip_input.c'}) RETURN c\n",
            "\u001b[0m\n",
            "Full Context:\n",
            "\u001b[32;1m\u001b[1;3m[{'c': {'severity': 'MEDIUM', 'cwe_id': 'CWE-20', 'cvss_v2': 5.0, 'impact': 'denial of service (crash or hang)', 'operating_system': 'BSD-derived', 'id': 'CVE-1999-0001', 'software_component': 'ip_input.c', 'network_requirements': 'remote', 'affected_protocols': 'TCP/IP'}}]\u001b[0m\n",
            "\n",
            "\u001b[1m> Finished chain.\u001b[0m\n"
          ]
        },
        {
          "output_type": "execute_result",
          "data": {
            "text/plain": [
              "{'query': 'Find vulnerabilities related to the ip_input.c software component.',\n",
              " 'result': 'CVE-1999-0001 is a vulnerability related to the ip_input.c software component. \\n'}"
            ]
          },
          "metadata": {},
          "execution_count": 29
        }
      ]
    },
    {
      "cell_type": "code",
      "source": [
        "response=chain.invoke({\"query\":\"Show me vulnerabilities that affect the TCP/IP protocol.\"})\n",
        "\n",
        "response"
      ],
      "metadata": {
        "colab": {
          "base_uri": "https://localhost:8080/"
        },
        "id": "Sjfw-Dzp9gN4",
        "outputId": "442a29d4-d35e-43cd-d4e7-9eb3536f2294"
      },
      "execution_count": 30,
      "outputs": [
        {
          "output_type": "stream",
          "name": "stdout",
          "text": [
            "\n",
            "\n",
            "\u001b[1m> Entering new GraphCypherQAChain chain...\u001b[0m\n",
            "Generated Cypher:\n",
            "\u001b[32;1m\u001b[1;3mMATCH (c:CVE)-[:AFFECTS_PROTOCOL]->(p:Protocol) WHERE p.name = 'TCP/IP' RETURN c\u001b[0m\n",
            "Full Context:\n",
            "\u001b[32;1m\u001b[1;3m[{'c': {'severity': 'MEDIUM', 'cwe_id': 'CWE-20', 'cvss_v2': 5.0, 'impact': 'denial of service (crash or hang)', 'operating_system': 'BSD-derived', 'id': 'CVE-1999-0001', 'software_component': 'ip_input.c', 'network_requirements': 'remote', 'affected_protocols': 'TCP/IP'}}, {'c': {'severity': 'HIGH', 'cwe_id': 'NVD-CWE-Other', 'vendor': 'Foundry Networks', 'cvss_v2': 7.5, 'impact': 'spoof or hijack sessions', 'affected_hardware': 'ServerIron switches', 'id': 'CVE-2000-0178', 'software_component': 'ServerIron switches', 'network_requirements': 'remote', 'affected_protocols': 'TCP/IP'}}, {'c': {'severity': 'LOW', 'cwe_id': 'NVD-CWE-Other', 'vendor': 'Microsoft', 'cvss_v2': 2.1, 'impact': 'denial of service', 'operating_system': 'Windows', 'id': 'CVE-2000-0232', 'software_component': 'TCP/IP Printing Services, aka Print Services for Unix', 'network_requirements': 'remote', 'affected_protocols': 'TCP/IP'}}, {'c': {'severity': 'MEDIUM', 'cwe_id': 'NVD-CWE-Other', 'cvss_v2': 5.0, 'impact': 'denial of service (CPU consumption)', 'operating_system': 'Linux', 'id': 'CVE-2003-0364', 'software_component': 'TCP/IP fragment reassembly handling in the Linux kernel', 'network_requirements': 'remote', 'affected_protocols': 'TCP/IP', 'version': '2.4'}}, {'c': {'severity': 'MEDIUM', 'cwe_id': 'NVD-CWE-Other', 'vendor': 'HP', 'cvss_v2': 5.0, 'impact': 'denial of service (hang)', 'id': 'CVE-2004-0525', 'software_component': 'HP Integrated Lights-Out', 'network_requirements': 'remote', 'affected_protocols': 'TCP/IP', 'version': '1.10 and other versions before 1.55'}}, {'c': {'severity': 'HIGH', 'cwe_id': 'NVD-CWE-noinfo', 'vendor': 'Oracle', 'cvss_v2': 7.8, 'impact': 'affect availability', 'operating_system': 'Oracle Solaris', 'id': 'CVE-2012-0094', 'software_component': 'Oracle Solaris', 'network_requirements': 'remote', 'affected_protocols': 'TCP/IP', 'version': '9, 10, and 11 Express'}}, {'c': {'severity': 'LOW', 'cwe_id': 'NVD-CWE-noinfo', 'vendor': 'Oracle', 'cvss_v2': 3.6, 'impact': 'affect confidentiality and availability', 'operating_system': 'Oracle Solaris', 'id': 'CVE-2012-0109', 'software_component': 'Oracle Solaris', 'network_requirements': 'local', 'affected_protocols': 'TCP/IP', 'version': '8, 9, 10, and 11 Express'}}]\u001b[0m\n",
            "\n",
            "\u001b[1m> Finished chain.\u001b[0m\n"
          ]
        },
        {
          "output_type": "execute_result",
          "data": {
            "text/plain": [
              "{'query': 'Show me vulnerabilities that affect the TCP/IP protocol.',\n",
              " 'result': 'CVE-1999-0001, CVE-2000-0178, CVE-2000-0232, CVE-2003-0364, CVE-2004-0525, CVE-2012-0094, CVE-2012-0109  \\n'}"
            ]
          },
          "metadata": {},
          "execution_count": 30
        }
      ]
    },
    {
      "cell_type": "code",
      "source": [
        "response=chain.invoke({\"query\":\"Show me vulnerabilities related to Microsoft products.\"})\n",
        "\n",
        "response"
      ],
      "metadata": {
        "colab": {
          "base_uri": "https://localhost:8080/"
        },
        "id": "ksOQww5J-Dqa",
        "outputId": "46698702-c23d-4f1e-d785-4b4ea695d279"
      },
      "execution_count": 31,
      "outputs": [
        {
          "output_type": "stream",
          "name": "stdout",
          "text": [
            "\n",
            "\n",
            "\u001b[1m> Entering new GraphCypherQAChain chain...\u001b[0m\n",
            "Generated Cypher:\n",
            "\u001b[32;1m\u001b[1;3mMATCH (c:CVE) WHERE c.vendor = 'Microsoft'\n",
            "RETURN c  \n",
            "\u001b[0m\n",
            "Full Context:\n",
            "\u001b[32;1m\u001b[1;3m[{'c': {'severity': 'MEDIUM', 'cwe_id': 'NVD-CWE-Other', 'vendor': 'Microsoft', 'cvss_v2': 5.0, 'impact': 'bypass access restrictions', 'operating_system': 'Windows', 'id': 'CVE-1999-0012', 'software_component': 'web servers', 'network_requirements': 'remote'}}, {'c': {'severity': 'HIGH', 'cwe_id': 'NVD-CWE-Other', 'vendor': 'Microsoft', 'cvss_v2': 10.0, 'impact': 'read and delete shares', 'operating_system': 'Windows', 'id': 'CVE-1999-0119', 'software_component': 'NT 4.0 beta'}}, {'c': {'severity': 'HIGH', 'cwe_id': 'NVD-CWE-Other', 'user_interaction_required': 'Yes', 'vendor': 'Microsoft', 'cvss_v2': 7.5, 'impact': 'remote command execution', 'operating_system': 'Windows', 'id': 'CVE-1999-0280', 'software_component': 'Microsoft Internet Explorer', 'network_requirements': 'remote'}}, {'c': {'severity': 'HIGH', 'cwe_id': 'NVD-CWE-Other', 'user_interaction_required': 'Yes', 'vendor': 'Microsoft', 'cvss_v2': 7.5, 'impact': 'arbitrary execution of Visual Basic programs', 'operating_system': 'Windows', 'id': 'CVE-1999-0354', 'software_component': 'Internet Explorer, Word 97, Outlook', 'version': '4.x, 5.x'}}, {'c': {'severity': 'HIGH', 'cwe_id': 'NVD-CWE-Other', 'vendor': 'Microsoft', 'cvss_v2': 7.2, 'impact': 'code execution', 'operating_system': 'Windows', 'id': 'CVE-1999-0360', 'software_component': 'MS Site Server 2.0 with IIS 4', 'network_requirements': 'remote', 'affected_protocols': 'HTTP'}}, {'c': {'severity': 'HIGH', 'cwe_id': 'NVD-CWE-Other', 'vendor': 'Microsoft', 'cvss_v2': 10.0, 'impact': 'data access', 'id': 'CVE-1999-0364', 'software_component': 'Microsoft Access 97', 'version': '97', 'authentication_required': 'No'}}, {'c': {'severity': 'HIGH', 'cwe_id': 'CWE-287', 'vendor': 'Microsoft', 'cvss_v2': 7.5, 'impact': 'access to network shares', 'operating_system': 'Windows NT 4.0', 'id': 'CVE-1999-0366', 'software_component': 'Service Pack 4', 'version': '4.0', 'authentication_required': 'No'}}, {'c': {'severity': 'HIGH', 'cwe_id': 'NVD-CWE-Other', 'user_interaction_required': 'Yes', 'vendor': 'Microsoft', 'cvss_v2': 7.5, 'impact': 'code execution', 'id': 'CVE-1999-0379', 'software_component': 'Microsoft Taskpads', 'network_requirements': 'remote', 'affected_protocols': 'HTTP'}}, {'c': {'severity': 'HIGH', 'cwe_id': 'NVD-CWE-Other', 'user_interaction_required': 'Yes', 'vendor': 'Microsoft', 'cvss_v2': 7.2, 'impact': 'code execution with elevated privileges', 'operating_system': 'Windows NT', 'id': 'CVE-1999-0382', 'software_component': 'screen saver', 'network_requirements': 'local'}}, {'c': {'severity': 'MEDIUM', 'cwe_id': 'NVD-CWE-Other', 'vendor': 'Microsoft', 'cvss_v2': 5.0, 'impact': 'read files on the server', 'operating_system': 'Windows', 'id': 'CVE-1999-0386', 'software_component': 'Microsoft Personal Web Server, FrontPage Personal Web Server', 'network_requirements': 'remote', 'authentication_required': 'No'}}]\u001b[0m\n",
            "\n",
            "\u001b[1m> Finished chain.\u001b[0m\n"
          ]
        },
        {
          "output_type": "execute_result",
          "data": {
            "text/plain": [
              "{'query': 'Show me vulnerabilities related to Microsoft products.',\n",
              " 'result': 'Here are the vulnerabilities related to Microsoft products:\\n\\n* **CVE-1999-0012:**  A MEDIUM severity vulnerability in web servers for Windows that allows bypass access restrictions. \\n* **CVE-1999-0119:** A HIGH severity vulnerability in NT 4.0 beta that allows read and delete shares.\\n* **CVE-1999-0280:** A HIGH severity vulnerability in Microsoft Internet Explorer for Windows that allows remote command execution. User interaction is required.\\n* **CVE-1999-0354:** A HIGH severity vulnerability in Internet Explorer, Word 97, and Outlook for Windows that allows arbitrary execution of Visual Basic programs. \\n* **CVE-1999-0360:** A HIGH severity vulnerability in MS Site Server 2.0 with IIS 4 for Windows that allows code execution. This vulnerability requires remote access and exploits the HTTP protocol.\\n* **CVE-1999-0364:** A HIGH severity vulnerability in Microsoft Access 97 for Windows that allows data access. This vulnerability does not require authentication.\\n* **CVE-1999-0366:** A HIGH severity vulnerability in Windows NT 4.0 Service Pack 4 that allows access to network shares. This vulnerability does not require authentication.\\n* **CVE-1999-0379:** A HIGH severity vulnerability in Microsoft Taskpads for Windows that allows code execution. User interaction is required and exploits the HTTP protocol.\\n* **CVE-1999-0382:** A HIGH severity vulnerability in the Windows NT screen saver that allows code execution with elevated privileges. This vulnerability requires local access.\\n* **CVE-1999-0386:** A MEDIUM severity vulnerability in Microsoft Personal Web Server and FrontPage Personal Web Server for Windows that allows reading files on the server. This vulnerability requires remote access and does not require authentication. \\n\\n\\n\\n'}"
            ]
          },
          "metadata": {},
          "execution_count": 31
        }
      ]
    },
    {
      "cell_type": "code",
      "source": [
        "response=chain.invoke({\"query\":\"What are the details for CVE-1999-0013?\"})\n",
        "response"
      ],
      "metadata": {
        "colab": {
          "base_uri": "https://localhost:8080/"
        },
        "id": "ca614gfG-2ge",
        "outputId": "1d48f064-a76c-4927-85ad-53840380f796"
      },
      "execution_count": 32,
      "outputs": [
        {
          "output_type": "stream",
          "name": "stdout",
          "text": [
            "\n",
            "\n",
            "\u001b[1m> Entering new GraphCypherQAChain chain...\u001b[0m\n",
            "Generated Cypher:\n",
            "\u001b[32;1m\u001b[1;3mMATCH (c:CVE {id: 'CVE-1999-0013'}) RETURN c  \n",
            "\u001b[0m\n",
            "Full Context:\n",
            "\u001b[32;1m\u001b[1;3m[{'c': {'severity': 'HIGH', 'cwe_id': 'NVD-CWE-Other', 'cvss_v2': 7.5, 'impact': 'other local users can access remote accounts', 'id': 'CVE-1999-0013', 'software_component': 'ssh-agent program', 'network_requirements': 'local', 'affected_protocols': 'SSH', 'authentication_required': 'Yes'}}]\u001b[0m\n",
            "\n",
            "\u001b[1m> Finished chain.\u001b[0m\n"
          ]
        },
        {
          "output_type": "execute_result",
          "data": {
            "text/plain": [
              "{'query': 'What are the details for CVE-1999-0013?',\n",
              " 'result': 'The CVE ID is CVE-1999-0013. The severity is HIGH with a CVSS v2 score of 7.5. It affects the ssh-agent program and if exploited, other local users can access remote accounts. Authentication is required. \\n'}"
            ]
          },
          "metadata": {},
          "execution_count": 32
        }
      ]
    }
  ]
}