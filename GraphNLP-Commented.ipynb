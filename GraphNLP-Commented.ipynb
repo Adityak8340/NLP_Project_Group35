{
 "cells": [
  {
   "cell_type": "code",
   "execution_count": 1,
   "metadata": {
    "colab": {
     "base_uri": "https://localhost:8080/"
    },
    "id": "WYhB2OARw_Nq",
    "outputId": "13b374d2-ff0d-48ae-95e0-e92e139060be"
   },
   "outputs": [
    {
     "name": "stdout",
     "output_type": "stream",
     "text": [
      "^C\n"
     ]
    },
    {
     "name": "stderr",
     "output_type": "stream",
     "text": [
      "ERROR: pip's dependency resolver does not currently take into account all the packages that are installed. This behaviour is the source of the following dependency conflicts.\n",
      "tables 3.8.0 requires blosc2~=2.0.0, which is not installed.\n",
      "tables 3.8.0 requires cython>=0.29.21, which is not installed.\n",
      "anaconda-cloud-auth 0.1.3 requires pydantic<2.0, but you have pydantic 2.9.2 which is incompatible.\n",
      "python-lsp-black 1.2.1 requires black>=22.3.0, but you have black 0.0 which is incompatible.\n"
     ]
    }
   ],
   "source": [
    "#Importing the required libraries\n",
    "!pip install --upgrade --quiet  langchain langchain-community langchain-groq neo4j"
   ]
  },
  {
   "cell_type": "code",
   "execution_count": null,
   "metadata": {
    "id": "OBL8Iqs4xoeh"
   },
   "outputs": [],
   "source": [
    "# Neo4j Aura connection details\n",
    "# Wait 60 seconds before connecting using these details, or login to https://console.neo4j.io to validate the Aura Instance is available\n",
    "NEO4J_URI=\"neo4j+s://6ed9b7da.databases.neo4j.io\"\n",
    "NEO4J_USERNAME=\"neo4j\"\n",
    "NEO4J_PASSWORD=\"14V4z2NxsI8laZL3tvaAvyJzIdgyZCwgxKHbRWObatM\"\n"
   ]
  },
  {
   "cell_type": "code",
   "execution_count": null,
   "metadata": {
    "id": "uDS6XHgbycee"
   },
   "outputs": [],
   "source": [
    "# Set the environment variables\n",
    "import os\n",
    "os.environ[\"NEO4J_URI\"]=NEO4J_URI\n",
    "os.environ[\"NEO4J_USERNAME\"]=NEO4J_USERNAME\n",
    "os.environ[\"NEO4J_PASSWORD\"]=NEO4J_PASSWORD"
   ]
  },
  {
   "cell_type": "code",
   "execution_count": null,
   "metadata": {
    "id": "5rikUUiCymWG"
   },
   "outputs": [],
   "source": [
    "# create a graph object\n",
    "from langchain_community.graphs import Neo4jGraph\n",
    "graph=Neo4jGraph(\n",
    "    url=NEO4J_URI,\n",
    "    username=NEO4J_USERNAME,\n",
    "    password=NEO4J_PASSWORD,\n",
    ")"
   ]
  },
  {
   "cell_type": "code",
   "execution_count": 5,
   "metadata": {
    "colab": {
     "base_uri": "https://localhost:8080/"
    },
    "id": "j6Zy5Bc_y1oN",
    "outputId": "a0b43989-d92e-409c-8db2-ba714dd1b1bc"
   },
   "outputs": [
    {
     "data": {
      "text/plain": [
       "<langchain_community.graphs.neo4j_graph.Neo4jGraph at 0x7c5231856560>"
      ]
     },
     "execution_count": 5,
     "metadata": {},
     "output_type": "execute_result"
    }
   ],
   "source": [
    "graph"
   ]
  },
  {
   "cell_type": "code",
   "execution_count": null,
   "metadata": {
    "id": "55sZpcz8y2dx"
   },
   "outputs": [],
   "source": [
    "# set the groq api key\n",
    "groq_api_key=\"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\""
   ]
  },
  {
   "cell_type": "code",
   "execution_count": null,
   "metadata": {
    "colab": {
     "base_uri": "https://localhost:8080/"
    },
    "id": "YtqR-fXVzxXZ",
    "outputId": "37904c72-06e9-4e35-d0b3-4e7e194b84ee"
   },
   "outputs": [
    {
     "data": {
      "text/plain": [
       "ChatGroq(client=<groq.resources.chat.completions.Completions object at 0x7c51ff268880>, async_client=<groq.resources.chat.completions.AsyncCompletions object at 0x7c51ff269540>, model_name='Gemma2-9b-It', model_kwargs={}, groq_api_key=SecretStr('**********'))"
      ]
     },
     "execution_count": 22,
     "metadata": {},
     "output_type": "execute_result"
    }
   ],
   "source": [
    "# create a ChatGroq object\n",
    "from langchain_groq import ChatGroq\n",
    "\n",
    "llm=ChatGroq(groq_api_key=groq_api_key,model_name=\"Gemma2-9b-It\")\n",
    "llm"
   ]
  },
  {
   "cell_type": "code",
   "execution_count": null,
   "metadata": {
    "colab": {
     "base_uri": "https://localhost:8080/"
    },
    "id": "6mbEhsdS1Y0N",
    "outputId": "251c0b5b-2046-48c5-f850-6e4f691fc2c6"
   },
   "outputs": [
    {
     "name": "stdout",
     "output_type": "stream",
     "text": [
      "\u001b[?25l   \u001b[90m━━━━━━━━━━━━━━━━━━━━━━━━━━━━━━━━━━━━━━━━\u001b[0m \u001b[32m0.0/208.1 kB\u001b[0m \u001b[31m?\u001b[0m eta \u001b[36m-:--:--\u001b[0m\r\u001b[2K   \u001b[91m━━━━━━━━━━━━━━━━━━━━━━━━━━━\u001b[0m\u001b[91m╸\u001b[0m\u001b[90m━━━━━━━━━━━━\u001b[0m \u001b[32m143.4/208.1 kB\u001b[0m \u001b[31m4.1 MB/s\u001b[0m eta \u001b[36m0:00:01\u001b[0m\r\u001b[2K   \u001b[90m━━━━━━━━━━━━━━━━━━━━━━━━━━━━━━━━━━━━━━━━\u001b[0m \u001b[32m208.1/208.1 kB\u001b[0m \u001b[31m3.5 MB/s\u001b[0m eta \u001b[36m0:00:00\u001b[0m\n",
      "\u001b[?25h"
     ]
    }
   ],
   "source": [
    "# Install the experimental package\n",
    "!pip install --upgrade --quiet langchain_experimental"
   ]
  },
  {
   "cell_type": "code",
   "execution_count": null,
   "metadata": {
    "id": "8ripzwTX0q1X"
   },
   "outputs": [],
   "source": [
    "# Import the LLMGraphTransformer\n",
    "from langchain_experimental.graph_transformers import LLMGraphTransformer\n",
    "llm_transformer=LLMGraphTransformer(llm=llm)"
   ]
  },
  {
   "cell_type": "code",
   "execution_count": null,
   "metadata": {
    "id": "EPOewFsm5DZv"
   },
   "outputs": [],
   "source": [
    "### Load the dataset of CVEs\n",
    "\n",
    "cve_query=\"\"\"\n",
    "LOAD CSV WITH HEADERS FROM 'https://raw.githubusercontent.com/Adityak8340/NLP_Project_Group35/main/cleaned_final_data_v2.csv' AS row\n",
    "\n",
    "MERGE (c:CVE {id: row.`CVE-ID`})\n",
    "SET c.cvss_v3 = toFloat(row.`CVSS-V3`),\n",
    "    c.cvss_v2 = toFloat(row.`CVSS-V2`),\n",
    "    c.severity = row.SEVERITY,\n",
    "    c.rip = row.RIP,\n",
    "    c.cwe_id = row.`CWE-ID`,\n",
    "    c.operating_system = row.Operating_System,\n",
    "    c.software_component = row.Software_Component,\n",
    "    c.version = row.Version,\n",
    "    c.impact = row.Impact,\n",
    "    c.affected_hardware = row.Affected_Hardware,\n",
    "    c.network_requirements = row.Network_Requirements,\n",
    "    c.affected_protocols = row.Affected_Protocols,\n",
    "    c.authentication_required = row.Authentication_Required,\n",
    "    c.privileges_required = row.Privileges_Required,\n",
    "    c.user_interaction_required = row.User_Interaction_Required,\n",
    "    c.vendor = row.Vendor\n",
    "\n",
    "// Optionally, if there are relationships (e.g., linking vulnerabilities with protocols, software components, etc.)\n",
    "FOREACH (protocol IN split(row.Affected_Protocols, '|') |\n",
    "    MERGE (p:Protocol {name: trim(protocol)})\n",
    "    MERGE (c)-[:AFFECTS_PROTOCOL]->(p))\n",
    "    \"\"\"\n"
   ]
  },
  {
   "cell_type": "code",
   "execution_count": 18,
   "metadata": {
    "colab": {
     "base_uri": "https://localhost:8080/"
    },
    "id": "UeRdr8nm7rAw",
    "outputId": "07d3ea55-7705-4739-bc3c-2fb3937978d7"
   },
   "outputs": [
    {
     "data": {
      "text/plain": [
       "<langchain_community.graphs.neo4j_graph.Neo4jGraph at 0x7c5231856560>"
      ]
     },
     "execution_count": 18,
     "metadata": {},
     "output_type": "execute_result"
    }
   ],
   "source": [
    "graph"
   ]
  },
  {
   "cell_type": "markdown",
   "metadata": {
    "id": "jliMlsXCO-Jy"
   },
   "source": []
  },
  {
   "cell_type": "code",
   "execution_count": null,
   "metadata": {
    "colab": {
     "base_uri": "https://localhost:8080/"
    },
    "id": "6YeLz1st7rp2",
    "outputId": "d8e26a8b-e924-4adf-969a-0c54e13960bf"
   },
   "outputs": [
    {
     "data": {
      "text/plain": [
       "[]"
      ]
     },
     "execution_count": 19,
     "metadata": {},
     "output_type": "execute_result"
    }
   ],
   "source": [
    "graph.query(cve_query)"
   ]
  },
  {
   "cell_type": "code",
   "execution_count": null,
   "metadata": {
    "colab": {
     "base_uri": "https://localhost:8080/"
    },
    "id": "nQm5agJA7xnH",
    "outputId": "66fc905b-5a7c-4ef9-d182-23ac5edb0597"
   },
   "outputs": [
    {
     "name": "stdout",
     "output_type": "stream",
     "text": [
      "Node properties:\n",
      "CVE {id: STRING, cvss_v2: FLOAT, severity: STRING, cwe_id: STRING, operating_system: STRING, software_component: STRING, impact: STRING, vendor: STRING, network_requirements: STRING, affected_protocols: STRING, version: STRING, authentication_required: STRING, user_interaction_required: STRING, privileges_required: STRING, affected_hardware: STRING, cvss_v3: FLOAT}\n",
      "Protocol {name: STRING}\n",
      "Relationship properties:\n",
      "\n",
      "The relationships:\n",
      "(:CVE)-[:AFFECTS_PROTOCOL]->(:Protocol)\n"
     ]
    }
   ],
   "source": [
    "# Print the schema of the graph\n",
    "graph.refresh_schema()\n",
    "print(graph.schema)"
   ]
  },
  {
   "cell_type": "code",
   "execution_count": null,
   "metadata": {
    "colab": {
     "base_uri": "https://localhost:8080/"
    },
    "id": "tGUot6uZ8wnj",
    "outputId": "d9a0e122-9f3d-4ff4-af5c-39ee378c5a3a"
   },
   "outputs": [
    {
     "data": {
      "text/plain": [
       "GraphCypherQAChain(verbose=True, graph=<langchain_community.graphs.neo4j_graph.Neo4jGraph object at 0x7c5231856560>, cypher_generation_chain=LLMChain(verbose=False, prompt=PromptTemplate(input_variables=['question', 'schema'], input_types={}, partial_variables={}, template='Task:Generate Cypher statement to query a graph database.\\nInstructions:\\nUse only the provided relationship types and properties in the schema.\\nDo not use any other relationship types or properties that are not provided.\\nSchema:\\n{schema}\\nNote: Do not include any explanations or apologies in your responses.\\nDo not respond to any questions that might ask anything else than for you to construct a Cypher statement.\\nDo not include any text except the generated Cypher statement.\\n\\nThe question is:\\n{question}'), llm=ChatGroq(client=<groq.resources.chat.completions.Completions object at 0x7c51ff268880>, async_client=<groq.resources.chat.completions.AsyncCompletions object at 0x7c51ff269540>, model_name='Gemma2-9b-It', model_kwargs={}, groq_api_key=SecretStr('**********')), output_parser=StrOutputParser(), llm_kwargs={}), qa_chain=LLMChain(verbose=False, prompt=PromptTemplate(input_variables=['context', 'question'], input_types={}, partial_variables={}, template=\"You are an assistant that helps to form nice and human understandable answers.\\nThe information part contains the provided information that you must use to construct an answer.\\nThe provided information is authoritative, you must never doubt it or try to use your internal knowledge to correct it.\\nMake the answer sound as a response to the question. Do not mention that you based the result on the given information.\\nHere is an example:\\n\\nQuestion: Which managers own Neo4j stocks?\\nContext:[manager:CTL LLC, manager:JANE STREET GROUP LLC]\\nHelpful Answer: CTL LLC, JANE STREET GROUP LLC owns Neo4j stocks.\\n\\nFollow this example when generating answers.\\nIf the provided information is empty, say that you don't know the answer.\\nInformation:\\n{context}\\n\\nQuestion: {question}\\nHelpful Answer:\"), llm=ChatGroq(client=<groq.resources.chat.completions.Completions object at 0x7c51ff268880>, async_client=<groq.resources.chat.completions.AsyncCompletions object at 0x7c51ff269540>, model_name='Gemma2-9b-It', model_kwargs={}, groq_api_key=SecretStr('**********')), output_parser=StrOutputParser(), llm_kwargs={}), graph_schema='Node properties are the following:\\nCVE {id: STRING, cvss_v2: FLOAT, severity: STRING, cwe_id: STRING, operating_system: STRING, software_component: STRING, impact: STRING, vendor: STRING, network_requirements: STRING, affected_protocols: STRING, version: STRING, authentication_required: STRING, user_interaction_required: STRING, privileges_required: STRING, affected_hardware: STRING, cvss_v3: FLOAT},Protocol {name: STRING}\\nRelationship properties are the following:\\n\\nThe relationships are the following:\\n(:CVE)-[:AFFECTS_PROTOCOL]->(:Protocol)', allow_dangerous_requests=True)"
      ]
     },
     "execution_count": 26,
     "metadata": {},
     "output_type": "execute_result"
    }
   ],
   "source": [
    "# Creating a chain between the graph and llm\n",
    "from langchain.chains import GraphCypherQAChain\n",
    "chain=GraphCypherQAChain.from_llm(llm=llm,graph=graph,verbose=True, allow_dangerous_requests=True)\n",
    "chain"
   ]
  },
  {
   "cell_type": "code",
   "execution_count": null,
   "metadata": {
    "colab": {
     "base_uri": "https://localhost:8080/"
    },
    "id": "53tukPgo9Ab9",
    "outputId": "b504aac1-d000-4c94-918b-74de929c5a45"
   },
   "outputs": [
    {
     "name": "stdout",
     "output_type": "stream",
     "text": [
      "\n",
      "\n",
      "\u001b[1m> Entering new GraphCypherQAChain chain...\u001b[0m\n",
      "Generated Cypher:\n",
      "\u001b[32;1m\u001b[1;3mMATCH (c:CVE {id: 'CVE-2004-0167'})-[:AFFECTS_PROTOCOL]->(p:Protocol)\n",
      "RETURN c.operating_system, p.name \n",
      "\u001b[0m\n",
      "Full Context:\n",
      "\u001b[32;1m\u001b[1;3m[]\u001b[0m\n",
      "\n",
      "\u001b[1m> Finished chain.\u001b[0m\n"
     ]
    },
    {
     "data": {
      "text/plain": [
       "{'query': 'CVE-2004-0167 having what attacks and Operating system?',\n",
       " 'result': \"I don't know the answer. \\n\"}"
      ]
     },
     "execution_count": 27,
     "metadata": {},
     "output_type": "execute_result"
    }
   ],
   "source": [
    "# Asking a question to the chain\n",
    "response=chain.invoke({\"query\":\"CVE-2004-0167 having what attacks and Operating system?\"})\n",
    "\n",
    "response\n"
   ]
  },
  {
   "cell_type": "code",
   "execution_count": 29,
   "metadata": {
    "colab": {
     "base_uri": "https://localhost:8080/"
    },
    "id": "mlipgwFC9WD4",
    "outputId": "ae987e50-ce3e-478b-b3eb-8cee01389830"
   },
   "outputs": [
    {
     "name": "stdout",
     "output_type": "stream",
     "text": [
      "\n",
      "\n",
      "\u001b[1m> Entering new GraphCypherQAChain chain...\u001b[0m\n",
      "Generated Cypher:\n",
      "\u001b[32;1m\u001b[1;3mMATCH (c:CVE {software_component: 'ip_input.c'}) RETURN c\n",
      "\u001b[0m\n",
      "Full Context:\n",
      "\u001b[32;1m\u001b[1;3m[{'c': {'severity': 'MEDIUM', 'cwe_id': 'CWE-20', 'cvss_v2': 5.0, 'impact': 'denial of service (crash or hang)', 'operating_system': 'BSD-derived', 'id': 'CVE-1999-0001', 'software_component': 'ip_input.c', 'network_requirements': 'remote', 'affected_protocols': 'TCP/IP'}}]\u001b[0m\n",
      "\n",
      "\u001b[1m> Finished chain.\u001b[0m\n"
     ]
    },
    {
     "data": {
      "text/plain": [
       "{'query': 'Find vulnerabilities related to the ip_input.c software component.',\n",
       " 'result': 'CVE-1999-0001 is a vulnerability related to the ip_input.c software component. \\n'}"
      ]
     },
     "execution_count": 29,
     "metadata": {},
     "output_type": "execute_result"
    }
   ],
   "source": [
    "response=chain.invoke({\"query\":\"Find vulnerabilities related to the ip_input.c software component.\"})\n",
    "\n",
    "response"
   ]
  },
  {
   "cell_type": "code",
   "execution_count": 30,
   "metadata": {
    "colab": {
     "base_uri": "https://localhost:8080/"
    },
    "id": "Sjfw-Dzp9gN4",
    "outputId": "442a29d4-d35e-43cd-d4e7-9eb3536f2294"
   },
   "outputs": [
    {
     "name": "stdout",
     "output_type": "stream",
     "text": [
      "\n",
      "\n",
      "\u001b[1m> Entering new GraphCypherQAChain chain...\u001b[0m\n",
      "Generated Cypher:\n",
      "\u001b[32;1m\u001b[1;3mMATCH (c:CVE)-[:AFFECTS_PROTOCOL]->(p:Protocol) WHERE p.name = 'TCP/IP' RETURN c\u001b[0m\n",
      "Full Context:\n",
      "\u001b[32;1m\u001b[1;3m[{'c': {'severity': 'MEDIUM', 'cwe_id': 'CWE-20', 'cvss_v2': 5.0, 'impact': 'denial of service (crash or hang)', 'operating_system': 'BSD-derived', 'id': 'CVE-1999-0001', 'software_component': 'ip_input.c', 'network_requirements': 'remote', 'affected_protocols': 'TCP/IP'}}, {'c': {'severity': 'HIGH', 'cwe_id': 'NVD-CWE-Other', 'vendor': 'Foundry Networks', 'cvss_v2': 7.5, 'impact': 'spoof or hijack sessions', 'affected_hardware': 'ServerIron switches', 'id': 'CVE-2000-0178', 'software_component': 'ServerIron switches', 'network_requirements': 'remote', 'affected_protocols': 'TCP/IP'}}, {'c': {'severity': 'LOW', 'cwe_id': 'NVD-CWE-Other', 'vendor': 'Microsoft', 'cvss_v2': 2.1, 'impact': 'denial of service', 'operating_system': 'Windows', 'id': 'CVE-2000-0232', 'software_component': 'TCP/IP Printing Services, aka Print Services for Unix', 'network_requirements': 'remote', 'affected_protocols': 'TCP/IP'}}, {'c': {'severity': 'MEDIUM', 'cwe_id': 'NVD-CWE-Other', 'cvss_v2': 5.0, 'impact': 'denial of service (CPU consumption)', 'operating_system': 'Linux', 'id': 'CVE-2003-0364', 'software_component': 'TCP/IP fragment reassembly handling in the Linux kernel', 'network_requirements': 'remote', 'affected_protocols': 'TCP/IP', 'version': '2.4'}}, {'c': {'severity': 'MEDIUM', 'cwe_id': 'NVD-CWE-Other', 'vendor': 'HP', 'cvss_v2': 5.0, 'impact': 'denial of service (hang)', 'id': 'CVE-2004-0525', 'software_component': 'HP Integrated Lights-Out', 'network_requirements': 'remote', 'affected_protocols': 'TCP/IP', 'version': '1.10 and other versions before 1.55'}}, {'c': {'severity': 'HIGH', 'cwe_id': 'NVD-CWE-noinfo', 'vendor': 'Oracle', 'cvss_v2': 7.8, 'impact': 'affect availability', 'operating_system': 'Oracle Solaris', 'id': 'CVE-2012-0094', 'software_component': 'Oracle Solaris', 'network_requirements': 'remote', 'affected_protocols': 'TCP/IP', 'version': '9, 10, and 11 Express'}}, {'c': {'severity': 'LOW', 'cwe_id': 'NVD-CWE-noinfo', 'vendor': 'Oracle', 'cvss_v2': 3.6, 'impact': 'affect confidentiality and availability', 'operating_system': 'Oracle Solaris', 'id': 'CVE-2012-0109', 'software_component': 'Oracle Solaris', 'network_requirements': 'local', 'affected_protocols': 'TCP/IP', 'version': '8, 9, 10, and 11 Express'}}]\u001b[0m\n",
      "\n",
      "\u001b[1m> Finished chain.\u001b[0m\n"
     ]
    },
    {
     "data": {
      "text/plain": [
       "{'query': 'Show me vulnerabilities that affect the TCP/IP protocol.',\n",
       " 'result': 'CVE-1999-0001, CVE-2000-0178, CVE-2000-0232, CVE-2003-0364, CVE-2004-0525, CVE-2012-0094, CVE-2012-0109  \\n'}"
      ]
     },
     "execution_count": 30,
     "metadata": {},
     "output_type": "execute_result"
    }
   ],
   "source": [
    "response=chain.invoke({\"query\":\"Show me vulnerabilities that affect the TCP/IP protocol.\"})\n",
    "\n",
    "response"
   ]
  },
  {
   "cell_type": "code",
   "execution_count": 31,
   "metadata": {
    "colab": {
     "base_uri": "https://localhost:8080/"
    },
    "id": "ksOQww5J-Dqa",
    "outputId": "46698702-c23d-4f1e-d785-4b4ea695d279"
   },
   "outputs": [
    {
     "name": "stdout",
     "output_type": "stream",
     "text": [
      "\n",
      "\n",
      "\u001b[1m> Entering new GraphCypherQAChain chain...\u001b[0m\n",
      "Generated Cypher:\n",
      "\u001b[32;1m\u001b[1;3mMATCH (c:CVE) WHERE c.vendor = 'Microsoft'\n",
      "RETURN c  \n",
      "\u001b[0m\n",
      "Full Context:\n",
      "\u001b[32;1m\u001b[1;3m[{'c': {'severity': 'MEDIUM', 'cwe_id': 'NVD-CWE-Other', 'vendor': 'Microsoft', 'cvss_v2': 5.0, 'impact': 'bypass access restrictions', 'operating_system': 'Windows', 'id': 'CVE-1999-0012', 'software_component': 'web servers', 'network_requirements': 'remote'}}, {'c': {'severity': 'HIGH', 'cwe_id': 'NVD-CWE-Other', 'vendor': 'Microsoft', 'cvss_v2': 10.0, 'impact': 'read and delete shares', 'operating_system': 'Windows', 'id': 'CVE-1999-0119', 'software_component': 'NT 4.0 beta'}}, {'c': {'severity': 'HIGH', 'cwe_id': 'NVD-CWE-Other', 'user_interaction_required': 'Yes', 'vendor': 'Microsoft', 'cvss_v2': 7.5, 'impact': 'remote command execution', 'operating_system': 'Windows', 'id': 'CVE-1999-0280', 'software_component': 'Microsoft Internet Explorer', 'network_requirements': 'remote'}}, {'c': {'severity': 'HIGH', 'cwe_id': 'NVD-CWE-Other', 'user_interaction_required': 'Yes', 'vendor': 'Microsoft', 'cvss_v2': 7.5, 'impact': 'arbitrary execution of Visual Basic programs', 'operating_system': 'Windows', 'id': 'CVE-1999-0354', 'software_component': 'Internet Explorer, Word 97, Outlook', 'version': '4.x, 5.x'}}, {'c': {'severity': 'HIGH', 'cwe_id': 'NVD-CWE-Other', 'vendor': 'Microsoft', 'cvss_v2': 7.2, 'impact': 'code execution', 'operating_system': 'Windows', 'id': 'CVE-1999-0360', 'software_component': 'MS Site Server 2.0 with IIS 4', 'network_requirements': 'remote', 'affected_protocols': 'HTTP'}}, {'c': {'severity': 'HIGH', 'cwe_id': 'NVD-CWE-Other', 'vendor': 'Microsoft', 'cvss_v2': 10.0, 'impact': 'data access', 'id': 'CVE-1999-0364', 'software_component': 'Microsoft Access 97', 'version': '97', 'authentication_required': 'No'}}, {'c': {'severity': 'HIGH', 'cwe_id': 'CWE-287', 'vendor': 'Microsoft', 'cvss_v2': 7.5, 'impact': 'access to network shares', 'operating_system': 'Windows NT 4.0', 'id': 'CVE-1999-0366', 'software_component': 'Service Pack 4', 'version': '4.0', 'authentication_required': 'No'}}, {'c': {'severity': 'HIGH', 'cwe_id': 'NVD-CWE-Other', 'user_interaction_required': 'Yes', 'vendor': 'Microsoft', 'cvss_v2': 7.5, 'impact': 'code execution', 'id': 'CVE-1999-0379', 'software_component': 'Microsoft Taskpads', 'network_requirements': 'remote', 'affected_protocols': 'HTTP'}}, {'c': {'severity': 'HIGH', 'cwe_id': 'NVD-CWE-Other', 'user_interaction_required': 'Yes', 'vendor': 'Microsoft', 'cvss_v2': 7.2, 'impact': 'code execution with elevated privileges', 'operating_system': 'Windows NT', 'id': 'CVE-1999-0382', 'software_component': 'screen saver', 'network_requirements': 'local'}}, {'c': {'severity': 'MEDIUM', 'cwe_id': 'NVD-CWE-Other', 'vendor': 'Microsoft', 'cvss_v2': 5.0, 'impact': 'read files on the server', 'operating_system': 'Windows', 'id': 'CVE-1999-0386', 'software_component': 'Microsoft Personal Web Server, FrontPage Personal Web Server', 'network_requirements': 'remote', 'authentication_required': 'No'}}]\u001b[0m\n",
      "\n",
      "\u001b[1m> Finished chain.\u001b[0m\n"
     ]
    },
    {
     "data": {
      "text/plain": [
       "{'query': 'Show me vulnerabilities related to Microsoft products.',\n",
       " 'result': 'Here are the vulnerabilities related to Microsoft products:\\n\\n* **CVE-1999-0012:**  A MEDIUM severity vulnerability in web servers for Windows that allows bypass access restrictions. \\n* **CVE-1999-0119:** A HIGH severity vulnerability in NT 4.0 beta that allows read and delete shares.\\n* **CVE-1999-0280:** A HIGH severity vulnerability in Microsoft Internet Explorer for Windows that allows remote command execution. User interaction is required.\\n* **CVE-1999-0354:** A HIGH severity vulnerability in Internet Explorer, Word 97, and Outlook for Windows that allows arbitrary execution of Visual Basic programs. \\n* **CVE-1999-0360:** A HIGH severity vulnerability in MS Site Server 2.0 with IIS 4 for Windows that allows code execution. This vulnerability requires remote access and exploits the HTTP protocol.\\n* **CVE-1999-0364:** A HIGH severity vulnerability in Microsoft Access 97 for Windows that allows data access. This vulnerability does not require authentication.\\n* **CVE-1999-0366:** A HIGH severity vulnerability in Windows NT 4.0 Service Pack 4 that allows access to network shares. This vulnerability does not require authentication.\\n* **CVE-1999-0379:** A HIGH severity vulnerability in Microsoft Taskpads for Windows that allows code execution. User interaction is required and exploits the HTTP protocol.\\n* **CVE-1999-0382:** A HIGH severity vulnerability in the Windows NT screen saver that allows code execution with elevated privileges. This vulnerability requires local access.\\n* **CVE-1999-0386:** A MEDIUM severity vulnerability in Microsoft Personal Web Server and FrontPage Personal Web Server for Windows that allows reading files on the server. This vulnerability requires remote access and does not require authentication. \\n\\n\\n\\n'}"
      ]
     },
     "execution_count": 31,
     "metadata": {},
     "output_type": "execute_result"
    }
   ],
   "source": [
    "response=chain.invoke({\"query\":\"Show me vulnerabilities related to Microsoft products.\"})\n",
    "\n",
    "response"
   ]
  },
  {
   "cell_type": "code",
   "execution_count": 32,
   "metadata": {
    "colab": {
     "base_uri": "https://localhost:8080/"
    },
    "id": "ca614gfG-2ge",
    "outputId": "1d48f064-a76c-4927-85ad-53840380f796"
   },
   "outputs": [
    {
     "name": "stdout",
     "output_type": "stream",
     "text": [
      "\n",
      "\n",
      "\u001b[1m> Entering new GraphCypherQAChain chain...\u001b[0m\n",
      "Generated Cypher:\n",
      "\u001b[32;1m\u001b[1;3mMATCH (c:CVE {id: 'CVE-1999-0013'}) RETURN c  \n",
      "\u001b[0m\n",
      "Full Context:\n",
      "\u001b[32;1m\u001b[1;3m[{'c': {'severity': 'HIGH', 'cwe_id': 'NVD-CWE-Other', 'cvss_v2': 7.5, 'impact': 'other local users can access remote accounts', 'id': 'CVE-1999-0013', 'software_component': 'ssh-agent program', 'network_requirements': 'local', 'affected_protocols': 'SSH', 'authentication_required': 'Yes'}}]\u001b[0m\n",
      "\n",
      "\u001b[1m> Finished chain.\u001b[0m\n"
     ]
    },
    {
     "data": {
      "text/plain": [
       "{'query': 'What are the details for CVE-1999-0013?',\n",
       " 'result': 'The CVE ID is CVE-1999-0013. The severity is HIGH with a CVSS v2 score of 7.5. It affects the ssh-agent program and if exploited, other local users can access remote accounts. Authentication is required. \\n'}"
      ]
     },
     "execution_count": 32,
     "metadata": {},
     "output_type": "execute_result"
    }
   ],
   "source": [
    "response=chain.invoke({\"query\":\"What are the details for CVE-1999-0013?\"})\n",
    "response"
   ]
  }
 ],
 "metadata": {
  "accelerator": "TPU",
  "colab": {
   "gpuType": "V28",
   "provenance": []
  },
  "kernelspec": {
   "display_name": "base",
   "language": "python",
   "name": "python3"
  },
  "language_info": {
   "codemirror_mode": {
    "name": "ipython",
    "version": 3
   },
   "file_extension": ".py",
   "mimetype": "text/x-python",
   "name": "python",
   "nbconvert_exporter": "python",
   "pygments_lexer": "ipython3",
   "version": "3.11.5"
  }
 },
 "nbformat": 4,
 "nbformat_minor": 0
}
