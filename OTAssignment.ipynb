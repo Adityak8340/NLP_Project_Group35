{
 "cells": [
  {
   "cell_type": "markdown",
   "metadata": {},
   "source": [
    "### Name: Aditya Kumar Tiwari\n",
    "### Roll no.: MSA23023"
   ]
  },
  {
   "cell_type": "markdown",
   "metadata": {},
   "source": [
    "#### Importing libraries"
   ]
  },
  {
   "cell_type": "code",
   "execution_count": 9,
   "metadata": {},
   "outputs": [],
   "source": [
    "import numpy as np\n",
    "from scipy.optimize import fmin_slsqp"
   ]
  },
  {
   "cell_type": "markdown",
   "metadata": {},
   "source": [
    "### Problem 1"
   ]
  },
  {
   "cell_type": "code",
   "execution_count": 14,
   "metadata": {},
   "outputs": [
    {
     "name": "stdout",
     "output_type": "stream",
     "text": [
      "Optimization terminated successfully    (Exit mode 0)\n",
      "            Current function value: -5.211102550928829\n",
      "            Iterations: 33\n",
      "            Function evaluations: 238\n",
      "            Gradient evaluations: 33\n",
      "Problem 1:\n",
      "Minimum: f(x, y, z) = -5.211102550928736\n",
      "x = 0.55, y = -0.83, z = 0.94\n",
      "Lagrange multipliers: λ1 = 0.66, λ2 = -0.44\n",
      "Optimization terminated successfully    (Exit mode 0)\n",
      "            Current function value: 2.5141620667196335e-06\n",
      "            Iterations: 41\n",
      "            Function evaluations: 298\n",
      "            Gradient evaluations: 41\n",
      "Maximum: f(x, y, z) = -5.211096012151243\n",
      "x = 0.55, y = -0.83, z = 0.94\n",
      "Lagrange multipliers: λ1 = -2.00, λ2 = 3.61\n"
     ]
    }
   ],
   "source": [
    "def objective1(x, y, z):\n",
    "    return 4*y - 2*z\n",
    "\n",
    "def constraints1(x, y, z):\n",
    "    return [2*x - y - z - 1, x**2 + y**2 - 1]\n",
    "\n",
    "def solve_problem1():\n",
    "    # Use Lagrange multipliers\n",
    "    def lagrangian1(x, y, z, lam):\n",
    "        return objective1(x, y, z) + lam[0]*(2*x - y - z - 1) + lam[1]*(x**2 + y**2 - 1)\n",
    "\n",
    "    x0 = np.array([0, 0, 0])\n",
    "    lam0 = np.array([0, 0])\n",
    "    res = fmin_slsqp(lambda x_lam: lagrangian1(x_lam[0], x_lam[1], x_lam[2], x_lam[3:]),\n",
    "                    np.concatenate((x0, lam0)), \n",
    "                    f_eqcons=lambda x_lam: constraints1(x_lam[0], x_lam[1], x_lam[2]),\n",
    "                    full_output=True)\n",
    "\n",
    "    x, y, z = res[0][:3]\n",
    "    lam = res[0][3:]\n",
    "    print(f\"Problem 1:\")\n",
    "    print(f\"Minimum: f(x, y, z) = {objective1(x, y, z)}\")\n",
    "    print(f\"x = {x:.2f}, y = {y:.2f}, z = {z:.2f}\")\n",
    "    print(f\"Lagrange multipliers: λ1 = {lam[0]:.2f}, λ2 = {lam[1]:.2f}\")\n",
    "\n",
    "    # Use KKT conditions\n",
    "    def kkt1(x, y, z, lam):\n",
    "        df = np.array([0, 4, -2])\n",
    "        dg1 = np.array([2, -1, -1])\n",
    "        dg2 = np.array([2*x, 2*y, 0])\n",
    "        return np.concatenate((df + lam[0]*dg1 + lam[1]*dg2, \n",
    "                              [2*x - y - z - 1, x**2 + y**2 - 1]))\n",
    "\n",
    "    res = fmin_slsqp(lambda x_lam: np.linalg.norm(kkt1(x_lam[0], x_lam[1], x_lam[2], x_lam[3:])), \n",
    "                    np.concatenate((x0, lam0)),\n",
    "                    full_output=True)\n",
    "\n",
    "    x, y, z = res[0][:3]\n",
    "    lam = res[0][3:]\n",
    "    print(f\"Maximum: f(x, y, z) = {objective1(x, y, z)}\")\n",
    "    print(f\"x = {x:.2f}, y = {y:.2f}, z = {z:.2f}\")\n",
    "    print(f\"Lagrange multipliers: λ1 = {lam[0]:.2f}, λ2 = {lam[1]:.2f}\")\n",
    "\n",
    "solve_problem1()"
   ]
  },
  {
   "cell_type": "markdown",
   "metadata": {},
   "source": [
    "### Problem 2"
   ]
  },
  {
   "cell_type": "code",
   "execution_count": 16,
   "metadata": {},
   "outputs": [
    {
     "name": "stdout",
     "output_type": "stream",
     "text": [
      "Optimization terminated successfully    (Exit mode 0)\n",
      "            Current function value: 24.999999999999996\n",
      "            Iterations: 2\n",
      "            Function evaluations: 10\n",
      "            Gradient evaluations: 2\n",
      "Problem 2:\n",
      "Maximum: f(x, y) = 24.999999999999996\n",
      "x = 1.00, y = 1.00\n",
      "Lagrange multipliers: λ1 = 2.00, λ2 = 3.00\n",
      "Optimization terminated successfully    (Exit mode 0)\n",
      "            Current function value: 1.4277651049248354e-06\n",
      "            Iterations: 40\n",
      "            Function evaluations: 238\n",
      "            Gradient evaluations: 40\n",
      "Maximum: f(x, y) = 25.000012621423124\n",
      "x = 1.00, y = 1.00\n",
      "Lagrange multipliers: λ1 = -20.00, λ2 = 8.00\n"
     ]
    }
   ],
   "source": [
    "def objective2(x, y):\n",
    "    return 14*x - x**2 + 6*y - y**2 + 7\n",
    "\n",
    "def constraints2(x, y):\n",
    "    return [x + y - 2, x + 2*y - 3]\n",
    "\n",
    "def solve_problem2():\n",
    "    # Use Lagrange multipliers\n",
    "    def lagrangian2(x, y, lam):\n",
    "        return objective2(x, y) + lam[0]*(x + y - 2) + lam[1]*(x + 2*y - 3)\n",
    "\n",
    "    x0 = np.array([0, 0])\n",
    "    lam0 = np.array([0, 0])\n",
    "    res = fmin_slsqp(lambda x_lam: lagrangian2(x_lam[0], x_lam[1], x_lam[2:]),\n",
    "                    np.concatenate((x0, lam0)),\n",
    "                    f_eqcons=lambda x_lam: constraints2(x_lam[0], x_lam[1]),\n",
    "                    full_output=True)\n",
    "\n",
    "    x, y = res[0][:2]\n",
    "    lam = res[0][2:]\n",
    "    print(f\"Problem 2:\")\n",
    "    print(f\"Maximum: f(x, y) = {objective2(x, y)}\")\n",
    "    print(f\"x = {x:.2f}, y = {y:.2f}\")\n",
    "    print(f\"Lagrange multipliers: λ1 = {lam[0]:.2f}, λ2 = {lam[1]:.2f}\")\n",
    "\n",
    "    # Use KKT conditions\n",
    "    def kkt2(x, y, lam):\n",
    "        df = np.array([14 - 2*x, 6 - 2*y])\n",
    "        dg1 = np.array([1, 1])\n",
    "        dg2 = np.array([1, 2])\n",
    "        return np.concatenate((df + lam[0]*dg1 + lam[1]*dg2, \n",
    "                              [x + y - 2, x + 2*y - 3]))\n",
    "\n",
    "    res = fmin_slsqp(lambda x_lam: np.linalg.norm(kkt2(x_lam[0], x_lam[1], x_lam[2:])),\n",
    "                    np.concatenate((x0, lam0)),\n",
    "                    full_output=True)\n",
    "\n",
    "    x, y = res[0][:2]\n",
    "    lam = res[0][2:]\n",
    "    print(f\"Maximum: f(x, y) = {objective2(x, y)}\")\n",
    "    print(f\"x = {x:.2f}, y = {y:.2f}\")\n",
    "    print(f\"Lagrange multipliers: λ1 = {lam[0]:.2f}, λ2 = {lam[1]:.2f}\")\n",
    "\n",
    "solve_problem2()"
   ]
  }
 ],
 "metadata": {
  "kernelspec": {
   "display_name": "Python 3",
   "language": "python",
   "name": "python3"
  },
  "language_info": {
   "codemirror_mode": {
    "name": "ipython",
    "version": 3
   },
   "file_extension": ".py",
   "mimetype": "text/x-python",
   "name": "python",
   "nbconvert_exporter": "python",
   "pygments_lexer": "ipython3",
   "version": "3.10.15"
  }
 },
 "nbformat": 4,
 "nbformat_minor": 2
}
