{
  "nbformat": 4,
  "nbformat_minor": 0,
  "metadata": {
    "colab": {
      "provenance": [],
      "gpuType": "V28"
    },
    "kernelspec": {
      "name": "python3",
      "display_name": "Python 3"
    },
    "language_info": {
      "name": "python"
    },
    "accelerator": "TPU"
  },
  "cells": [
    {
      "cell_type": "code",
      "execution_count": 1,
      "metadata": {
        "colab": {
          "base_uri": "https://localhost:8080/"
        },
        "id": "WYhB2OARw_Nq",
        "outputId": "8b6c4d3c-9f83-41e8-cb43-eb9fc0bcbbb3"
      },
      "outputs": [
        {
          "output_type": "stream",
          "name": "stdout",
          "text": [
            "\u001b[2K     \u001b[90m━━━━━━━━━━━━━━━━━━━━━━━━━━━━━━━━━━━━━━━━\u001b[0m \u001b[32m64.8/64.8 kB\u001b[0m \u001b[31m2.7 MB/s\u001b[0m eta \u001b[36m0:00:00\u001b[0m\n",
            "\u001b[2K     \u001b[90m━━━━━━━━━━━━━━━━━━━━━━━━━━━━━━━━━━━━━━━━\u001b[0m \u001b[32m50.8/50.8 kB\u001b[0m \u001b[31m3.0 MB/s\u001b[0m eta \u001b[36m0:00:00\u001b[0m\n",
            "\u001b[2K   \u001b[90m━━━━━━━━━━━━━━━━━━━━━━━━━━━━━━━━━━━━━━━━\u001b[0m \u001b[32m1.0/1.0 MB\u001b[0m \u001b[31m19.2 MB/s\u001b[0m eta \u001b[36m0:00:00\u001b[0m\n",
            "\u001b[2K   \u001b[90m━━━━━━━━━━━━━━━━━━━━━━━━━━━━━━━━━━━━━━━━\u001b[0m \u001b[32m2.4/2.4 MB\u001b[0m \u001b[31m67.7 MB/s\u001b[0m eta \u001b[36m0:00:00\u001b[0m\n",
            "\u001b[2K   \u001b[90m━━━━━━━━━━━━━━━━━━━━━━━━━━━━━━━━━━━━━━━━\u001b[0m \u001b[32m302.0/302.0 kB\u001b[0m \u001b[31m17.7 MB/s\u001b[0m eta \u001b[36m0:00:00\u001b[0m\n",
            "\u001b[2K   \u001b[90m━━━━━━━━━━━━━━━━━━━━━━━━━━━━━━━━━━━━━━━━\u001b[0m \u001b[32m1.2/1.2 MB\u001b[0m \u001b[31m50.4 MB/s\u001b[0m eta \u001b[36m0:00:00\u001b[0m\n",
            "\u001b[2K   \u001b[90m━━━━━━━━━━━━━━━━━━━━━━━━━━━━━━━━━━━━━━━━\u001b[0m \u001b[32m106.5/106.5 kB\u001b[0m \u001b[31m7.0 MB/s\u001b[0m eta \u001b[36m0:00:00\u001b[0m\n",
            "\u001b[2K   \u001b[90m━━━━━━━━━━━━━━━━━━━━━━━━━━━━━━━━━━━━━━━━\u001b[0m \u001b[32m408.7/408.7 kB\u001b[0m \u001b[31m23.2 MB/s\u001b[0m eta \u001b[36m0:00:00\u001b[0m\n",
            "\u001b[2K   \u001b[90m━━━━━━━━━━━━━━━━━━━━━━━━━━━━━━━━━━━━━━━━\u001b[0m \u001b[32m304.8/304.8 kB\u001b[0m \u001b[31m18.5 MB/s\u001b[0m eta \u001b[36m0:00:00\u001b[0m\n",
            "\u001b[2K   \u001b[90m━━━━━━━━━━━━━━━━━━━━━━━━━━━━━━━━━━━━━━━━\u001b[0m \u001b[32m3.1/3.1 MB\u001b[0m \u001b[31m81.4 MB/s\u001b[0m eta \u001b[36m0:00:00\u001b[0m\n",
            "\u001b[2K   \u001b[90m━━━━━━━━━━━━━━━━━━━━━━━━━━━━━━━━━━━━━━━━\u001b[0m \u001b[32m241.9/241.9 kB\u001b[0m \u001b[31m16.8 MB/s\u001b[0m eta \u001b[36m0:00:00\u001b[0m\n",
            "\u001b[2K   \u001b[90m━━━━━━━━━━━━━━━━━━━━━━━━━━━━━━━━━━━━━━━━\u001b[0m \u001b[32m599.5/599.5 kB\u001b[0m \u001b[31m34.7 MB/s\u001b[0m eta \u001b[36m0:00:00\u001b[0m\n",
            "\u001b[2K   \u001b[90m━━━━━━━━━━━━━━━━━━━━━━━━━━━━━━━━━━━━━━━━\u001b[0m \u001b[32m76.4/76.4 kB\u001b[0m \u001b[31m5.8 MB/s\u001b[0m eta \u001b[36m0:00:00\u001b[0m\n",
            "\u001b[2K   \u001b[90m━━━━━━━━━━━━━━━━━━━━━━━━━━━━━━━━━━━━━━━━\u001b[0m \u001b[32m78.0/78.0 kB\u001b[0m \u001b[31m5.1 MB/s\u001b[0m eta \u001b[36m0:00:00\u001b[0m\n",
            "\u001b[2K   \u001b[90m━━━━━━━━━━━━━━━━━━━━━━━━━━━━━━━━━━━━━━━━\u001b[0m \u001b[32m49.5/49.5 kB\u001b[0m \u001b[31m3.6 MB/s\u001b[0m eta \u001b[36m0:00:00\u001b[0m\n",
            "\u001b[2K   \u001b[90m━━━━━━━━━━━━━━━━━━━━━━━━━━━━━━━━━━━━━━━━\u001b[0m \u001b[32m124.6/124.6 kB\u001b[0m \u001b[31m9.9 MB/s\u001b[0m eta \u001b[36m0:00:00\u001b[0m\n",
            "\u001b[2K   \u001b[90m━━━━━━━━━━━━━━━━━━━━━━━━━━━━━━━━━━━━━━━━\u001b[0m \u001b[32m142.5/142.5 kB\u001b[0m \u001b[31m8.9 MB/s\u001b[0m eta \u001b[36m0:00:00\u001b[0m\n",
            "\u001b[2K   \u001b[90m━━━━━━━━━━━━━━━━━━━━━━━━━━━━━━━━━━━━━━━━\u001b[0m \u001b[32m54.5/54.5 kB\u001b[0m \u001b[31m3.9 MB/s\u001b[0m eta \u001b[36m0:00:00\u001b[0m\n",
            "\u001b[2K   \u001b[90m━━━━━━━━━━━━━━━━━━━━━━━━━━━━━━━━━━━━━━━━\u001b[0m \u001b[32m318.7/318.7 kB\u001b[0m \u001b[31m20.3 MB/s\u001b[0m eta \u001b[36m0:00:00\u001b[0m\n",
            "\u001b[2K   \u001b[90m━━━━━━━━━━━━━━━━━━━━━━━━━━━━━━━━━━━━━━━━\u001b[0m \u001b[32m208.9/208.9 kB\u001b[0m \u001b[31m13.3 MB/s\u001b[0m eta \u001b[36m0:00:00\u001b[0m\n",
            "\u001b[2K   \u001b[90m━━━━━━━━━━━━━━━━━━━━━━━━━━━━━━━━━━━━━━━━\u001b[0m \u001b[32m58.3/58.3 kB\u001b[0m \u001b[31m4.1 MB/s\u001b[0m eta \u001b[36m0:00:00\u001b[0m\n",
            "\u001b[?25h"
          ]
        }
      ],
      "source": [
        "!pip install --upgrade --quiet  langchain langchain-community langchain-groq neo4j"
      ]
    },
    {
      "cell_type": "code",
      "source": [
        "# Wait 60 seconds before connecting using these details, or login to https://console.neo4j.io to validate the Aura Instance is available\n",
        "NEO4J_URI=\"neo4j+s://6ed9b7da.databases.neo4j.io\"\n",
        "NEO4J_USERNAME=\"neo4j\"\n",
        "NEO4J_PASSWORD=\"14V4z2NxsI8laZL3tvaAvyJzIdgyZCwgxKHbRWObatM\"\n"
      ],
      "metadata": {
        "id": "OBL8Iqs4xoeh"
      },
      "execution_count": 2,
      "outputs": []
    },
    {
      "cell_type": "code",
      "source": [
        "import os\n",
        "os.environ[\"NEO4J_URI\"]=NEO4J_URI\n",
        "os.environ[\"NEO4J_USERNAME\"]=NEO4J_USERNAME\n",
        "os.environ[\"NEO4J_PASSWORD\"]=NEO4J_PASSWORD"
      ],
      "metadata": {
        "id": "uDS6XHgbycee"
      },
      "execution_count": 3,
      "outputs": []
    },
    {
      "cell_type": "code",
      "source": [
        "from langchain_community.graphs import Neo4jGraph\n",
        "graph=Neo4jGraph(\n",
        "    url=NEO4J_URI,\n",
        "    username=NEO4J_USERNAME,\n",
        "    password=NEO4J_PASSWORD,\n",
        ")"
      ],
      "metadata": {
        "id": "5rikUUiCymWG"
      },
      "execution_count": 4,
      "outputs": []
    },
    {
      "cell_type": "code",
      "source": [
        "graph"
      ],
      "metadata": {
        "colab": {
          "base_uri": "https://localhost:8080/"
        },
        "id": "j6Zy5Bc_y1oN",
        "outputId": "710cc893-dd1e-4ca6-bcf9-d051687a019e"
      },
      "execution_count": 5,
      "outputs": [
        {
          "output_type": "execute_result",
          "data": {
            "text/plain": [
              "<langchain_community.graphs.neo4j_graph.Neo4jGraph at 0x7dffbb1a5de0>"
            ]
          },
          "metadata": {},
          "execution_count": 5
        }
      ]
    },
    {
      "cell_type": "code",
      "source": [
        "groq_api_key=\"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\""
      ],
      "metadata": {
        "id": "55sZpcz8y2dx"
      },
      "execution_count": 6,
      "outputs": []
    },
    {
      "cell_type": "code",
      "source": [
        "from langchain_groq import ChatGroq\n",
        "\n",
        "llm=ChatGroq(groq_api_key=groq_api_key,model_name=\"Gemma2-9b-It\")\n",
        "llm"
      ],
      "metadata": {
        "colab": {
          "base_uri": "https://localhost:8080/"
        },
        "id": "YtqR-fXVzxXZ",
        "outputId": "3a93fa6d-f2d4-40f4-8bad-6cad4b82a623"
      },
      "execution_count": 7,
      "outputs": [
        {
          "output_type": "execute_result",
          "data": {
            "text/plain": [
              "ChatGroq(client=<groq.resources.chat.completions.Completions object at 0x7dff89382cb0>, async_client=<groq.resources.chat.completions.AsyncCompletions object at 0x7dff893816f0>, model_name='Gemma2-9b-It', model_kwargs={}, groq_api_key=SecretStr('**********'))"
            ]
          },
          "metadata": {},
          "execution_count": 7
        }
      ]
    },
    {
      "cell_type": "code",
      "source": [
        "!pip install --upgrade --quiet langchain_experimental"
      ],
      "metadata": {
        "colab": {
          "base_uri": "https://localhost:8080/"
        },
        "id": "6mbEhsdS1Y0N",
        "outputId": "352dcfd1-c419-42a1-925d-e34932a74901"
      },
      "execution_count": 8,
      "outputs": [
        {
          "output_type": "stream",
          "name": "stdout",
          "text": [
            "\u001b[?25l   \u001b[90m━━━━━━━━━━━━━━━━━━━━━━━━━━━━━━━━━━━━━━━━\u001b[0m \u001b[32m0.0/209.0 kB\u001b[0m \u001b[31m?\u001b[0m eta \u001b[36m-:--:--\u001b[0m\r\u001b[2K   \u001b[91m━━━━━━━━━━━━━━━━━━━\u001b[0m\u001b[91m╸\u001b[0m\u001b[90m━━━━━━━━━━━━━━━━━━━━\u001b[0m \u001b[32m102.4/209.0 kB\u001b[0m \u001b[31m2.9 MB/s\u001b[0m eta \u001b[36m0:00:01\u001b[0m\r\u001b[2K   \u001b[90m━━━━━━━━━━━━━━━━━━━━━━━━━━━━━━━━━━━━━━━━\u001b[0m \u001b[32m209.0/209.0 kB\u001b[0m \u001b[31m3.5 MB/s\u001b[0m eta \u001b[36m0:00:00\u001b[0m\n",
            "\u001b[?25h"
          ]
        }
      ]
    },
    {
      "cell_type": "code",
      "source": [
        "from langchain_experimental.graph_transformers import LLMGraphTransformer\n",
        "llm_transformer=LLMGraphTransformer(llm=llm)"
      ],
      "metadata": {
        "id": "8ripzwTX0q1X"
      },
      "execution_count": 9,
      "outputs": []
    },
    {
      "cell_type": "code",
      "source": [
        "graph"
      ],
      "metadata": {
        "colab": {
          "base_uri": "https://localhost:8080/"
        },
        "id": "UeRdr8nm7rAw",
        "outputId": "7c25629e-62b7-4ed8-ebac-17ff1876959e"
      },
      "execution_count": 11,
      "outputs": [
        {
          "output_type": "execute_result",
          "data": {
            "text/plain": [
              "<langchain_community.graphs.neo4j_graph.Neo4jGraph at 0x7dffbb1a5de0>"
            ]
          },
          "metadata": {},
          "execution_count": 11
        }
      ]
    },
    {
      "cell_type": "markdown",
      "source": [],
      "metadata": {
        "id": "jliMlsXCO-Jy"
      }
    },
    {
      "cell_type": "code",
      "source": [
        "graph.refresh_schema()\n",
        "print(graph.schema)"
      ],
      "metadata": {
        "colab": {
          "base_uri": "https://localhost:8080/"
        },
        "id": "nQm5agJA7xnH",
        "outputId": "bcc37844-d652-48dd-bb62-053a284612ca"
      },
      "execution_count": 13,
      "outputs": [
        {
          "output_type": "stream",
          "name": "stdout",
          "text": [
            "Node properties:\n",
            "CVE {id: STRING, cvss_v2: FLOAT, severity: STRING, cwe_id: STRING, software_component: STRING, impact: STRING, network_requirements: STRING, privileges_required: STRING, affected_protocols: STRING, authentication_required: STRING, user_interaction_required: STRING, vendor: STRING, operating_system: STRING, version: STRING, affected_hardware: STRING, cvss_v3: FLOAT}\n",
            "Protocol {name: STRING}\n",
            "Relationship properties:\n",
            "\n",
            "The relationships:\n",
            "(:CVE)-[:AFFECTS_PROTOCOL]->(:Protocol)\n"
          ]
        }
      ]
    },
    {
      "cell_type": "markdown",
      "source": [
        "# Iske Niche wali dono Cell dekh"
      ],
      "metadata": {
        "id": "vJ6OaKHCB4kf"
      }
    },
    {
      "cell_type": "code",
      "source": [
        "from langchain.chains import GraphCypherQAChain\n",
        "chain=GraphCypherQAChain.from_llm(llm=llm,graph=graph,verbose=True, allow_dangerous_requests=True, return_intermediate_steps=True) # added return_intermediate_steps=True\n",
        "chain"
      ],
      "metadata": {
        "colab": {
          "base_uri": "https://localhost:8080/"
        },
        "id": "tGUot6uZ8wnj",
        "outputId": "5fb4ba72-d5e2-4740-a593-e4d1352bcab5"
      },
      "execution_count": 52,
      "outputs": [
        {
          "output_type": "execute_result",
          "data": {
            "text/plain": [
              "GraphCypherQAChain(verbose=True, graph=<langchain_community.graphs.neo4j_graph.Neo4jGraph object at 0x7dffbb1a5de0>, cypher_generation_chain=LLMChain(verbose=False, prompt=PromptTemplate(input_variables=['question', 'schema'], input_types={}, partial_variables={}, template='Task:Generate Cypher statement to query a graph database.\\nInstructions:\\nUse only the provided relationship types and properties in the schema.\\nDo not use any other relationship types or properties that are not provided.\\nSchema:\\n{schema}\\nNote: Do not include any explanations or apologies in your responses.\\nDo not respond to any questions that might ask anything else than for you to construct a Cypher statement.\\nDo not include any text except the generated Cypher statement.\\n\\nThe question is:\\n{question}'), llm=ChatGroq(client=<groq.resources.chat.completions.Completions object at 0x7dff89382cb0>, async_client=<groq.resources.chat.completions.AsyncCompletions object at 0x7dff893816f0>, model_name='Gemma2-9b-It', model_kwargs={}, groq_api_key=SecretStr('**********')), output_parser=StrOutputParser(), llm_kwargs={}), qa_chain=LLMChain(verbose=False, prompt=PromptTemplate(input_variables=['context', 'question'], input_types={}, partial_variables={}, template=\"You are an assistant that helps to form nice and human understandable answers.\\nThe information part contains the provided information that you must use to construct an answer.\\nThe provided information is authoritative, you must never doubt it or try to use your internal knowledge to correct it.\\nMake the answer sound as a response to the question. Do not mention that you based the result on the given information.\\nHere is an example:\\n\\nQuestion: Which managers own Neo4j stocks?\\nContext:[manager:CTL LLC, manager:JANE STREET GROUP LLC]\\nHelpful Answer: CTL LLC, JANE STREET GROUP LLC owns Neo4j stocks.\\n\\nFollow this example when generating answers.\\nIf the provided information is empty, say that you don't know the answer.\\nInformation:\\n{context}\\n\\nQuestion: {question}\\nHelpful Answer:\"), llm=ChatGroq(client=<groq.resources.chat.completions.Completions object at 0x7dff89382cb0>, async_client=<groq.resources.chat.completions.AsyncCompletions object at 0x7dff893816f0>, model_name='Gemma2-9b-It', model_kwargs={}, groq_api_key=SecretStr('**********')), output_parser=StrOutputParser(), llm_kwargs={}), graph_schema='Node properties are the following:\\nCVE {id: STRING, cvss_v2: FLOAT, severity: STRING, cwe_id: STRING, software_component: STRING, impact: STRING, network_requirements: STRING, privileges_required: STRING, affected_protocols: STRING, authentication_required: STRING, user_interaction_required: STRING, vendor: STRING, operating_system: STRING, version: STRING, affected_hardware: STRING, cvss_v3: FLOAT},Protocol {name: STRING}\\nRelationship properties are the following:\\n\\nThe relationships are the following:\\n(:CVE)-[:AFFECTS_PROTOCOL]->(:Protocol)', return_intermediate_steps=True, allow_dangerous_requests=True)"
            ]
          },
          "metadata": {},
          "execution_count": 52
        }
      ]
    },
    {
      "cell_type": "code",
      "source": [
        "response=chain.invoke({\"query\":\"Show me vulnerabilities that affect the TCP/IP protocol.\"})\n",
        "response\n",
        "print(f\"Intermediate steps: {response['intermediate_steps']}\")  # giving full context."
      ],
      "metadata": {
        "colab": {
          "base_uri": "https://localhost:8080/"
        },
        "id": "Sjfw-Dzp9gN4",
        "outputId": "50195103-7db2-4fa6-8f0d-333732fc39ee"
      },
      "execution_count": 60,
      "outputs": [
        {
          "output_type": "stream",
          "name": "stdout",
          "text": [
            "\n",
            "\n",
            "\u001b[1m> Entering new GraphCypherQAChain chain...\u001b[0m\n",
            "Generated Cypher:\n",
            "\u001b[32;1m\u001b[1;3mMATCH (c:CVE)-[:AFFECTS_PROTOCOL]->(p:Protocol) WHERE p.name = 'TCP/IP' RETURN c\n",
            "\u001b[0m\n",
            "Full Context:\n",
            "\u001b[32;1m\u001b[1;3m[{'c': {'severity': 'MEDIUM', 'cwe_id': 'CWE-20', 'cvss_v2': 5.0, 'impact': 'denial of service (crash or hang)', 'operating_system': 'BSD-derived', 'id': 'CVE-1999-0001', 'software_component': 'ip_input.c', 'network_requirements': 'remote', 'affected_protocols': 'TCP/IP'}}, {'c': {'severity': 'HIGH', 'cwe_id': 'NVD-CWE-Other', 'vendor': 'Foundry Networks', 'cvss_v2': 7.5, 'impact': 'spoof or hijack sessions', 'affected_hardware': 'ServerIron switches', 'id': 'CVE-2000-0178', 'software_component': 'ServerIron switches', 'network_requirements': 'remote', 'affected_protocols': 'TCP/IP'}}, {'c': {'severity': 'LOW', 'cwe_id': 'NVD-CWE-Other', 'vendor': 'Microsoft', 'cvss_v2': 2.1, 'impact': 'denial of service', 'operating_system': 'Windows', 'id': 'CVE-2000-0232', 'software_component': 'TCP/IP Printing Services, aka Print Services for Unix', 'network_requirements': 'remote', 'affected_protocols': 'TCP/IP'}}, {'c': {'severity': 'MEDIUM', 'cwe_id': 'NVD-CWE-Other', 'cvss_v2': 5.0, 'impact': 'denial of service (CPU consumption)', 'operating_system': 'Linux', 'id': 'CVE-2003-0364', 'software_component': 'TCP/IP fragment reassembly handling in the Linux kernel', 'network_requirements': 'remote', 'affected_protocols': 'TCP/IP', 'version': '2.4'}}, {'c': {'severity': 'MEDIUM', 'cwe_id': 'NVD-CWE-Other', 'vendor': 'HP', 'cvss_v2': 5.0, 'impact': 'denial of service (hang)', 'id': 'CVE-2004-0525', 'software_component': 'HP Integrated Lights-Out', 'network_requirements': 'remote', 'affected_protocols': 'TCP/IP', 'version': '1.10 and other versions before 1.55'}}, {'c': {'severity': 'HIGH', 'cwe_id': 'NVD-CWE-noinfo', 'vendor': 'Oracle', 'cvss_v2': 7.8, 'impact': 'affect availability', 'operating_system': 'Oracle Solaris', 'id': 'CVE-2012-0094', 'software_component': 'Oracle Solaris', 'network_requirements': 'remote', 'affected_protocols': 'TCP/IP', 'version': '9, 10, and 11 Express'}}, {'c': {'severity': 'LOW', 'cwe_id': 'NVD-CWE-noinfo', 'vendor': 'Oracle', 'cvss_v2': 3.6, 'impact': 'affect confidentiality and availability', 'operating_system': 'Oracle Solaris', 'id': 'CVE-2012-0109', 'software_component': 'Oracle Solaris', 'network_requirements': 'local', 'affected_protocols': 'TCP/IP', 'version': '8, 9, 10, and 11 Express'}}]\u001b[0m\n",
            "\n",
            "\u001b[1m> Finished chain.\u001b[0m\n",
            "Intermediate steps: [{'query': \"MATCH (c:CVE)-[:AFFECTS_PROTOCOL]->(p:Protocol) WHERE p.name = 'TCP/IP' RETURN c\\n\"}, {'context': [{'c': {'severity': 'MEDIUM', 'cwe_id': 'CWE-20', 'cvss_v2': 5.0, 'impact': 'denial of service (crash or hang)', 'operating_system': 'BSD-derived', 'id': 'CVE-1999-0001', 'software_component': 'ip_input.c', 'network_requirements': 'remote', 'affected_protocols': 'TCP/IP'}}, {'c': {'severity': 'HIGH', 'cwe_id': 'NVD-CWE-Other', 'vendor': 'Foundry Networks', 'cvss_v2': 7.5, 'impact': 'spoof or hijack sessions', 'affected_hardware': 'ServerIron switches', 'id': 'CVE-2000-0178', 'software_component': 'ServerIron switches', 'network_requirements': 'remote', 'affected_protocols': 'TCP/IP'}}, {'c': {'severity': 'LOW', 'cwe_id': 'NVD-CWE-Other', 'vendor': 'Microsoft', 'cvss_v2': 2.1, 'impact': 'denial of service', 'operating_system': 'Windows', 'id': 'CVE-2000-0232', 'software_component': 'TCP/IP Printing Services, aka Print Services for Unix', 'network_requirements': 'remote', 'affected_protocols': 'TCP/IP'}}, {'c': {'severity': 'MEDIUM', 'cwe_id': 'NVD-CWE-Other', 'cvss_v2': 5.0, 'impact': 'denial of service (CPU consumption)', 'operating_system': 'Linux', 'id': 'CVE-2003-0364', 'software_component': 'TCP/IP fragment reassembly handling in the Linux kernel', 'network_requirements': 'remote', 'affected_protocols': 'TCP/IP', 'version': '2.4'}}, {'c': {'severity': 'MEDIUM', 'cwe_id': 'NVD-CWE-Other', 'vendor': 'HP', 'cvss_v2': 5.0, 'impact': 'denial of service (hang)', 'id': 'CVE-2004-0525', 'software_component': 'HP Integrated Lights-Out', 'network_requirements': 'remote', 'affected_protocols': 'TCP/IP', 'version': '1.10 and other versions before 1.55'}}, {'c': {'severity': 'HIGH', 'cwe_id': 'NVD-CWE-noinfo', 'vendor': 'Oracle', 'cvss_v2': 7.8, 'impact': 'affect availability', 'operating_system': 'Oracle Solaris', 'id': 'CVE-2012-0094', 'software_component': 'Oracle Solaris', 'network_requirements': 'remote', 'affected_protocols': 'TCP/IP', 'version': '9, 10, and 11 Express'}}, {'c': {'severity': 'LOW', 'cwe_id': 'NVD-CWE-noinfo', 'vendor': 'Oracle', 'cvss_v2': 3.6, 'impact': 'affect confidentiality and availability', 'operating_system': 'Oracle Solaris', 'id': 'CVE-2012-0109', 'software_component': 'Oracle Solaris', 'network_requirements': 'local', 'affected_protocols': 'TCP/IP', 'version': '8, 9, 10, and 11 Express'}}]}]\n"
          ]
        }
      ]
    },
    {
      "cell_type": "code",
      "source": [],
      "metadata": {
        "id": "ksOQww5J-Dqa"
      },
      "execution_count": 64,
      "outputs": []
    },
    {
      "cell_type": "code",
      "source": [
        "from langchain.chains import GraphCypherQAChain\n",
        "chain=GraphCypherQAChain.from_llm(llm=llm,graph=graph,verbose=True, allow_dangerous_requests=True)\n",
        "\n",
        "response=chain.invoke({\"query\":\"What are the details for CVE-1999-0013?\"})\n"
      ],
      "metadata": {
        "colab": {
          "base_uri": "https://localhost:8080/"
        },
        "id": "ca614gfG-2ge",
        "outputId": "dbf6f833-dbac-4117-d2d6-1f14aac97c41"
      },
      "execution_count": 29,
      "outputs": [
        {
          "output_type": "stream",
          "name": "stdout",
          "text": [
            "\n",
            "\n",
            "\u001b[1m> Entering new GraphCypherQAChain chain...\u001b[0m\n",
            "Generated Cypher:\n",
            "\u001b[32;1m\u001b[1;3mMATCH (c:CVE {id: 'CVE-1999-0013'}) RETURN c\n",
            "\u001b[0m\n",
            "Full Context:\n",
            "\u001b[32;1m\u001b[1;3m[{'c': {'severity': 'HIGH', 'cwe_id': 'NVD-CWE-Other', 'cvss_v2': 7.5, 'impact': 'other local users can access remote accounts', 'id': 'CVE-1999-0013', 'software_component': 'ssh-agent program', 'network_requirements': 'local', 'affected_protocols': 'SSH', 'authentication_required': 'Yes'}}]\u001b[0m\n",
            "\n",
            "\u001b[1m> Finished chain.\u001b[0m\n"
          ]
        }
      ]
    },
    {
      "cell_type": "code",
      "source": [
        "def get_full_context(response):\n",
        "    # Extract 'Full Context' key from the response if it exists\n",
        "    return response.get('Full Context', [])\n"
      ],
      "metadata": {
        "id": "6ajD3iCyUPEI"
      },
      "execution_count": 20,
      "outputs": []
    },
    {
      "cell_type": "code",
      "source": [
        "full_context_json = get_full_context(response)\n",
        "print(full_context_json)\n"
      ],
      "metadata": {
        "colab": {
          "base_uri": "https://localhost:8080/"
        },
        "id": "qIkCCWEssIax",
        "outputId": "ce385c30-42ac-4bac-89cb-9bcba8aa361a"
      },
      "execution_count": 21,
      "outputs": [
        {
          "output_type": "stream",
          "name": "stdout",
          "text": [
            "[]\n"
          ]
        }
      ]
    },
    {
      "cell_type": "code",
      "source": [
        "# Print the keys of the response dictionary to check its structure\n",
        "print(response.keys())\n",
        "\n",
        "# Print the entire response dictionary for further inspection\n",
        "print(response)\n"
      ],
      "metadata": {
        "colab": {
          "base_uri": "https://localhost:8080/"
        },
        "id": "RGiPJWMvsKS4",
        "outputId": "01b8fc0b-9b11-48c8-a793-f2d088577992"
      },
      "execution_count": 23,
      "outputs": [
        {
          "output_type": "stream",
          "name": "stdout",
          "text": [
            "dict_keys(['query', 'result'])\n",
            "{'query': 'What are the details for CVE-1999-0013?', 'result': 'The severity is HIGH, the CWE ID is NVD-CWE-Other, the CVSS v2 score is 7.5, the impact is that other local users can access remote accounts, and it affects the ssh-agent program. It requires authentication and uses SSH, with local network requirements.  \\n'}\n"
          ]
        }
      ]
    },
    {
      "cell_type": "code",
      "source": [
        "import io\n",
        "import contextlib\n",
        "\n",
        "# Capture the verbose output\n",
        "output = io.StringIO()\n",
        "with contextlib.redirect_stdout(output):\n",
        "    response = chain.invoke({\"query\": \"What are the details for CVE-1999-0013?\"})\n",
        "\n",
        "# Get the captured output\n",
        "verbose_output = output.getvalue()\n",
        "\n",
        "\n"
      ],
      "metadata": {
        "id": "utP-H4vvsjkj"
      },
      "execution_count": 30,
      "outputs": []
    },
    {
      "cell_type": "code",
      "source": [
        "# Extract the Full Context from the verbose output (this may vary based on the output format)\n",
        "import re\n",
        "import ast\n",
        "\n",
        "# Regular expression to find \"Full Context\" section\n",
        "full_context_match = re.search(r\"Full Context:\\n(\\[.*\\])\", verbose_output, re.DOTALL)\n",
        "\n",
        "print(full_context_match)"
      ],
      "metadata": {
        "colab": {
          "base_uri": "https://localhost:8080/"
        },
        "id": "JC-I7HWduSYN",
        "outputId": "b2eadde7-9bea-485a-8a56-ee19cb3fbe92"
      },
      "execution_count": 31,
      "outputs": [
        {
          "output_type": "stream",
          "name": "stdout",
          "text": [
            "None\n"
          ]
        }
      ]
    },
    {
      "cell_type": "code",
      "source": [
        "import json\n",
        "\n",
        "response = chain.invoke({\"query\": \"What are the details for CVE-1999-0013?\"})\n",
        "print(response)\n",
        "\n",
        "# Search for the \"Full Context:\" marker in the result string\n",
        "full_context_start = response['result'].find('Full Context:')\n",
        "\n",
        "if full_context_start != -1:\n",
        "    # Extract the JSON data following the \"Full Context:\" marker\n",
        "    full_context_json_str = response['result'][full_context_start + len('Full Context:'):].strip()\n",
        "    full_context_json = json.loads(full_context_json_str)\n",
        "    print(full_context_json)\n",
        "else:\n",
        "    print(\"Full context information not found in the response.\")"
      ],
      "metadata": {
        "colab": {
          "base_uri": "https://localhost:8080/"
        },
        "id": "Ynkv-sN9udQN",
        "outputId": "870ac496-4fbf-474d-b742-674a7caf26e5"
      },
      "execution_count": 51,
      "outputs": [
        {
          "output_type": "stream",
          "name": "stdout",
          "text": [
            "\n",
            "\n",
            "\u001b[1m> Entering new GraphCypherQAChain chain...\u001b[0m\n",
            "Generated Cypher:\n",
            "\u001b[32;1m\u001b[1;3mMATCH (c:CVE {id: 'CVE-1999-0013'}) RETURN c\n",
            "\u001b[0m\n",
            "Full Context:\n",
            "\u001b[32;1m\u001b[1;3m[{'c': {'severity': 'HIGH', 'cwe_id': 'NVD-CWE-Other', 'cvss_v2': 7.5, 'impact': 'other local users can access remote accounts', 'id': 'CVE-1999-0013', 'software_component': 'ssh-agent program', 'network_requirements': 'local', 'affected_protocols': 'SSH', 'authentication_required': 'Yes'}}]\u001b[0m\n",
            "\n",
            "\u001b[1m> Finished chain.\u001b[0m\n",
            "{'query': 'What are the details for CVE-1999-0013?', 'result': 'The severity of CVE-1999-0013 is HIGH. Its CWE ID is NVD-CWE-Other, it has a CVSS v2 score of 7.5, and its impact is that other local users can access remote accounts. It affects the ssh-agent program and requires authentication.  It is related to the SSH protocol and requires local network access. \\n'}\n",
            "Full context information not found in the response.\n"
          ]
        }
      ]
    },
    {
      "cell_type": "code",
      "source": [
        "json_only_chain = chain.pick(\"Full Context:\")"
      ],
      "metadata": {
        "id": "TrUT_wJLwCJ_"
      },
      "execution_count": 43,
      "outputs": []
    },
    {
      "cell_type": "code",
      "source": [
        "print(json_only_chain.invoke)"
      ],
      "metadata": {
        "colab": {
          "base_uri": "https://localhost:8080/"
        },
        "id": "j4-5f03pwZxq",
        "outputId": "5f986acb-815d-4d65-ed18-93bd1268ef33"
      },
      "execution_count": 47,
      "outputs": [
        {
          "output_type": "stream",
          "name": "stdout",
          "text": [
            "<bound method RunnableSequence.invoke of GraphCypherQAChain(verbose=True, graph=<langchain_community.graphs.neo4j_graph.Neo4jGraph object at 0x7dffbb1a5de0>, cypher_generation_chain=LLMChain(verbose=False, prompt=PromptTemplate(input_variables=['question', 'schema'], input_types={}, partial_variables={}, template='Task:Generate Cypher statement to query a graph database.\\nInstructions:\\nUse only the provided relationship types and properties in the schema.\\nDo not use any other relationship types or properties that are not provided.\\nSchema:\\n{schema}\\nNote: Do not include any explanations or apologies in your responses.\\nDo not respond to any questions that might ask anything else than for you to construct a Cypher statement.\\nDo not include any text except the generated Cypher statement.\\n\\nThe question is:\\n{question}'), llm=ChatGroq(client=<groq.resources.chat.completions.Completions object at 0x7dff89382cb0>, async_client=<groq.resources.chat.completions.AsyncCompletions object at 0x7dff893816f0>, model_name='Gemma2-9b-It', model_kwargs={}, groq_api_key=SecretStr('**********')), output_parser=StrOutputParser(), llm_kwargs={}), qa_chain=LLMChain(verbose=False, prompt=PromptTemplate(input_variables=['context', 'question'], input_types={}, partial_variables={}, template=\"You are an assistant that helps to form nice and human understandable answers.\\nThe information part contains the provided information that you must use to construct an answer.\\nThe provided information is authoritative, you must never doubt it or try to use your internal knowledge to correct it.\\nMake the answer sound as a response to the question. Do not mention that you based the result on the given information.\\nHere is an example:\\n\\nQuestion: Which managers own Neo4j stocks?\\nContext:[manager:CTL LLC, manager:JANE STREET GROUP LLC]\\nHelpful Answer: CTL LLC, JANE STREET GROUP LLC owns Neo4j stocks.\\n\\nFollow this example when generating answers.\\nIf the provided information is empty, say that you don't know the answer.\\nInformation:\\n{context}\\n\\nQuestion: {question}\\nHelpful Answer:\"), llm=ChatGroq(client=<groq.resources.chat.completions.Completions object at 0x7dff89382cb0>, async_client=<groq.resources.chat.completions.AsyncCompletions object at 0x7dff893816f0>, model_name='Gemma2-9b-It', model_kwargs={}, groq_api_key=SecretStr('**********')), output_parser=StrOutputParser(), llm_kwargs={}), graph_schema='Node properties are the following:\\nCVE {id: STRING, cvss_v2: FLOAT, severity: STRING, cwe_id: STRING, software_component: STRING, impact: STRING, network_requirements: STRING, privileges_required: STRING, affected_protocols: STRING, authentication_required: STRING, user_interaction_required: STRING, vendor: STRING, operating_system: STRING, version: STRING, affected_hardware: STRING, cvss_v3: FLOAT},Protocol {name: STRING}\\nRelationship properties are the following:\\n\\nThe relationships are the following:\\n(:CVE)-[:AFFECTS_PROTOCOL]->(:Protocol)', allow_dangerous_requests=True)\n",
            "| RunnablePick(keys='Full Context:')>\n"
          ]
        }
      ]
    },
    {
      "cell_type": "code",
      "source": [],
      "metadata": {
        "id": "RmNM2eyOx-Z4"
      },
      "execution_count": null,
      "outputs": []
    }
  ]
}