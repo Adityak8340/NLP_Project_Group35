{
  "cells": [
    {
      "cell_type": "code",
      "execution_count": 2,
      "metadata": {
        "id": "TmuGppbW8fUu"
      },
      "outputs": [],
      "source": [
        "import pandas as pd\n",
        "from sklearn.preprocessing import MultiLabelBinarizer,LabelBinarizer\n",
        "from datasets import Dataset\n",
        "from transformers import AutoTokenizer, AutoModelForSequenceClassification, TrainingArguments, Trainer\n",
        "import numpy as np\n",
        "from sklearn.metrics import f1_score, roc_auc_score, accuracy_score\n",
        "import torch"
      ]
    },
    {
      "cell_type": "code",
      "execution_count": 5,
      "metadata": {
        "id": "tufU2xPd8fsE"
      },
      "outputs": [],
      "source": [
        "df = pd.read_excel(\"final_data.xlsx\")"
      ]
    },
    {
      "cell_type": "code",
      "execution_count": 6,
      "metadata": {
        "id": "l0qMnC_J8kv_"
      },
      "outputs": [],
      "source": [
        "labels = [\n",
        "    'Operating_System', 'Software_Component', 'Version', 'Impact',\n",
        "    'Affected_Hardware', 'Network_Requirements', 'Affected_Protocols',\n",
        "    'Authentication_Required', 'Privileges_Required', 'User_Interaction_Required', 'Vendor'\n",
        "]\n"
      ]
    },
    {
      "cell_type": "code",
      "execution_count": 7,
      "metadata": {
        "id": "qnRHHXTe9R3A"
      },
      "outputs": [],
      "source": [
        "df[labels] = df[labels].fillna('unknown')"
      ]
    },
    {
      "cell_type": "code",
      "execution_count": 8,
      "metadata": {
        "id": "kfIZ9Tz18qLF"
      },
      "outputs": [],
      "source": [
        "for label in labels:\n",
        "    df[label] = df[label].astype(str)"
      ]
    },
    {
      "cell_type": "code",
      "execution_count": 9,
      "metadata": {
        "id": "FcGHfMpF9GWZ"
      },
      "outputs": [],
      "source": [
        "df['labels'] = df[labels].values.tolist()"
      ]
    },
    {
      "cell_type": "code",
      "execution_count": 10,
      "metadata": {
        "colab": {
          "base_uri": "https://localhost:8080/",
          "height": 1000
        },
        "id": "r4ugqGEe8voP",
        "outputId": "4e10bc5f-3f88-4604-bd19-bcc577150bf4"
      },
      "outputs": [
        {
          "data": {
            "application/vnd.google.colaboratory.intrinsic+json": {
              "summary": "{\n  \"name\": \"df\",\n  \"rows\": 11499,\n  \"fields\": [\n    {\n      \"column\": \"ID\",\n      \"properties\": {\n        \"dtype\": \"number\",\n        \"std\": 3319,\n        \"min\": 1,\n        \"max\": 11499,\n        \"num_unique_values\": 11499,\n        \"samples\": [\n          5557,\n          1571,\n          2583\n        ],\n        \"semantic_type\": \"\",\n        \"description\": \"\"\n      }\n    },\n    {\n      \"column\": \"CVE-ID\",\n      \"properties\": {\n        \"dtype\": \"string\",\n        \"num_unique_values\": 11320,\n        \"samples\": [\n          \"CVE-2001-0254\",\n          \"CVE-2004-0351\",\n          \"CVE-2011-0055\"\n        ],\n        \"semantic_type\": \"\",\n        \"description\": \"\"\n      }\n    },\n    {\n      \"column\": \"CVSS-V3\",\n      \"properties\": {\n        \"dtype\": \"number\",\n        \"std\": 1.4986477183780216,\n        \"min\": 2.3,\n        \"max\": 10.0,\n        \"num_unique_values\": 63,\n        \"samples\": [\n          4.5,\n          6.0,\n          9.8\n        ],\n        \"semantic_type\": \"\",\n        \"description\": \"\"\n      }\n    },\n    {\n      \"column\": \"CVSS-V2\",\n      \"properties\": {\n        \"dtype\": \"number\",\n        \"std\": 2.2011550175553842,\n        \"min\": 0.0,\n        \"max\": 10.0,\n        \"num_unique_values\": 63,\n        \"samples\": [\n          4.8,\n          7.0,\n          5.0\n        ],\n        \"semantic_type\": \"\",\n        \"description\": \"\"\n      }\n    },\n    {\n      \"column\": \"SEVERITY\",\n      \"properties\": {\n        \"dtype\": \"category\",\n        \"num_unique_values\": 4,\n        \"samples\": [\n          \"HIGH\",\n          \"CRITICAL\",\n          \"MEDIUM\"\n        ],\n        \"semantic_type\": \"\",\n        \"description\": \"\"\n      }\n    },\n    {\n      \"column\": \"DESCRIPTION\",\n      \"properties\": {\n        \"dtype\": \"string\",\n        \"num_unique_values\": 11221,\n        \"samples\": [\n          \"A vulnerability in the web-based management interface of Cisco Unified Communications Manager could allow an unauthenticated, remote attacker to conduct a reflected cross-site scripting (XSS) attack against a user of the web-based management interface of an affected device. The vulnerability is due to insufficient validation of user-supplied input by the web-based management interface of an affected device. An attacker could exploit this vulnerability by persuading a user of the web-based management interface to click a link that submits malicious input to the interface. A successful exploit could allow the attacker to execute arbitrary script code in the context of the interface or allow the attacker to access sensitive browser-based information. Cisco Bug IDs: CSCvg74815.\",\n          \"In GetOpusHeaderBuffers() of OpusHeader.cpp, there is a possible out of bounds read due to a missing bounds check. This could lead to remote information disclosure with no additional execution privileges needed. User interaction is needed for exploitation.Product: AndroidVersions: Android-10Android ID: A-142861738\",\n          \"Off-by-one error in libxml in Apple Safari before 5.0.6 allows remote attackers to execute arbitrary code or cause a denial of service (heap-based buffer overflow and application crash) via a crafted web site.\"\n        ],\n        \"semantic_type\": \"\",\n        \"description\": \"\"\n      }\n    },\n    {\n      \"column\": \"CWE-ID\",\n      \"properties\": {\n        \"dtype\": \"category\",\n        \"num_unique_values\": 125,\n        \"samples\": [\n          \"CWE-310\",\n          \"CWE-426\",\n          \"CWE-362\"\n        ],\n        \"semantic_type\": \"\",\n        \"description\": \"\"\n      }\n    },\n    {\n      \"column\": \"Operating_System\",\n      \"properties\": {\n        \"dtype\": \"category\",\n        \"num_unique_values\": 219,\n        \"samples\": [\n          \"Apple Mac OS X 10.5\",\n          \"Mac OS X Server\",\n          \"Linux, Windows\"\n        ],\n        \"semantic_type\": \"\",\n        \"description\": \"\"\n      }\n    },\n    {\n      \"column\": \"Software_Component\",\n      \"properties\": {\n        \"dtype\": \"category\",\n        \"num_unique_values\": 5653,\n        \"samples\": [\n          \"Data Security component\",\n          \"BAT! mail client\",\n          \"Honeywell ScanServer ActiveX control\"\n        ],\n        \"semantic_type\": \"\",\n        \"description\": \"\"\n      }\n    },\n    {\n      \"column\": \"Version\",\n      \"properties\": {\n        \"dtype\": \"category\",\n        \"num_unique_values\": 4118,\n        \"samples\": [\n          \"2.0.x and 3.0.x before 3.0.4 and 3.1.x before 3.1.3\",\n          \"5.8.0\",\n          \"2.x, 3.0 through 3.0.STABLE22, and 3.1 through 3.1.0.15\"\n        ],\n        \"semantic_type\": \"\",\n        \"description\": \"\"\n      }\n    },\n    {\n      \"column\": \"Impact\",\n      \"properties\": {\n        \"dtype\": \"category\",\n        \"num_unique_values\": 2127,\n        \"samples\": [\n          \"bypass firewall rules\",\n          \"disclosure of unsalted hash value\",\n          \"remote authenticated users to make HTTP requests with administrator privileges\"\n        ],\n        \"semantic_type\": \"\",\n        \"description\": \"\"\n      }\n    },\n    {\n      \"column\": \"Affected_Hardware\",\n      \"properties\": {\n        \"dtype\": \"category\",\n        \"num_unique_values\": 187,\n        \"samples\": [\n          \"MX Series and EX9200 Series with Trio-based MPCs and PFEs\",\n          \"Funkwerk Router / VPN devices\",\n          \"x86 with hugemem kernel\"\n        ],\n        \"semantic_type\": \"\",\n        \"description\": \"\"\n      }\n    },\n    {\n      \"column\": \"Network_Requirements\",\n      \"properties\": {\n        \"dtype\": \"category\",\n        \"num_unique_values\": 34,\n        \"samples\": [\n          \"network print queue\",\n          \"remote or local\",\n          \"adjacent\"\n        ],\n        \"semantic_type\": \"\",\n        \"description\": \"\"\n      }\n    },\n    {\n      \"column\": \"Affected_Protocols\",\n      \"properties\": {\n        \"dtype\": \"category\",\n        \"num_unique_values\": 277,\n        \"samples\": [\n          \"NIS\",\n          \"palace://\",\n          \"iSCSI\"\n        ],\n        \"semantic_type\": \"\",\n        \"description\": \"\"\n      }\n    },\n    {\n      \"column\": \"Authentication_Required\",\n      \"properties\": {\n        \"dtype\": \"category\",\n        \"num_unique_values\": 6,\n        \"samples\": [\n          \"unknown\",\n          \"Yes\",\n          \"authenticated\"\n        ],\n        \"semantic_type\": \"\",\n        \"description\": \"\"\n      }\n    },\n    {\n      \"column\": \"Privileges_Required\",\n      \"properties\": {\n        \"dtype\": \"category\",\n        \"num_unique_values\": 142,\n        \"samples\": [\n          \"appropriate permission on the filesystem\",\n          \"in the dialout group\",\n          \"privileged users\"\n        ],\n        \"semantic_type\": \"\",\n        \"description\": \"\"\n      }\n    },\n    {\n      \"column\": \"User_Interaction_Required\",\n      \"properties\": {\n        \"dtype\": \"category\",\n        \"num_unique_values\": 16,\n        \"samples\": [\n          \"unknown\",\n          \"No\",\n          \"hidden form fields\"\n        ],\n        \"semantic_type\": \"\",\n        \"description\": \"\"\n      }\n    },\n    {\n      \"column\": \"Vendor\",\n      \"properties\": {\n        \"dtype\": \"category\",\n        \"num_unique_values\": 1004,\n        \"samples\": [\n          \"QXL\",\n          \"Matthew Wardrop Advanced Random Generators (adv-random-gen)\",\n          \"Crystal Reports\"\n        ],\n        \"semantic_type\": \"\",\n        \"description\": \"\"\n      }\n    },\n    {\n      \"column\": \"labels\",\n      \"properties\": {\n        \"dtype\": \"object\",\n        \"semantic_type\": \"\",\n        \"description\": \"\"\n      }\n    }\n  ]\n}",
              "type": "dataframe",
              "variable_name": "df"
            },
            "text/html": [
              "\n",
              "  <div id=\"df-bde65333-6872-452f-95b6-facf16b0da97\" class=\"colab-df-container\">\n",
              "    <div>\n",
              "<style scoped>\n",
              "    .dataframe tbody tr th:only-of-type {\n",
              "        vertical-align: middle;\n",
              "    }\n",
              "\n",
              "    .dataframe tbody tr th {\n",
              "        vertical-align: top;\n",
              "    }\n",
              "\n",
              "    .dataframe thead th {\n",
              "        text-align: right;\n",
              "    }\n",
              "</style>\n",
              "<table border=\"1\" class=\"dataframe\">\n",
              "  <thead>\n",
              "    <tr style=\"text-align: right;\">\n",
              "      <th></th>\n",
              "      <th>ID</th>\n",
              "      <th>CVE-ID</th>\n",
              "      <th>CVSS-V3</th>\n",
              "      <th>CVSS-V2</th>\n",
              "      <th>SEVERITY</th>\n",
              "      <th>DESCRIPTION</th>\n",
              "      <th>CWE-ID</th>\n",
              "      <th>Operating_System</th>\n",
              "      <th>Software_Component</th>\n",
              "      <th>Version</th>\n",
              "      <th>Impact</th>\n",
              "      <th>Affected_Hardware</th>\n",
              "      <th>Network_Requirements</th>\n",
              "      <th>Affected_Protocols</th>\n",
              "      <th>Authentication_Required</th>\n",
              "      <th>Privileges_Required</th>\n",
              "      <th>User_Interaction_Required</th>\n",
              "      <th>Vendor</th>\n",
              "      <th>labels</th>\n",
              "    </tr>\n",
              "  </thead>\n",
              "  <tbody>\n",
              "    <tr>\n",
              "      <th>0</th>\n",
              "      <td>1</td>\n",
              "      <td>CVE-1999-0001</td>\n",
              "      <td>NaN</td>\n",
              "      <td>5.0</td>\n",
              "      <td>MEDIUM</td>\n",
              "      <td>ip_input.c in BSD-derived TCP/IP implementatio...</td>\n",
              "      <td>CWE-20</td>\n",
              "      <td>BSD-derived</td>\n",
              "      <td>ip_input.c</td>\n",
              "      <td>unknown</td>\n",
              "      <td>denial of service (crash or hang)</td>\n",
              "      <td>unknown</td>\n",
              "      <td>remote</td>\n",
              "      <td>TCP/IP</td>\n",
              "      <td>unknown</td>\n",
              "      <td>unknown</td>\n",
              "      <td>unknown</td>\n",
              "      <td>unknown</td>\n",
              "      <td>[BSD-derived, ip_input.c, unknown, denial of s...</td>\n",
              "    </tr>\n",
              "    <tr>\n",
              "      <th>1</th>\n",
              "      <td>2</td>\n",
              "      <td>CVE-1999-0002</td>\n",
              "      <td>NaN</td>\n",
              "      <td>10.0</td>\n",
              "      <td>HIGH</td>\n",
              "      <td>Buffer overflow in NFS mountd gives root acces...</td>\n",
              "      <td>CWE-119</td>\n",
              "      <td>Linux</td>\n",
              "      <td>NFS mountd</td>\n",
              "      <td>unknown</td>\n",
              "      <td>root access</td>\n",
              "      <td>unknown</td>\n",
              "      <td>remote</td>\n",
              "      <td>NFS</td>\n",
              "      <td>unknown</td>\n",
              "      <td>unknown</td>\n",
              "      <td>unknown</td>\n",
              "      <td>unknown</td>\n",
              "      <td>[Linux, NFS mountd, unknown, root access, unkn...</td>\n",
              "    </tr>\n",
              "    <tr>\n",
              "      <th>2</th>\n",
              "      <td>3</td>\n",
              "      <td>CVE-1999-0003</td>\n",
              "      <td>NaN</td>\n",
              "      <td>10.0</td>\n",
              "      <td>HIGH</td>\n",
              "      <td>Execute commands as root via buffer overflow i...</td>\n",
              "      <td>NVD-CWE-Other</td>\n",
              "      <td>unknown</td>\n",
              "      <td>unknown</td>\n",
              "      <td>unknown</td>\n",
              "      <td>unknown</td>\n",
              "      <td>unknown</td>\n",
              "      <td>unknown</td>\n",
              "      <td>unknown</td>\n",
              "      <td>unknown</td>\n",
              "      <td>unknown</td>\n",
              "      <td>unknown</td>\n",
              "      <td>unknown</td>\n",
              "      <td>[unknown, unknown, unknown, unknown, unknown, ...</td>\n",
              "    </tr>\n",
              "    <tr>\n",
              "      <th>3</th>\n",
              "      <td>4</td>\n",
              "      <td>CVE-1999-0004</td>\n",
              "      <td>NaN</td>\n",
              "      <td>5.0</td>\n",
              "      <td>MEDIUM</td>\n",
              "      <td>MIME buffer overflow in email clients, e.g. So...</td>\n",
              "      <td>NVD-CWE-Other</td>\n",
              "      <td>unknown</td>\n",
              "      <td>unknown</td>\n",
              "      <td>unknown</td>\n",
              "      <td>unknown</td>\n",
              "      <td>unknown</td>\n",
              "      <td>unknown</td>\n",
              "      <td>unknown</td>\n",
              "      <td>unknown</td>\n",
              "      <td>unknown</td>\n",
              "      <td>unknown</td>\n",
              "      <td>unknown</td>\n",
              "      <td>[unknown, unknown, unknown, unknown, unknown, ...</td>\n",
              "    </tr>\n",
              "    <tr>\n",
              "      <th>4</th>\n",
              "      <td>5</td>\n",
              "      <td>CVE-1999-0005</td>\n",
              "      <td>NaN</td>\n",
              "      <td>10.0</td>\n",
              "      <td>HIGH</td>\n",
              "      <td>Arbitrary command execution via IMAP buffer ov...</td>\n",
              "      <td>NVD-CWE-Other</td>\n",
              "      <td>unknown</td>\n",
              "      <td>unknown</td>\n",
              "      <td>unknown</td>\n",
              "      <td>unknown</td>\n",
              "      <td>unknown</td>\n",
              "      <td>unknown</td>\n",
              "      <td>unknown</td>\n",
              "      <td>unknown</td>\n",
              "      <td>unknown</td>\n",
              "      <td>unknown</td>\n",
              "      <td>unknown</td>\n",
              "      <td>[unknown, unknown, unknown, unknown, unknown, ...</td>\n",
              "    </tr>\n",
              "    <tr>\n",
              "      <th>...</th>\n",
              "      <td>...</td>\n",
              "      <td>...</td>\n",
              "      <td>...</td>\n",
              "      <td>...</td>\n",
              "      <td>...</td>\n",
              "      <td>...</td>\n",
              "      <td>...</td>\n",
              "      <td>...</td>\n",
              "      <td>...</td>\n",
              "      <td>...</td>\n",
              "      <td>...</td>\n",
              "      <td>...</td>\n",
              "      <td>...</td>\n",
              "      <td>...</td>\n",
              "      <td>...</td>\n",
              "      <td>...</td>\n",
              "      <td>...</td>\n",
              "      <td>...</td>\n",
              "      <td>...</td>\n",
              "    </tr>\n",
              "    <tr>\n",
              "      <th>11494</th>\n",
              "      <td>11495</td>\n",
              "      <td>CVE-2021-0607</td>\n",
              "      <td>7.8</td>\n",
              "      <td>4.6</td>\n",
              "      <td>HIGH</td>\n",
              "      <td>In iaxxx_calc_i2s_div of iaxxx-codec.c, there ...</td>\n",
              "      <td>CWE-119</td>\n",
              "      <td>Android</td>\n",
              "      <td>Android kernel</td>\n",
              "      <td>unknown</td>\n",
              "      <td>local escalation of privilege</td>\n",
              "      <td>unknown</td>\n",
              "      <td>unknown</td>\n",
              "      <td>unknown</td>\n",
              "      <td>unknown</td>\n",
              "      <td>no additional execution privileges needed</td>\n",
              "      <td>unknown</td>\n",
              "      <td>unknown</td>\n",
              "      <td>[Android, Android kernel, unknown, local escal...</td>\n",
              "    </tr>\n",
              "    <tr>\n",
              "      <th>11495</th>\n",
              "      <td>11496</td>\n",
              "      <td>CVE-2021-0608</td>\n",
              "      <td>7.8</td>\n",
              "      <td>4.6</td>\n",
              "      <td>HIGH</td>\n",
              "      <td>In handleAppLaunch of AppLaunchActivity.java, ...</td>\n",
              "      <td>CWE-610</td>\n",
              "      <td>Android</td>\n",
              "      <td>Android kernel</td>\n",
              "      <td>A-174870704</td>\n",
              "      <td>local escalation of privilege</td>\n",
              "      <td>unknown</td>\n",
              "      <td>unknown</td>\n",
              "      <td>unknown</td>\n",
              "      <td>unknown</td>\n",
              "      <td>no additional execution privileges needed</td>\n",
              "      <td>no</td>\n",
              "      <td>unknown</td>\n",
              "      <td>[Android, Android kernel, A-174870704, local e...</td>\n",
              "    </tr>\n",
              "    <tr>\n",
              "      <th>11496</th>\n",
              "      <td>11497</td>\n",
              "      <td>CVE-2021-0610</td>\n",
              "      <td>7.8</td>\n",
              "      <td>4.6</td>\n",
              "      <td>HIGH</td>\n",
              "      <td>In memory management driver, there is a possib...</td>\n",
              "      <td>CWE-190</td>\n",
              "      <td>unknown</td>\n",
              "      <td>memory management driver</td>\n",
              "      <td>unknown</td>\n",
              "      <td>local escalation of privilege</td>\n",
              "      <td>unknown</td>\n",
              "      <td>unknown</td>\n",
              "      <td>unknown</td>\n",
              "      <td>unknown</td>\n",
              "      <td>unknown</td>\n",
              "      <td>No</td>\n",
              "      <td>unknown</td>\n",
              "      <td>[unknown, memory management driver, unknown, l...</td>\n",
              "    </tr>\n",
              "    <tr>\n",
              "      <th>11497</th>\n",
              "      <td>11498</td>\n",
              "      <td>CVE-2021-0611</td>\n",
              "      <td>7.8</td>\n",
              "      <td>4.6</td>\n",
              "      <td>HIGH</td>\n",
              "      <td>In m4u, there is a possible memory corruption ...</td>\n",
              "      <td>CWE-416</td>\n",
              "      <td>unknown</td>\n",
              "      <td>m4u</td>\n",
              "      <td>unknown</td>\n",
              "      <td>local escalation of privilege</td>\n",
              "      <td>unknown</td>\n",
              "      <td>unknown</td>\n",
              "      <td>unknown</td>\n",
              "      <td>unknown</td>\n",
              "      <td>System execution privileges</td>\n",
              "      <td>No</td>\n",
              "      <td>unknown</td>\n",
              "      <td>[unknown, m4u, unknown, local escalation of pr...</td>\n",
              "    </tr>\n",
              "    <tr>\n",
              "      <th>11498</th>\n",
              "      <td>11499</td>\n",
              "      <td>CVE-2021-0612</td>\n",
              "      <td>7.8</td>\n",
              "      <td>4.6</td>\n",
              "      <td>HIGH</td>\n",
              "      <td>In m4u, there is a possible memory corruption ...</td>\n",
              "      <td>CWE-416</td>\n",
              "      <td>unknown</td>\n",
              "      <td>m4u</td>\n",
              "      <td>unknown</td>\n",
              "      <td>local escalation of privilege</td>\n",
              "      <td>unknown</td>\n",
              "      <td>unknown</td>\n",
              "      <td>unknown</td>\n",
              "      <td>unknown</td>\n",
              "      <td>System execution privileges</td>\n",
              "      <td>No</td>\n",
              "      <td>unknown</td>\n",
              "      <td>[unknown, m4u, unknown, local escalation of pr...</td>\n",
              "    </tr>\n",
              "  </tbody>\n",
              "</table>\n",
              "<p>11499 rows × 19 columns</p>\n",
              "</div>\n",
              "    <div class=\"colab-df-buttons\">\n",
              "\n",
              "  <div class=\"colab-df-container\">\n",
              "    <button class=\"colab-df-convert\" onclick=\"convertToInteractive('df-bde65333-6872-452f-95b6-facf16b0da97')\"\n",
              "            title=\"Convert this dataframe to an interactive table.\"\n",
              "            style=\"display:none;\">\n",
              "\n",
              "  <svg xmlns=\"http://www.w3.org/2000/svg\" height=\"24px\" viewBox=\"0 -960 960 960\">\n",
              "    <path d=\"M120-120v-720h720v720H120Zm60-500h600v-160H180v160Zm220 220h160v-160H400v160Zm0 220h160v-160H400v160ZM180-400h160v-160H180v160Zm440 0h160v-160H620v160ZM180-180h160v-160H180v160Zm440 0h160v-160H620v160Z\"/>\n",
              "  </svg>\n",
              "    </button>\n",
              "\n",
              "  <style>\n",
              "    .colab-df-container {\n",
              "      display:flex;\n",
              "      gap: 12px;\n",
              "    }\n",
              "\n",
              "    .colab-df-convert {\n",
              "      background-color: #E8F0FE;\n",
              "      border: none;\n",
              "      border-radius: 50%;\n",
              "      cursor: pointer;\n",
              "      display: none;\n",
              "      fill: #1967D2;\n",
              "      height: 32px;\n",
              "      padding: 0 0 0 0;\n",
              "      width: 32px;\n",
              "    }\n",
              "\n",
              "    .colab-df-convert:hover {\n",
              "      background-color: #E2EBFA;\n",
              "      box-shadow: 0px 1px 2px rgba(60, 64, 67, 0.3), 0px 1px 3px 1px rgba(60, 64, 67, 0.15);\n",
              "      fill: #174EA6;\n",
              "    }\n",
              "\n",
              "    .colab-df-buttons div {\n",
              "      margin-bottom: 4px;\n",
              "    }\n",
              "\n",
              "    [theme=dark] .colab-df-convert {\n",
              "      background-color: #3B4455;\n",
              "      fill: #D2E3FC;\n",
              "    }\n",
              "\n",
              "    [theme=dark] .colab-df-convert:hover {\n",
              "      background-color: #434B5C;\n",
              "      box-shadow: 0px 1px 3px 1px rgba(0, 0, 0, 0.15);\n",
              "      filter: drop-shadow(0px 1px 2px rgba(0, 0, 0, 0.3));\n",
              "      fill: #FFFFFF;\n",
              "    }\n",
              "  </style>\n",
              "\n",
              "    <script>\n",
              "      const buttonEl =\n",
              "        document.querySelector('#df-bde65333-6872-452f-95b6-facf16b0da97 button.colab-df-convert');\n",
              "      buttonEl.style.display =\n",
              "        google.colab.kernel.accessAllowed ? 'block' : 'none';\n",
              "\n",
              "      async function convertToInteractive(key) {\n",
              "        const element = document.querySelector('#df-bde65333-6872-452f-95b6-facf16b0da97');\n",
              "        const dataTable =\n",
              "          await google.colab.kernel.invokeFunction('convertToInteractive',\n",
              "                                                    [key], {});\n",
              "        if (!dataTable) return;\n",
              "\n",
              "        const docLinkHtml = 'Like what you see? Visit the ' +\n",
              "          '<a target=\"_blank\" href=https://colab.research.google.com/notebooks/data_table.ipynb>data table notebook</a>'\n",
              "          + ' to learn more about interactive tables.';\n",
              "        element.innerHTML = '';\n",
              "        dataTable['output_type'] = 'display_data';\n",
              "        await google.colab.output.renderOutput(dataTable, element);\n",
              "        const docLink = document.createElement('div');\n",
              "        docLink.innerHTML = docLinkHtml;\n",
              "        element.appendChild(docLink);\n",
              "      }\n",
              "    </script>\n",
              "  </div>\n",
              "\n",
              "\n",
              "<div id=\"df-a99e9259-6c9b-4a5b-a5f3-acbfae96a900\">\n",
              "  <button class=\"colab-df-quickchart\" onclick=\"quickchart('df-a99e9259-6c9b-4a5b-a5f3-acbfae96a900')\"\n",
              "            title=\"Suggest charts\"\n",
              "            style=\"display:none;\">\n",
              "\n",
              "<svg xmlns=\"http://www.w3.org/2000/svg\" height=\"24px\"viewBox=\"0 0 24 24\"\n",
              "     width=\"24px\">\n",
              "    <g>\n",
              "        <path d=\"M19 3H5c-1.1 0-2 .9-2 2v14c0 1.1.9 2 2 2h14c1.1 0 2-.9 2-2V5c0-1.1-.9-2-2-2zM9 17H7v-7h2v7zm4 0h-2V7h2v10zm4 0h-2v-4h2v4z\"/>\n",
              "    </g>\n",
              "</svg>\n",
              "  </button>\n",
              "\n",
              "<style>\n",
              "  .colab-df-quickchart {\n",
              "      --bg-color: #E8F0FE;\n",
              "      --fill-color: #1967D2;\n",
              "      --hover-bg-color: #E2EBFA;\n",
              "      --hover-fill-color: #174EA6;\n",
              "      --disabled-fill-color: #AAA;\n",
              "      --disabled-bg-color: #DDD;\n",
              "  }\n",
              "\n",
              "  [theme=dark] .colab-df-quickchart {\n",
              "      --bg-color: #3B4455;\n",
              "      --fill-color: #D2E3FC;\n",
              "      --hover-bg-color: #434B5C;\n",
              "      --hover-fill-color: #FFFFFF;\n",
              "      --disabled-bg-color: #3B4455;\n",
              "      --disabled-fill-color: #666;\n",
              "  }\n",
              "\n",
              "  .colab-df-quickchart {\n",
              "    background-color: var(--bg-color);\n",
              "    border: none;\n",
              "    border-radius: 50%;\n",
              "    cursor: pointer;\n",
              "    display: none;\n",
              "    fill: var(--fill-color);\n",
              "    height: 32px;\n",
              "    padding: 0;\n",
              "    width: 32px;\n",
              "  }\n",
              "\n",
              "  .colab-df-quickchart:hover {\n",
              "    background-color: var(--hover-bg-color);\n",
              "    box-shadow: 0 1px 2px rgba(60, 64, 67, 0.3), 0 1px 3px 1px rgba(60, 64, 67, 0.15);\n",
              "    fill: var(--button-hover-fill-color);\n",
              "  }\n",
              "\n",
              "  .colab-df-quickchart-complete:disabled,\n",
              "  .colab-df-quickchart-complete:disabled:hover {\n",
              "    background-color: var(--disabled-bg-color);\n",
              "    fill: var(--disabled-fill-color);\n",
              "    box-shadow: none;\n",
              "  }\n",
              "\n",
              "  .colab-df-spinner {\n",
              "    border: 2px solid var(--fill-color);\n",
              "    border-color: transparent;\n",
              "    border-bottom-color: var(--fill-color);\n",
              "    animation:\n",
              "      spin 1s steps(1) infinite;\n",
              "  }\n",
              "\n",
              "  @keyframes spin {\n",
              "    0% {\n",
              "      border-color: transparent;\n",
              "      border-bottom-color: var(--fill-color);\n",
              "      border-left-color: var(--fill-color);\n",
              "    }\n",
              "    20% {\n",
              "      border-color: transparent;\n",
              "      border-left-color: var(--fill-color);\n",
              "      border-top-color: var(--fill-color);\n",
              "    }\n",
              "    30% {\n",
              "      border-color: transparent;\n",
              "      border-left-color: var(--fill-color);\n",
              "      border-top-color: var(--fill-color);\n",
              "      border-right-color: var(--fill-color);\n",
              "    }\n",
              "    40% {\n",
              "      border-color: transparent;\n",
              "      border-right-color: var(--fill-color);\n",
              "      border-top-color: var(--fill-color);\n",
              "    }\n",
              "    60% {\n",
              "      border-color: transparent;\n",
              "      border-right-color: var(--fill-color);\n",
              "    }\n",
              "    80% {\n",
              "      border-color: transparent;\n",
              "      border-right-color: var(--fill-color);\n",
              "      border-bottom-color: var(--fill-color);\n",
              "    }\n",
              "    90% {\n",
              "      border-color: transparent;\n",
              "      border-bottom-color: var(--fill-color);\n",
              "    }\n",
              "  }\n",
              "</style>\n",
              "\n",
              "  <script>\n",
              "    async function quickchart(key) {\n",
              "      const quickchartButtonEl =\n",
              "        document.querySelector('#' + key + ' button');\n",
              "      quickchartButtonEl.disabled = true;  // To prevent multiple clicks.\n",
              "      quickchartButtonEl.classList.add('colab-df-spinner');\n",
              "      try {\n",
              "        const charts = await google.colab.kernel.invokeFunction(\n",
              "            'suggestCharts', [key], {});\n",
              "      } catch (error) {\n",
              "        console.error('Error during call to suggestCharts:', error);\n",
              "      }\n",
              "      quickchartButtonEl.classList.remove('colab-df-spinner');\n",
              "      quickchartButtonEl.classList.add('colab-df-quickchart-complete');\n",
              "    }\n",
              "    (() => {\n",
              "      let quickchartButtonEl =\n",
              "        document.querySelector('#df-a99e9259-6c9b-4a5b-a5f3-acbfae96a900 button');\n",
              "      quickchartButtonEl.style.display =\n",
              "        google.colab.kernel.accessAllowed ? 'block' : 'none';\n",
              "    })();\n",
              "  </script>\n",
              "</div>\n",
              "\n",
              "  <div id=\"id_f79972b4-aeec-409d-8012-4284d7ffcd7e\">\n",
              "    <style>\n",
              "      .colab-df-generate {\n",
              "        background-color: #E8F0FE;\n",
              "        border: none;\n",
              "        border-radius: 50%;\n",
              "        cursor: pointer;\n",
              "        display: none;\n",
              "        fill: #1967D2;\n",
              "        height: 32px;\n",
              "        padding: 0 0 0 0;\n",
              "        width: 32px;\n",
              "      }\n",
              "\n",
              "      .colab-df-generate:hover {\n",
              "        background-color: #E2EBFA;\n",
              "        box-shadow: 0px 1px 2px rgba(60, 64, 67, 0.3), 0px 1px 3px 1px rgba(60, 64, 67, 0.15);\n",
              "        fill: #174EA6;\n",
              "      }\n",
              "\n",
              "      [theme=dark] .colab-df-generate {\n",
              "        background-color: #3B4455;\n",
              "        fill: #D2E3FC;\n",
              "      }\n",
              "\n",
              "      [theme=dark] .colab-df-generate:hover {\n",
              "        background-color: #434B5C;\n",
              "        box-shadow: 0px 1px 3px 1px rgba(0, 0, 0, 0.15);\n",
              "        filter: drop-shadow(0px 1px 2px rgba(0, 0, 0, 0.3));\n",
              "        fill: #FFFFFF;\n",
              "      }\n",
              "    </style>\n",
              "    <button class=\"colab-df-generate\" onclick=\"generateWithVariable('df')\"\n",
              "            title=\"Generate code using this dataframe.\"\n",
              "            style=\"display:none;\">\n",
              "\n",
              "  <svg xmlns=\"http://www.w3.org/2000/svg\" height=\"24px\"viewBox=\"0 0 24 24\"\n",
              "       width=\"24px\">\n",
              "    <path d=\"M7,19H8.4L18.45,9,17,7.55,7,17.6ZM5,21V16.75L18.45,3.32a2,2,0,0,1,2.83,0l1.4,1.43a1.91,1.91,0,0,1,.58,1.4,1.91,1.91,0,0,1-.58,1.4L9.25,21ZM18.45,9,17,7.55Zm-12,3A5.31,5.31,0,0,0,4.9,8.1,5.31,5.31,0,0,0,1,6.5,5.31,5.31,0,0,0,4.9,4.9,5.31,5.31,0,0,0,6.5,1,5.31,5.31,0,0,0,8.1,4.9,5.31,5.31,0,0,0,12,6.5,5.46,5.46,0,0,0,6.5,12Z\"/>\n",
              "  </svg>\n",
              "    </button>\n",
              "    <script>\n",
              "      (() => {\n",
              "      const buttonEl =\n",
              "        document.querySelector('#id_f79972b4-aeec-409d-8012-4284d7ffcd7e button.colab-df-generate');\n",
              "      buttonEl.style.display =\n",
              "        google.colab.kernel.accessAllowed ? 'block' : 'none';\n",
              "\n",
              "      buttonEl.onclick = () => {\n",
              "        google.colab.notebook.generateWithVariable('df');\n",
              "      }\n",
              "      })();\n",
              "    </script>\n",
              "  </div>\n",
              "\n",
              "    </div>\n",
              "  </div>\n"
            ],
            "text/plain": [
              "          ID         CVE-ID  CVSS-V3  CVSS-V2 SEVERITY  \\\n",
              "0          1  CVE-1999-0001      NaN      5.0   MEDIUM   \n",
              "1          2  CVE-1999-0002      NaN     10.0     HIGH   \n",
              "2          3  CVE-1999-0003      NaN     10.0     HIGH   \n",
              "3          4  CVE-1999-0004      NaN      5.0   MEDIUM   \n",
              "4          5  CVE-1999-0005      NaN     10.0     HIGH   \n",
              "...      ...            ...      ...      ...      ...   \n",
              "11494  11495  CVE-2021-0607      7.8      4.6     HIGH   \n",
              "11495  11496  CVE-2021-0608      7.8      4.6     HIGH   \n",
              "11496  11497  CVE-2021-0610      7.8      4.6     HIGH   \n",
              "11497  11498  CVE-2021-0611      7.8      4.6     HIGH   \n",
              "11498  11499  CVE-2021-0612      7.8      4.6     HIGH   \n",
              "\n",
              "                                             DESCRIPTION         CWE-ID  \\\n",
              "0      ip_input.c in BSD-derived TCP/IP implementatio...         CWE-20   \n",
              "1      Buffer overflow in NFS mountd gives root acces...        CWE-119   \n",
              "2      Execute commands as root via buffer overflow i...  NVD-CWE-Other   \n",
              "3      MIME buffer overflow in email clients, e.g. So...  NVD-CWE-Other   \n",
              "4      Arbitrary command execution via IMAP buffer ov...  NVD-CWE-Other   \n",
              "...                                                  ...            ...   \n",
              "11494  In iaxxx_calc_i2s_div of iaxxx-codec.c, there ...        CWE-119   \n",
              "11495  In handleAppLaunch of AppLaunchActivity.java, ...        CWE-610   \n",
              "11496  In memory management driver, there is a possib...        CWE-190   \n",
              "11497  In m4u, there is a possible memory corruption ...        CWE-416   \n",
              "11498  In m4u, there is a possible memory corruption ...        CWE-416   \n",
              "\n",
              "      Operating_System        Software_Component      Version  \\\n",
              "0          BSD-derived                ip_input.c      unknown   \n",
              "1                Linux                NFS mountd      unknown   \n",
              "2              unknown                   unknown      unknown   \n",
              "3              unknown                   unknown      unknown   \n",
              "4              unknown                   unknown      unknown   \n",
              "...                ...                       ...          ...   \n",
              "11494          Android            Android kernel      unknown   \n",
              "11495          Android            Android kernel  A-174870704   \n",
              "11496          unknown  memory management driver      unknown   \n",
              "11497          unknown                       m4u      unknown   \n",
              "11498          unknown                       m4u      unknown   \n",
              "\n",
              "                                  Impact Affected_Hardware  \\\n",
              "0      denial of service (crash or hang)           unknown   \n",
              "1                            root access           unknown   \n",
              "2                                unknown           unknown   \n",
              "3                                unknown           unknown   \n",
              "4                                unknown           unknown   \n",
              "...                                  ...               ...   \n",
              "11494      local escalation of privilege           unknown   \n",
              "11495      local escalation of privilege           unknown   \n",
              "11496      local escalation of privilege           unknown   \n",
              "11497      local escalation of privilege           unknown   \n",
              "11498      local escalation of privilege           unknown   \n",
              "\n",
              "      Network_Requirements Affected_Protocols Authentication_Required  \\\n",
              "0                   remote             TCP/IP                 unknown   \n",
              "1                   remote                NFS                 unknown   \n",
              "2                  unknown            unknown                 unknown   \n",
              "3                  unknown            unknown                 unknown   \n",
              "4                  unknown            unknown                 unknown   \n",
              "...                    ...                ...                     ...   \n",
              "11494              unknown            unknown                 unknown   \n",
              "11495              unknown            unknown                 unknown   \n",
              "11496              unknown            unknown                 unknown   \n",
              "11497              unknown            unknown                 unknown   \n",
              "11498              unknown            unknown                 unknown   \n",
              "\n",
              "                             Privileges_Required User_Interaction_Required  \\\n",
              "0                                        unknown                   unknown   \n",
              "1                                        unknown                   unknown   \n",
              "2                                        unknown                   unknown   \n",
              "3                                        unknown                   unknown   \n",
              "4                                        unknown                   unknown   \n",
              "...                                          ...                       ...   \n",
              "11494  no additional execution privileges needed                   unknown   \n",
              "11495  no additional execution privileges needed                        no   \n",
              "11496                                    unknown                        No   \n",
              "11497                System execution privileges                        No   \n",
              "11498                System execution privileges                        No   \n",
              "\n",
              "        Vendor                                             labels  \n",
              "0      unknown  [BSD-derived, ip_input.c, unknown, denial of s...  \n",
              "1      unknown  [Linux, NFS mountd, unknown, root access, unkn...  \n",
              "2      unknown  [unknown, unknown, unknown, unknown, unknown, ...  \n",
              "3      unknown  [unknown, unknown, unknown, unknown, unknown, ...  \n",
              "4      unknown  [unknown, unknown, unknown, unknown, unknown, ...  \n",
              "...        ...                                                ...  \n",
              "11494  unknown  [Android, Android kernel, unknown, local escal...  \n",
              "11495  unknown  [Android, Android kernel, A-174870704, local e...  \n",
              "11496  unknown  [unknown, memory management driver, unknown, l...  \n",
              "11497  unknown  [unknown, m4u, unknown, local escalation of pr...  \n",
              "11498  unknown  [unknown, m4u, unknown, local escalation of pr...  \n",
              "\n",
              "[11499 rows x 19 columns]"
            ]
          },
          "execution_count": 10,
          "metadata": {},
          "output_type": "execute_result"
        }
      ],
      "source": [
        "df"
      ]
    },
    {
      "cell_type": "code",
      "execution_count": 11,
      "metadata": {
        "id": "NQtVtur08v8M"
      },
      "outputs": [],
      "source": [
        "binary_labels_list = []\n",
        "for label in labels:\n",
        "    lb = LabelBinarizer()\n",
        "    binary_labels = lb.fit_transform(df[label])\n",
        "    binary_labels_list.append(binary_labels)\n",
        "\n",
        "# Concatenate all binary label matrices\n",
        "binary_labels = np.concatenate(binary_labels_list, axis=1)"
      ]
    },
    {
      "cell_type": "code",
      "execution_count": 12,
      "metadata": {
        "id": "D9EkapSt_m1W"
      },
      "outputs": [],
      "source": [
        "binary_labels = np.concatenate(binary_labels_list, axis=1)"
      ]
    },
    {
      "cell_type": "code",
      "execution_count": 13,
      "metadata": {
        "colab": {
          "base_uri": "https://localhost:8080/"
        },
        "id": "-Vl9irRY--hB",
        "outputId": "e13a9bd7-ad95-479a-f6c4-bc02b00f29c4"
      },
      "outputs": [
        {
          "name": "stdout",
          "output_type": "stream",
          "text": [
            "Binary labels shape: (11499, 13783)\n"
          ]
        }
      ],
      "source": [
        "print(\"Binary labels shape:\", binary_labels.shape)  # Should be (num_samples, 11)"
      ]
    },
    {
      "cell_type": "code",
      "execution_count": 14,
      "metadata": {
        "id": "MFjR3R6C81Cl"
      },
      "outputs": [],
      "source": [
        "df['binary_labels'] = list(binary_labels)"
      ]
    },
    {
      "cell_type": "code",
      "execution_count": 15,
      "metadata": {
        "id": "JQyM8qQX9j0j"
      },
      "outputs": [],
      "source": [
        "dataset = Dataset.from_pandas(df)"
      ]
    },
    {
      "cell_type": "code",
      "execution_count": 16,
      "metadata": {
        "colab": {
          "base_uri": "https://localhost:8080/"
        },
        "id": "qiUR859I9k5A",
        "outputId": "c0c3d4e8-b24a-4840-addc-dbea89459f58"
      },
      "outputs": [
        {
          "name": "stderr",
          "output_type": "stream",
          "text": [
            "/usr/local/lib/python3.10/dist-packages/transformers/tokenization_utils_base.py:1601: FutureWarning: `clean_up_tokenization_spaces` was not set. It will be set to `True` by default. This behavior will be depracted in transformers v4.45, and will be then set to `False` by default. For more details check this issue: https://github.com/huggingface/transformers/issues/31884\n",
            "  warnings.warn(\n"
          ]
        }
      ],
      "source": [
        "tokenizer = AutoTokenizer.from_pretrained(\"bert-base-uncased\")"
      ]
    },
    {
      "cell_type": "code",
      "execution_count": 27,
      "metadata": {
        "id": "RKhDdz9I9mMj"
      },
      "outputs": [],
      "source": [
        "def preprocess_data(examples):\n",
        "    text = examples['DESCRIPTION']\n",
        "    encoding = tokenizer(text, padding=\"max_length\", truncation=True, max_length=128)\n",
        "    encoding[\"labels\"] = [np.array(label, dtype=np.float32) for label in examples['binary_labels']]\n",
        "    return encoding"
      ]
    },
    {
      "cell_type": "code",
      "execution_count": 28,
      "metadata": {
        "colab": {
          "base_uri": "https://localhost:8080/",
          "height": 49,
          "referenced_widgets": [
            "ac08f9840ce749fbb69fd9cb2121b2bd",
            "0da73ce8ba71498b9ebbfc363f8fffd8",
            "da0a68c533ab46a7a3c77c696d38c38b",
            "2dc55a5febbe4cf0a9e32624e5101e32",
            "6b91babf4be0424bbebadbbfb31f7dd5",
            "26ed45f5384046f981d5cc3f705f10d3",
            "1be43d57afd346cc964b8df39be09f46",
            "f8bac4568ac9466eb10754201810feed",
            "ce18ad67005b4ebfb7c75b0b1698ad56",
            "15761fdeb8804179a3738ff85988cbd3",
            "aa1a4958df07481c97f8499aa7173bea"
          ]
        },
        "id": "D3xfByrS9nkC",
        "outputId": "9e722b65-0dfb-4a00-d7e5-999217d8c227"
      },
      "outputs": [
        {
          "data": {
            "application/vnd.jupyter.widget-view+json": {
              "model_id": "ac08f9840ce749fbb69fd9cb2121b2bd",
              "version_major": 2,
              "version_minor": 0
            },
            "text/plain": [
              "Map:   0%|          | 0/11499 [00:00<?, ? examples/s]"
            ]
          },
          "metadata": {},
          "output_type": "display_data"
        }
      ],
      "source": [
        "encoded_dataset = dataset.map(preprocess_data, batched=True, remove_columns=dataset.column_names)"
      ]
    },
    {
      "cell_type": "code",
      "execution_count": 29,
      "metadata": {
        "colab": {
          "base_uri": "https://localhost:8080/"
        },
        "id": "Vv_upDDPAM_m",
        "outputId": "5b12df36-b7d6-43ad-93f8-1a6a098c470b"
      },
      "outputs": [
        {
          "name": "stdout",
          "output_type": "stream",
          "text": [
            "Unique values in Operating_System: 219\n",
            "Unique values in Software_Component: 5653\n",
            "Unique values in Version: 4118\n",
            "Unique values in Impact: 2127\n",
            "Unique values in Affected_Hardware: 187\n",
            "Unique values in Network_Requirements: 34\n",
            "Unique values in Affected_Protocols: 277\n",
            "Unique values in Authentication_Required: 6\n",
            "Unique values in Privileges_Required: 142\n",
            "Unique values in User_Interaction_Required: 16\n",
            "Unique values in Vendor: 1004\n"
          ]
        }
      ],
      "source": [
        "for label in labels:\n",
        "    unique_values = df[label].unique()\n",
        "    print(f\"Unique values in {label}: {len(unique_values)}\")"
      ]
    },
    {
      "cell_type": "code",
      "execution_count": 30,
      "metadata": {
        "id": "8qGURZ3_9o8t"
      },
      "outputs": [],
      "source": [
        "train_test_split = encoded_dataset.train_test_split(test_size=0.2)\n",
        "train_dataset = train_test_split['train']\n",
        "eval_dataset = train_test_split['test']"
      ]
    },
    {
      "cell_type": "code",
      "execution_count": 31,
      "metadata": {
        "colab": {
          "base_uri": "https://localhost:8080/"
        },
        "id": "OJsQXvd19shg",
        "outputId": "c6e99bb2-e65a-4e29-b358-7c6b8846fafd"
      },
      "outputs": [
        {
          "name": "stderr",
          "output_type": "stream",
          "text": [
            "Some weights of BertForSequenceClassification were not initialized from the model checkpoint at bert-base-uncased and are newly initialized: ['classifier.bias', 'classifier.weight']\n",
            "You should probably TRAIN this model on a down-stream task to be able to use it for predictions and inference.\n"
          ]
        }
      ],
      "source": [
        "model = AutoModelForSequenceClassification.from_pretrained(\n",
        "    \"bert-base-uncased\",\n",
        "    problem_type=\"multi_label_classification\",\n",
        "    num_labels=binary_labels.shape[1]  # Ensure this matches the number of binary columns\n",
        ")"
      ]
    },
    {
      "cell_type": "code",
      "execution_count": 32,
      "metadata": {
        "colab": {
          "base_uri": "https://localhost:8080/"
        },
        "id": "2SqFDNJN9v03",
        "outputId": "3960bb3c-12c4-464d-da91-a61389f76abe"
      },
      "outputs": [
        {
          "name": "stderr",
          "output_type": "stream",
          "text": [
            "/usr/local/lib/python3.10/dist-packages/transformers/training_args.py:1525: FutureWarning: `evaluation_strategy` is deprecated and will be removed in version 4.46 of 🤗 Transformers. Use `eval_strategy` instead\n",
            "  warnings.warn(\n"
          ]
        }
      ],
      "source": [
        "args = TrainingArguments(\n",
        "    \"bert-finetuned-description\",\n",
        "    evaluation_strategy=\"epoch\",\n",
        "    save_strategy=\"epoch\",\n",
        "    learning_rate=2e-5,\n",
        "    per_device_train_batch_size=8,\n",
        "    per_device_eval_batch_size=8,\n",
        "    num_train_epochs=5,\n",
        "    weight_decay=0.01,\n",
        "    load_best_model_at_end=True,\n",
        "    metric_for_best_model=\"f1\",\n",
        ")\n"
      ]
    },
    {
      "cell_type": "code",
      "execution_count": 33,
      "metadata": {
        "id": "2hMdMd8O9v2_"
      },
      "outputs": [],
      "source": [
        "def compute_metrics(p):\n",
        "    preds = p.predictions[0] if isinstance(p.predictions, tuple) else p.predictions\n",
        "    sigmoid = torch.nn.Sigmoid()\n",
        "    probs = sigmoid(torch.Tensor(preds))\n",
        "    y_pred = np.zeros(probs.shape)\n",
        "    y_pred[np.where(probs >= 0.5)] = 1\n",
        "    y_true = p.label_ids\n",
        "    f1_micro_average = f1_score(y_true=y_true, y_pred=y_pred, average='micro')\n",
        "    roc_auc = roc_auc_score(y_true, probs, average='micro')\n",
        "    accuracy = accuracy_score(y_true, y_pred)\n",
        "    return {'f1': f1_micro_average, 'roc_auc': roc_auc, 'accuracy': accuracy}"
      ]
    },
    {
      "cell_type": "code",
      "execution_count": 34,
      "metadata": {
        "id": "m_cFka-89v5A"
      },
      "outputs": [],
      "source": [
        "trainer = Trainer(\n",
        "    model=model,\n",
        "    args=args,\n",
        "    train_dataset=train_dataset,\n",
        "    eval_dataset=eval_dataset,\n",
        "    tokenizer=tokenizer,\n",
        "    compute_metrics=compute_metrics\n",
        ")"
      ]
    },
    {
      "cell_type": "code",
      "execution_count": null,
      "metadata": {
        "colab": {
          "base_uri": "https://localhost:8080/",
          "height": 268
        },
        "id": "SSPuNtSr91_I",
        "outputId": "7a3d4fc8-70a3-46fc-8b6b-71a29dfaa29e"
      },
      "outputs": [
        {
          "name": "stderr",
          "output_type": "stream",
          "text": [
            "\u001b[34m\u001b[1mwandb\u001b[0m: \u001b[33mWARNING\u001b[0m Serializing object of type dict that is 589920 bytes\n",
            "\u001b[34m\u001b[1mwandb\u001b[0m: \u001b[33mWARNING\u001b[0m Serializing object of type dict that is 589920 bytes\n"
          ]
        },
        {
          "data": {
            "text/html": [
              "\n",
              "    <div>\n",
              "      \n",
              "      <progress value='5751' max='5750' style='width:300px; height:20px; vertical-align: middle;'></progress>\n",
              "      [5750/5750 32:21, Epoch 5/5]\n",
              "    </div>\n",
              "    <table border=\"1\" class=\"dataframe\">\n",
              "  <thead>\n",
              " <tr style=\"text-align: left;\">\n",
              "      <th>Epoch</th>\n",
              "      <th>Training Loss</th>\n",
              "      <th>Validation Loss</th>\n",
              "      <th>F1</th>\n",
              "      <th>Roc Auc</th>\n",
              "      <th>Accuracy</th>\n",
              "    </tr>\n",
              "  </thead>\n",
              "  <tbody>\n",
              "    <tr>\n",
              "      <td>1</td>\n",
              "      <td>0.018200</td>\n",
              "      <td>0.009610</td>\n",
              "      <td>0.618772</td>\n",
              "      <td>0.901559</td>\n",
              "      <td>0.000000</td>\n",
              "    </tr>\n",
              "    <tr>\n",
              "      <td>2</td>\n",
              "      <td>0.006100</td>\n",
              "      <td>0.004593</td>\n",
              "      <td>0.618772</td>\n",
              "      <td>0.910594</td>\n",
              "      <td>0.000000</td>\n",
              "    </tr>\n",
              "    <tr>\n",
              "      <td>3</td>\n",
              "      <td>0.004000</td>\n",
              "      <td>0.003432</td>\n",
              "      <td>0.641884</td>\n",
              "      <td>0.914364</td>\n",
              "      <td>0.000000</td>\n",
              "    </tr>\n",
              "    <tr>\n",
              "      <td>4</td>\n",
              "      <td>0.003100</td>\n",
              "      <td>0.003021</td>\n",
              "      <td>0.641884</td>\n",
              "      <td>0.915721</td>\n",
              "      <td>0.000000</td>\n",
              "    </tr>\n",
              "    <tr>\n",
              "      <td>5</td>\n",
              "      <td>0.003000</td>\n",
              "      <td>0.002903</td>\n",
              "      <td>0.618772</td>\n",
              "      <td>0.915722</td>\n",
              "      <td>0.000000</td>\n",
              "    </tr>\n",
              "  </tbody>\n",
              "</table><p>"
            ],
            "text/plain": [
              "<IPython.core.display.HTML object>"
            ]
          },
          "metadata": {},
          "output_type": "display_data"
        }
      ],
      "source": [
        "# Train the model\n",
        "trainer.train()"
      ]
    },
    {
      "cell_type": "code",
      "execution_count": 36,
      "metadata": {
        "colab": {
          "base_uri": "https://localhost:8080/",
          "height": 180
        },
        "id": "V6Xxl1lm93Kp",
        "outputId": "bd203f9a-5ea5-4441-ca61-bc5020be6598"
      },
      "outputs": [
        {
          "data": {
            "text/html": [
              "\n",
              "    <div>\n",
              "      \n",
              "      <progress value='288' max='288' style='width:300px; height:20px; vertical-align: middle;'></progress>\n",
              "      [288/288 00:58]\n",
              "    </div>\n",
              "    "
            ],
            "text/plain": [
              "<IPython.core.display.HTML object>"
            ]
          },
          "metadata": {},
          "output_type": "display_data"
        },
        {
          "data": {
            "text/plain": [
              "{'eval_loss': 0.0034321495331823826,\n",
              " 'eval_f1': 0.6418840579710144,\n",
              " 'eval_roc_auc': 0.9143640756345565,\n",
              " 'eval_accuracy': 0.0,\n",
              " 'eval_runtime': 84.3751,\n",
              " 'eval_samples_per_second': 27.259,\n",
              " 'eval_steps_per_second': 3.413,\n",
              " 'epoch': 5.0}"
            ]
          },
          "execution_count": 36,
          "metadata": {},
          "output_type": "execute_result"
        }
      ],
      "source": [
        "trainer.evaluate()"
      ]
    },
    {
      "cell_type": "code",
      "execution_count": 37,
      "metadata": {
        "colab": {
          "base_uri": "https://localhost:8080/"
        },
        "id": "_vOzkDcWJB-6",
        "outputId": "1ffb26ce-fe7c-45cd-dbea-7e14ddcb5ef3"
      },
      "outputs": [
        {
          "data": {
            "text/plain": [
              "('nlp-bert/tokenizer_config.json',\n",
              " 'nlp-bert/special_tokens_map.json',\n",
              " 'nlp-bert/vocab.txt',\n",
              " 'nlp-bert/added_tokens.json',\n",
              " 'nlp-bert/tokenizer.json')"
            ]
          },
          "execution_count": 37,
          "metadata": {},
          "output_type": "execute_result"
        }
      ],
      "source": [
        "output_dir = \"nlp-bert\"  # Specify your desired directory\n",
        "model.save_pretrained(output_dir)\n",
        "tokenizer.save_pretrained(output_dir)"
      ]
    },
    {
      "cell_type": "code",
      "execution_count": null,
      "metadata": {
        "id": "jioWZ4lhKo9w"
      },
      "outputs": [],
      "source": []
    }
  ],
  "metadata": {
    "accelerator": "GPU",
    "colab": {
      "gpuType": "T4",
      "provenance": []
    },
    "kernelspec": {
      "display_name": "Python 3",
      "name": "python3"
    },
    "language_info": {
      "codemirror_mode": {
        "name": "ipython",
        "version": 3
      },
      "file_extension": ".py",
      "mimetype": "text/x-python",
      "name": "python",
      "nbconvert_exporter": "python",
      "pygments_lexer": "ipython3",
      "version": "3.11.5"
    },
    "widgets": {
      "application/vnd.jupyter.widget-state+json": {
        "0da73ce8ba71498b9ebbfc363f8fffd8": {
          "model_module": "@jupyter-widgets/controls",
          "model_module_version": "1.5.0",
          "model_name": "HTMLModel",
          "state": {
            "_dom_classes": [],
            "_model_module": "@jupyter-widgets/controls",
            "_model_module_version": "1.5.0",
            "_model_name": "HTMLModel",
            "_view_count": null,
            "_view_module": "@jupyter-widgets/controls",
            "_view_module_version": "1.5.0",
            "_view_name": "HTMLView",
            "description": "",
            "description_tooltip": null,
            "layout": "IPY_MODEL_26ed45f5384046f981d5cc3f705f10d3",
            "placeholder": "​",
            "style": "IPY_MODEL_1be43d57afd346cc964b8df39be09f46",
            "value": "Map: 100%"
          }
        },
        "15761fdeb8804179a3738ff85988cbd3": {
          "model_module": "@jupyter-widgets/base",
          "model_module_version": "1.2.0",
          "model_name": "LayoutModel",
          "state": {
            "_model_module": "@jupyter-widgets/base",
            "_model_module_version": "1.2.0",
            "_model_name": "LayoutModel",
            "_view_count": null,
            "_view_module": "@jupyter-widgets/base",
            "_view_module_version": "1.2.0",
            "_view_name": "LayoutView",
            "align_content": null,
            "align_items": null,
            "align_self": null,
            "border": null,
            "bottom": null,
            "display": null,
            "flex": null,
            "flex_flow": null,
            "grid_area": null,
            "grid_auto_columns": null,
            "grid_auto_flow": null,
            "grid_auto_rows": null,
            "grid_column": null,
            "grid_gap": null,
            "grid_row": null,
            "grid_template_areas": null,
            "grid_template_columns": null,
            "grid_template_rows": null,
            "height": null,
            "justify_content": null,
            "justify_items": null,
            "left": null,
            "margin": null,
            "max_height": null,
            "max_width": null,
            "min_height": null,
            "min_width": null,
            "object_fit": null,
            "object_position": null,
            "order": null,
            "overflow": null,
            "overflow_x": null,
            "overflow_y": null,
            "padding": null,
            "right": null,
            "top": null,
            "visibility": null,
            "width": null
          }
        },
        "1be43d57afd346cc964b8df39be09f46": {
          "model_module": "@jupyter-widgets/controls",
          "model_module_version": "1.5.0",
          "model_name": "DescriptionStyleModel",
          "state": {
            "_model_module": "@jupyter-widgets/controls",
            "_model_module_version": "1.5.0",
            "_model_name": "DescriptionStyleModel",
            "_view_count": null,
            "_view_module": "@jupyter-widgets/base",
            "_view_module_version": "1.2.0",
            "_view_name": "StyleView",
            "description_width": ""
          }
        },
        "26ed45f5384046f981d5cc3f705f10d3": {
          "model_module": "@jupyter-widgets/base",
          "model_module_version": "1.2.0",
          "model_name": "LayoutModel",
          "state": {
            "_model_module": "@jupyter-widgets/base",
            "_model_module_version": "1.2.0",
            "_model_name": "LayoutModel",
            "_view_count": null,
            "_view_module": "@jupyter-widgets/base",
            "_view_module_version": "1.2.0",
            "_view_name": "LayoutView",
            "align_content": null,
            "align_items": null,
            "align_self": null,
            "border": null,
            "bottom": null,
            "display": null,
            "flex": null,
            "flex_flow": null,
            "grid_area": null,
            "grid_auto_columns": null,
            "grid_auto_flow": null,
            "grid_auto_rows": null,
            "grid_column": null,
            "grid_gap": null,
            "grid_row": null,
            "grid_template_areas": null,
            "grid_template_columns": null,
            "grid_template_rows": null,
            "height": null,
            "justify_content": null,
            "justify_items": null,
            "left": null,
            "margin": null,
            "max_height": null,
            "max_width": null,
            "min_height": null,
            "min_width": null,
            "object_fit": null,
            "object_position": null,
            "order": null,
            "overflow": null,
            "overflow_x": null,
            "overflow_y": null,
            "padding": null,
            "right": null,
            "top": null,
            "visibility": null,
            "width": null
          }
        },
        "2dc55a5febbe4cf0a9e32624e5101e32": {
          "model_module": "@jupyter-widgets/controls",
          "model_module_version": "1.5.0",
          "model_name": "HTMLModel",
          "state": {
            "_dom_classes": [],
            "_model_module": "@jupyter-widgets/controls",
            "_model_module_version": "1.5.0",
            "_model_name": "HTMLModel",
            "_view_count": null,
            "_view_module": "@jupyter-widgets/controls",
            "_view_module_version": "1.5.0",
            "_view_name": "HTMLView",
            "description": "",
            "description_tooltip": null,
            "layout": "IPY_MODEL_15761fdeb8804179a3738ff85988cbd3",
            "placeholder": "​",
            "style": "IPY_MODEL_aa1a4958df07481c97f8499aa7173bea",
            "value": " 11499/11499 [01:29&lt;00:00, 144.33 examples/s]"
          }
        },
        "6b91babf4be0424bbebadbbfb31f7dd5": {
          "model_module": "@jupyter-widgets/base",
          "model_module_version": "1.2.0",
          "model_name": "LayoutModel",
          "state": {
            "_model_module": "@jupyter-widgets/base",
            "_model_module_version": "1.2.0",
            "_model_name": "LayoutModel",
            "_view_count": null,
            "_view_module": "@jupyter-widgets/base",
            "_view_module_version": "1.2.0",
            "_view_name": "LayoutView",
            "align_content": null,
            "align_items": null,
            "align_self": null,
            "border": null,
            "bottom": null,
            "display": null,
            "flex": null,
            "flex_flow": null,
            "grid_area": null,
            "grid_auto_columns": null,
            "grid_auto_flow": null,
            "grid_auto_rows": null,
            "grid_column": null,
            "grid_gap": null,
            "grid_row": null,
            "grid_template_areas": null,
            "grid_template_columns": null,
            "grid_template_rows": null,
            "height": null,
            "justify_content": null,
            "justify_items": null,
            "left": null,
            "margin": null,
            "max_height": null,
            "max_width": null,
            "min_height": null,
            "min_width": null,
            "object_fit": null,
            "object_position": null,
            "order": null,
            "overflow": null,
            "overflow_x": null,
            "overflow_y": null,
            "padding": null,
            "right": null,
            "top": null,
            "visibility": null,
            "width": null
          }
        },
        "aa1a4958df07481c97f8499aa7173bea": {
          "model_module": "@jupyter-widgets/controls",
          "model_module_version": "1.5.0",
          "model_name": "DescriptionStyleModel",
          "state": {
            "_model_module": "@jupyter-widgets/controls",
            "_model_module_version": "1.5.0",
            "_model_name": "DescriptionStyleModel",
            "_view_count": null,
            "_view_module": "@jupyter-widgets/base",
            "_view_module_version": "1.2.0",
            "_view_name": "StyleView",
            "description_width": ""
          }
        },
        "ac08f9840ce749fbb69fd9cb2121b2bd": {
          "model_module": "@jupyter-widgets/controls",
          "model_module_version": "1.5.0",
          "model_name": "HBoxModel",
          "state": {
            "_dom_classes": [],
            "_model_module": "@jupyter-widgets/controls",
            "_model_module_version": "1.5.0",
            "_model_name": "HBoxModel",
            "_view_count": null,
            "_view_module": "@jupyter-widgets/controls",
            "_view_module_version": "1.5.0",
            "_view_name": "HBoxView",
            "box_style": "",
            "children": [
              "IPY_MODEL_0da73ce8ba71498b9ebbfc363f8fffd8",
              "IPY_MODEL_da0a68c533ab46a7a3c77c696d38c38b",
              "IPY_MODEL_2dc55a5febbe4cf0a9e32624e5101e32"
            ],
            "layout": "IPY_MODEL_6b91babf4be0424bbebadbbfb31f7dd5"
          }
        },
        "ce18ad67005b4ebfb7c75b0b1698ad56": {
          "model_module": "@jupyter-widgets/controls",
          "model_module_version": "1.5.0",
          "model_name": "ProgressStyleModel",
          "state": {
            "_model_module": "@jupyter-widgets/controls",
            "_model_module_version": "1.5.0",
            "_model_name": "ProgressStyleModel",
            "_view_count": null,
            "_view_module": "@jupyter-widgets/base",
            "_view_module_version": "1.2.0",
            "_view_name": "StyleView",
            "bar_color": null,
            "description_width": ""
          }
        },
        "da0a68c533ab46a7a3c77c696d38c38b": {
          "model_module": "@jupyter-widgets/controls",
          "model_module_version": "1.5.0",
          "model_name": "FloatProgressModel",
          "state": {
            "_dom_classes": [],
            "_model_module": "@jupyter-widgets/controls",
            "_model_module_version": "1.5.0",
            "_model_name": "FloatProgressModel",
            "_view_count": null,
            "_view_module": "@jupyter-widgets/controls",
            "_view_module_version": "1.5.0",
            "_view_name": "ProgressView",
            "bar_style": "success",
            "description": "",
            "description_tooltip": null,
            "layout": "IPY_MODEL_f8bac4568ac9466eb10754201810feed",
            "max": 11499,
            "min": 0,
            "orientation": "horizontal",
            "style": "IPY_MODEL_ce18ad67005b4ebfb7c75b0b1698ad56",
            "value": 11499
          }
        },
        "f8bac4568ac9466eb10754201810feed": {
          "model_module": "@jupyter-widgets/base",
          "model_module_version": "1.2.0",
          "model_name": "LayoutModel",
          "state": {
            "_model_module": "@jupyter-widgets/base",
            "_model_module_version": "1.2.0",
            "_model_name": "LayoutModel",
            "_view_count": null,
            "_view_module": "@jupyter-widgets/base",
            "_view_module_version": "1.2.0",
            "_view_name": "LayoutView",
            "align_content": null,
            "align_items": null,
            "align_self": null,
            "border": null,
            "bottom": null,
            "display": null,
            "flex": null,
            "flex_flow": null,
            "grid_area": null,
            "grid_auto_columns": null,
            "grid_auto_flow": null,
            "grid_auto_rows": null,
            "grid_column": null,
            "grid_gap": null,
            "grid_row": null,
            "grid_template_areas": null,
            "grid_template_columns": null,
            "grid_template_rows": null,
            "height": null,
            "justify_content": null,
            "justify_items": null,
            "left": null,
            "margin": null,
            "max_height": null,
            "max_width": null,
            "min_height": null,
            "min_width": null,
            "object_fit": null,
            "object_position": null,
            "order": null,
            "overflow": null,
            "overflow_x": null,
            "overflow_y": null,
            "padding": null,
            "right": null,
            "top": null,
            "visibility": null,
            "width": null
          }
        }
      }
    }
  },
  "nbformat": 4,
  "nbformat_minor": 0
}
