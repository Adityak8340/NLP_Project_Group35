{
 "cells": [
  {
   "cell_type": "code",
   "execution_count": 1,
   "metadata": {},
   "outputs": [
    {
     "data": {
      "text/plain": [
       "22"
      ]
     },
     "execution_count": 1,
     "metadata": {},
     "output_type": "execute_result"
    }
   ],
   "source": [
    "11+11"
   ]
  },
  {
   "cell_type": "code",
   "execution_count": 2,
   "metadata": {},
   "outputs": [],
   "source": [
    "import pandas as pd\n",
    "\n",
    "# Read the Excel file\n",
    "excel_file = 'final_data.xlsx'\n",
    "df = pd.read_excel(excel_file)\n",
    "\n",
    "# Convert to CSV\n",
    "csv_file = 'Fibal_data.csv'\n",
    "df.to_csv(csv_file, index=False)\n"
   ]
  },
  {
   "cell_type": "code",
   "execution_count": 3,
   "metadata": {},
   "outputs": [
    {
     "data": {
      "text/html": [
       "<div>\n",
       "<style scoped>\n",
       "    .dataframe tbody tr th:only-of-type {\n",
       "        vertical-align: middle;\n",
       "    }\n",
       "\n",
       "    .dataframe tbody tr th {\n",
       "        vertical-align: top;\n",
       "    }\n",
       "\n",
       "    .dataframe thead th {\n",
       "        text-align: right;\n",
       "    }\n",
       "</style>\n",
       "<table border=\"1\" class=\"dataframe\">\n",
       "  <thead>\n",
       "    <tr style=\"text-align: right;\">\n",
       "      <th></th>\n",
       "      <th>ID</th>\n",
       "      <th>CVE-ID</th>\n",
       "      <th>CVSS-V3</th>\n",
       "      <th>CVSS-V2</th>\n",
       "      <th>SEVERITY</th>\n",
       "      <th>DESCRIPTION</th>\n",
       "      <th>CWE-ID</th>\n",
       "      <th>Operating_System</th>\n",
       "      <th>Software_Component</th>\n",
       "      <th>Version</th>\n",
       "      <th>Impact</th>\n",
       "      <th>Affected_Hardware</th>\n",
       "      <th>Network_Requirements</th>\n",
       "      <th>Affected_Protocols</th>\n",
       "      <th>Authentication_Required</th>\n",
       "      <th>Privileges_Required</th>\n",
       "      <th>User_Interaction_Required</th>\n",
       "      <th>Vendor</th>\n",
       "    </tr>\n",
       "  </thead>\n",
       "  <tbody>\n",
       "    <tr>\n",
       "      <th>0</th>\n",
       "      <td>1</td>\n",
       "      <td>CVE-1999-0001</td>\n",
       "      <td>NaN</td>\n",
       "      <td>5.0</td>\n",
       "      <td>MEDIUM</td>\n",
       "      <td>ip_input.c in BSD-derived TCP/IP implementatio...</td>\n",
       "      <td>CWE-20</td>\n",
       "      <td>BSD-derived</td>\n",
       "      <td>ip_input.c</td>\n",
       "      <td>NaN</td>\n",
       "      <td>denial of service (crash or hang)</td>\n",
       "      <td>NaN</td>\n",
       "      <td>remote</td>\n",
       "      <td>TCP/IP</td>\n",
       "      <td>NaN</td>\n",
       "      <td>NaN</td>\n",
       "      <td>NaN</td>\n",
       "      <td>NaN</td>\n",
       "    </tr>\n",
       "    <tr>\n",
       "      <th>1</th>\n",
       "      <td>2</td>\n",
       "      <td>CVE-1999-0002</td>\n",
       "      <td>NaN</td>\n",
       "      <td>10.0</td>\n",
       "      <td>HIGH</td>\n",
       "      <td>Buffer overflow in NFS mountd gives root acces...</td>\n",
       "      <td>CWE-119</td>\n",
       "      <td>Linux</td>\n",
       "      <td>NFS mountd</td>\n",
       "      <td>NaN</td>\n",
       "      <td>root access</td>\n",
       "      <td>NaN</td>\n",
       "      <td>remote</td>\n",
       "      <td>NFS</td>\n",
       "      <td>NaN</td>\n",
       "      <td>NaN</td>\n",
       "      <td>NaN</td>\n",
       "      <td>NaN</td>\n",
       "    </tr>\n",
       "    <tr>\n",
       "      <th>2</th>\n",
       "      <td>3</td>\n",
       "      <td>CVE-1999-0003</td>\n",
       "      <td>NaN</td>\n",
       "      <td>10.0</td>\n",
       "      <td>HIGH</td>\n",
       "      <td>Execute commands as root via buffer overflow i...</td>\n",
       "      <td>NVD-CWE-Other</td>\n",
       "      <td>NaN</td>\n",
       "      <td>NaN</td>\n",
       "      <td>NaN</td>\n",
       "      <td>NaN</td>\n",
       "      <td>NaN</td>\n",
       "      <td>NaN</td>\n",
       "      <td>NaN</td>\n",
       "      <td>NaN</td>\n",
       "      <td>NaN</td>\n",
       "      <td>NaN</td>\n",
       "      <td>NaN</td>\n",
       "    </tr>\n",
       "    <tr>\n",
       "      <th>3</th>\n",
       "      <td>4</td>\n",
       "      <td>CVE-1999-0004</td>\n",
       "      <td>NaN</td>\n",
       "      <td>5.0</td>\n",
       "      <td>MEDIUM</td>\n",
       "      <td>MIME buffer overflow in email clients, e.g. So...</td>\n",
       "      <td>NVD-CWE-Other</td>\n",
       "      <td>NaN</td>\n",
       "      <td>NaN</td>\n",
       "      <td>NaN</td>\n",
       "      <td>NaN</td>\n",
       "      <td>NaN</td>\n",
       "      <td>NaN</td>\n",
       "      <td>NaN</td>\n",
       "      <td>NaN</td>\n",
       "      <td>NaN</td>\n",
       "      <td>NaN</td>\n",
       "      <td>NaN</td>\n",
       "    </tr>\n",
       "    <tr>\n",
       "      <th>4</th>\n",
       "      <td>5</td>\n",
       "      <td>CVE-1999-0005</td>\n",
       "      <td>NaN</td>\n",
       "      <td>10.0</td>\n",
       "      <td>HIGH</td>\n",
       "      <td>Arbitrary command execution via IMAP buffer ov...</td>\n",
       "      <td>NVD-CWE-Other</td>\n",
       "      <td>NaN</td>\n",
       "      <td>NaN</td>\n",
       "      <td>NaN</td>\n",
       "      <td>NaN</td>\n",
       "      <td>NaN</td>\n",
       "      <td>NaN</td>\n",
       "      <td>NaN</td>\n",
       "      <td>NaN</td>\n",
       "      <td>NaN</td>\n",
       "      <td>NaN</td>\n",
       "      <td>NaN</td>\n",
       "    </tr>\n",
       "  </tbody>\n",
       "</table>\n",
       "</div>"
      ],
      "text/plain": [
       "   ID         CVE-ID  CVSS-V3  CVSS-V2 SEVERITY  \\\n",
       "0   1  CVE-1999-0001      NaN      5.0   MEDIUM   \n",
       "1   2  CVE-1999-0002      NaN     10.0     HIGH   \n",
       "2   3  CVE-1999-0003      NaN     10.0     HIGH   \n",
       "3   4  CVE-1999-0004      NaN      5.0   MEDIUM   \n",
       "4   5  CVE-1999-0005      NaN     10.0     HIGH   \n",
       "\n",
       "                                         DESCRIPTION         CWE-ID  \\\n",
       "0  ip_input.c in BSD-derived TCP/IP implementatio...         CWE-20   \n",
       "1  Buffer overflow in NFS mountd gives root acces...        CWE-119   \n",
       "2  Execute commands as root via buffer overflow i...  NVD-CWE-Other   \n",
       "3  MIME buffer overflow in email clients, e.g. So...  NVD-CWE-Other   \n",
       "4  Arbitrary command execution via IMAP buffer ov...  NVD-CWE-Other   \n",
       "\n",
       "  Operating_System Software_Component Version  \\\n",
       "0      BSD-derived         ip_input.c     NaN   \n",
       "1            Linux         NFS mountd     NaN   \n",
       "2              NaN                NaN     NaN   \n",
       "3              NaN                NaN     NaN   \n",
       "4              NaN                NaN     NaN   \n",
       "\n",
       "                              Impact Affected_Hardware Network_Requirements  \\\n",
       "0  denial of service (crash or hang)               NaN               remote   \n",
       "1                        root access               NaN               remote   \n",
       "2                                NaN               NaN                  NaN   \n",
       "3                                NaN               NaN                  NaN   \n",
       "4                                NaN               NaN                  NaN   \n",
       "\n",
       "  Affected_Protocols Authentication_Required Privileges_Required  \\\n",
       "0             TCP/IP                     NaN                 NaN   \n",
       "1                NFS                     NaN                 NaN   \n",
       "2                NaN                     NaN                 NaN   \n",
       "3                NaN                     NaN                 NaN   \n",
       "4                NaN                     NaN                 NaN   \n",
       "\n",
       "  User_Interaction_Required Vendor  \n",
       "0                       NaN    NaN  \n",
       "1                       NaN    NaN  \n",
       "2                       NaN    NaN  \n",
       "3                       NaN    NaN  \n",
       "4                       NaN    NaN  "
      ]
     },
     "execution_count": 3,
     "metadata": {},
     "output_type": "execute_result"
    }
   ],
   "source": [
    "# Read the CSV file\n",
    "df = pd.read_csv(csv_file)\n",
    "\n",
    "# Display the first 5 rows\n",
    "df.head()"
   ]
  },
  {
   "cell_type": "code",
   "execution_count": 4,
   "metadata": {},
   "outputs": [
    {
     "data": {
      "text/html": [
       "<div>\n",
       "<style scoped>\n",
       "    .dataframe tbody tr th:only-of-type {\n",
       "        vertical-align: middle;\n",
       "    }\n",
       "\n",
       "    .dataframe tbody tr th {\n",
       "        vertical-align: top;\n",
       "    }\n",
       "\n",
       "    .dataframe thead th {\n",
       "        text-align: right;\n",
       "    }\n",
       "</style>\n",
       "<table border=\"1\" class=\"dataframe\">\n",
       "  <thead>\n",
       "    <tr style=\"text-align: right;\">\n",
       "      <th></th>\n",
       "      <th>ID</th>\n",
       "      <th>CVE-ID</th>\n",
       "      <th>CVSS-V3</th>\n",
       "      <th>CVSS-V2</th>\n",
       "      <th>SEVERITY</th>\n",
       "      <th>DESCRIPTION</th>\n",
       "      <th>CWE-ID</th>\n",
       "      <th>Operating_System</th>\n",
       "      <th>Software_Component</th>\n",
       "      <th>Version</th>\n",
       "      <th>Impact</th>\n",
       "      <th>Affected_Hardware</th>\n",
       "      <th>Network_Requirements</th>\n",
       "      <th>Affected_Protocols</th>\n",
       "      <th>Authentication_Required</th>\n",
       "      <th>Privileges_Required</th>\n",
       "      <th>User_Interaction_Required</th>\n",
       "      <th>Vendor</th>\n",
       "    </tr>\n",
       "  </thead>\n",
       "  <tbody>\n",
       "    <tr>\n",
       "      <th>11494</th>\n",
       "      <td>11495</td>\n",
       "      <td>CVE-2021-0607</td>\n",
       "      <td>7.8</td>\n",
       "      <td>4.6</td>\n",
       "      <td>HIGH</td>\n",
       "      <td>In iaxxx_calc_i2s_div of iaxxx-codec.c, there ...</td>\n",
       "      <td>CWE-119</td>\n",
       "      <td>Android</td>\n",
       "      <td>Android kernel</td>\n",
       "      <td>NaN</td>\n",
       "      <td>local escalation of privilege</td>\n",
       "      <td>NaN</td>\n",
       "      <td>NaN</td>\n",
       "      <td>NaN</td>\n",
       "      <td>NaN</td>\n",
       "      <td>no additional execution privileges needed</td>\n",
       "      <td>NaN</td>\n",
       "      <td>NaN</td>\n",
       "    </tr>\n",
       "    <tr>\n",
       "      <th>11495</th>\n",
       "      <td>11496</td>\n",
       "      <td>CVE-2021-0608</td>\n",
       "      <td>7.8</td>\n",
       "      <td>4.6</td>\n",
       "      <td>HIGH</td>\n",
       "      <td>In handleAppLaunch of AppLaunchActivity.java, ...</td>\n",
       "      <td>CWE-610</td>\n",
       "      <td>Android</td>\n",
       "      <td>Android kernel</td>\n",
       "      <td>A-174870704</td>\n",
       "      <td>local escalation of privilege</td>\n",
       "      <td>NaN</td>\n",
       "      <td>NaN</td>\n",
       "      <td>NaN</td>\n",
       "      <td>NaN</td>\n",
       "      <td>no additional execution privileges needed</td>\n",
       "      <td>no</td>\n",
       "      <td>NaN</td>\n",
       "    </tr>\n",
       "    <tr>\n",
       "      <th>11496</th>\n",
       "      <td>11497</td>\n",
       "      <td>CVE-2021-0610</td>\n",
       "      <td>7.8</td>\n",
       "      <td>4.6</td>\n",
       "      <td>HIGH</td>\n",
       "      <td>In memory management driver, there is a possib...</td>\n",
       "      <td>CWE-190</td>\n",
       "      <td>NaN</td>\n",
       "      <td>memory management driver</td>\n",
       "      <td>NaN</td>\n",
       "      <td>local escalation of privilege</td>\n",
       "      <td>NaN</td>\n",
       "      <td>NaN</td>\n",
       "      <td>NaN</td>\n",
       "      <td>NaN</td>\n",
       "      <td>NaN</td>\n",
       "      <td>No</td>\n",
       "      <td>NaN</td>\n",
       "    </tr>\n",
       "    <tr>\n",
       "      <th>11497</th>\n",
       "      <td>11498</td>\n",
       "      <td>CVE-2021-0611</td>\n",
       "      <td>7.8</td>\n",
       "      <td>4.6</td>\n",
       "      <td>HIGH</td>\n",
       "      <td>In m4u, there is a possible memory corruption ...</td>\n",
       "      <td>CWE-416</td>\n",
       "      <td>NaN</td>\n",
       "      <td>m4u</td>\n",
       "      <td>NaN</td>\n",
       "      <td>local escalation of privilege</td>\n",
       "      <td>NaN</td>\n",
       "      <td>NaN</td>\n",
       "      <td>NaN</td>\n",
       "      <td>NaN</td>\n",
       "      <td>System execution privileges</td>\n",
       "      <td>No</td>\n",
       "      <td>NaN</td>\n",
       "    </tr>\n",
       "    <tr>\n",
       "      <th>11498</th>\n",
       "      <td>11499</td>\n",
       "      <td>CVE-2021-0612</td>\n",
       "      <td>7.8</td>\n",
       "      <td>4.6</td>\n",
       "      <td>HIGH</td>\n",
       "      <td>In m4u, there is a possible memory corruption ...</td>\n",
       "      <td>CWE-416</td>\n",
       "      <td>NaN</td>\n",
       "      <td>m4u</td>\n",
       "      <td>NaN</td>\n",
       "      <td>local escalation of privilege</td>\n",
       "      <td>NaN</td>\n",
       "      <td>NaN</td>\n",
       "      <td>NaN</td>\n",
       "      <td>NaN</td>\n",
       "      <td>System execution privileges</td>\n",
       "      <td>No</td>\n",
       "      <td>NaN</td>\n",
       "    </tr>\n",
       "  </tbody>\n",
       "</table>\n",
       "</div>"
      ],
      "text/plain": [
       "          ID         CVE-ID  CVSS-V3  CVSS-V2 SEVERITY  \\\n",
       "11494  11495  CVE-2021-0607      7.8      4.6     HIGH   \n",
       "11495  11496  CVE-2021-0608      7.8      4.6     HIGH   \n",
       "11496  11497  CVE-2021-0610      7.8      4.6     HIGH   \n",
       "11497  11498  CVE-2021-0611      7.8      4.6     HIGH   \n",
       "11498  11499  CVE-2021-0612      7.8      4.6     HIGH   \n",
       "\n",
       "                                             DESCRIPTION   CWE-ID  \\\n",
       "11494  In iaxxx_calc_i2s_div of iaxxx-codec.c, there ...  CWE-119   \n",
       "11495  In handleAppLaunch of AppLaunchActivity.java, ...  CWE-610   \n",
       "11496  In memory management driver, there is a possib...  CWE-190   \n",
       "11497  In m4u, there is a possible memory corruption ...  CWE-416   \n",
       "11498  In m4u, there is a possible memory corruption ...  CWE-416   \n",
       "\n",
       "      Operating_System        Software_Component      Version  \\\n",
       "11494          Android            Android kernel          NaN   \n",
       "11495          Android            Android kernel  A-174870704   \n",
       "11496              NaN  memory management driver          NaN   \n",
       "11497              NaN                       m4u          NaN   \n",
       "11498              NaN                       m4u          NaN   \n",
       "\n",
       "                              Impact Affected_Hardware Network_Requirements  \\\n",
       "11494  local escalation of privilege               NaN                  NaN   \n",
       "11495  local escalation of privilege               NaN                  NaN   \n",
       "11496  local escalation of privilege               NaN                  NaN   \n",
       "11497  local escalation of privilege               NaN                  NaN   \n",
       "11498  local escalation of privilege               NaN                  NaN   \n",
       "\n",
       "      Affected_Protocols Authentication_Required  \\\n",
       "11494                NaN                     NaN   \n",
       "11495                NaN                     NaN   \n",
       "11496                NaN                     NaN   \n",
       "11497                NaN                     NaN   \n",
       "11498                NaN                     NaN   \n",
       "\n",
       "                             Privileges_Required User_Interaction_Required  \\\n",
       "11494  no additional execution privileges needed                       NaN   \n",
       "11495  no additional execution privileges needed                        no   \n",
       "11496                                        NaN                        No   \n",
       "11497                System execution privileges                        No   \n",
       "11498                System execution privileges                        No   \n",
       "\n",
       "      Vendor  \n",
       "11494    NaN  \n",
       "11495    NaN  \n",
       "11496    NaN  \n",
       "11497    NaN  \n",
       "11498    NaN  "
      ]
     },
     "execution_count": 4,
     "metadata": {},
     "output_type": "execute_result"
    }
   ],
   "source": [
    "# Display the last 5 rows\n",
    "df.tail()"
   ]
  },
  {
   "cell_type": "code",
   "execution_count": 11,
   "metadata": {},
   "outputs": [
    {
     "name": "stdout",
     "output_type": "stream",
     "text": [
      "Rows with unescaped quotes:\n",
      "       ID CVE-ID  CVSS-V3  CVSS-V2 SEVERITY CWE-ID Operating_System  \\\n",
      "0     NaN    NaN      NaN      NaN      NaN    NaN              NaN   \n",
      "1     NaN    NaN      NaN      NaN      NaN    NaN              NaN   \n",
      "2     NaN    NaN      NaN      NaN      NaN    NaN              NaN   \n",
      "3     NaN    NaN      NaN      NaN      NaN    NaN              NaN   \n",
      "4     NaN    NaN      NaN      NaN      NaN    NaN              NaN   \n",
      "...    ..    ...      ...      ...      ...    ...              ...   \n",
      "11494 NaN    NaN      NaN      NaN      NaN    NaN              NaN   \n",
      "11495 NaN    NaN      NaN      NaN      NaN    NaN              NaN   \n",
      "11496 NaN    NaN      NaN      NaN      NaN    NaN              NaN   \n",
      "11497 NaN    NaN      NaN      NaN      NaN    NaN              NaN   \n",
      "11498 NaN    NaN      NaN      NaN      NaN    NaN              NaN   \n",
      "\n",
      "      Software_Component Version Impact Affected_Hardware  \\\n",
      "0                    NaN     NaN    NaN               NaN   \n",
      "1                    NaN     NaN    NaN               NaN   \n",
      "2                    NaN     NaN    NaN               NaN   \n",
      "3                    NaN     NaN    NaN               NaN   \n",
      "4                    NaN     NaN    NaN               NaN   \n",
      "...                  ...     ...    ...               ...   \n",
      "11494                NaN     NaN    NaN               NaN   \n",
      "11495                NaN     NaN    NaN               NaN   \n",
      "11496                NaN     NaN    NaN               NaN   \n",
      "11497                NaN     NaN    NaN               NaN   \n",
      "11498                NaN     NaN    NaN               NaN   \n",
      "\n",
      "      Network_Requirements Affected_Protocols Authentication_Required  \\\n",
      "0                      NaN                NaN                     NaN   \n",
      "1                      NaN                NaN                     NaN   \n",
      "2                      NaN                NaN                     NaN   \n",
      "3                      NaN                NaN                     NaN   \n",
      "4                      NaN                NaN                     NaN   \n",
      "...                    ...                ...                     ...   \n",
      "11494                  NaN                NaN                     NaN   \n",
      "11495                  NaN                NaN                     NaN   \n",
      "11496                  NaN                NaN                     NaN   \n",
      "11497                  NaN                NaN                     NaN   \n",
      "11498                  NaN                NaN                     NaN   \n",
      "\n",
      "      Privileges_Required User_Interaction_Required Vendor  \n",
      "0                     NaN                       NaN    NaN  \n",
      "1                     NaN                       NaN    NaN  \n",
      "2                     NaN                       NaN    NaN  \n",
      "3                     NaN                       NaN    NaN  \n",
      "4                     NaN                       NaN    NaN  \n",
      "...                   ...                       ...    ...  \n",
      "11494                 NaN                       NaN    NaN  \n",
      "11495                 NaN                       NaN    NaN  \n",
      "11496                 NaN                       NaN    NaN  \n",
      "11497                 NaN                       NaN    NaN  \n",
      "11498                 NaN                       NaN    NaN  \n",
      "\n",
      "[11499 rows x 17 columns]\n"
     ]
    }
   ],
   "source": [
    "mask = df.apply(lambda row: row.astype(str).str.contains(r'[^\"]\"[^\"]'), axis=1)\n",
    "problematic_rows = df[mask]\n",
    "\n",
    "# Display the problematic rows for review\n",
    "print(\"Rows with unescaped quotes:\")\n",
    "print(problematic_rows)\n"
   ]
  },
  {
   "cell_type": "code",
   "execution_count": 12,
   "metadata": {},
   "outputs": [
    {
     "name": "stdout",
     "output_type": "stream",
     "text": [
      "Total number of unescaped quotes: 0\n"
     ]
    }
   ],
   "source": [
    "count = 0\n",
    "for index, row in problematic_rows.iterrows():\n",
    "    for i, value in row.items():\n",
    "        if '\"' in str(value):\n",
    "            count += 1\n",
    "            print(f\"Row {index}, Column {i}: {value}\")\n",
    "\n",
    "print(f\"Total number of unescaped quotes: {count}\")"
   ]
  },
  {
   "cell_type": "code",
   "execution_count": 8,
   "metadata": {},
   "outputs": [],
   "source": [
    "# delete the problematic rows\n",
    "df = df[~mask]\n",
    "\n",
    "# Save the cleaned data to a new CSV file\n",
    "cleaned_csv_file = 'cleaned_final_data.csv'\n",
    "df.to_csv(cleaned_csv_file, index=False)\n"
   ]
  },
  {
   "cell_type": "code",
   "execution_count": 9,
   "metadata": {},
   "outputs": [],
   "source": [
    "# Drop description column\n",
    "df = df.drop(columns=['DESCRIPTION'])\n",
    "\n",
    "# Save the cleaned data to a new CSV file\n",
    "cleaned_csv_file = 'cleaned1_final_data.csv'\n",
    "df.to_csv(cleaned_csv_file, index=False)\n"
   ]
  },
  {
   "cell_type": "code",
   "execution_count": 14,
   "metadata": {},
   "outputs": [
    {
     "name": "stdout",
     "output_type": "stream",
     "text": [
      "Rows with potentially problematic quotes:\n",
      "       ID CVE-ID  CVSS-V3  CVSS-V2 SEVERITY CWE-ID Operating_System  \\\n",
      "0     NaN    NaN      NaN      NaN      NaN    NaN              NaN   \n",
      "1     NaN    NaN      NaN      NaN      NaN    NaN              NaN   \n",
      "2     NaN    NaN      NaN      NaN      NaN    NaN              NaN   \n",
      "3     NaN    NaN      NaN      NaN      NaN    NaN              NaN   \n",
      "4     NaN    NaN      NaN      NaN      NaN    NaN              NaN   \n",
      "...    ..    ...      ...      ...      ...    ...              ...   \n",
      "11494 NaN    NaN      NaN      NaN      NaN    NaN              NaN   \n",
      "11495 NaN    NaN      NaN      NaN      NaN    NaN              NaN   \n",
      "11496 NaN    NaN      NaN      NaN      NaN    NaN              NaN   \n",
      "11497 NaN    NaN      NaN      NaN      NaN    NaN              NaN   \n",
      "11498 NaN    NaN      NaN      NaN      NaN    NaN              NaN   \n",
      "\n",
      "      Software_Component Version Impact Affected_Hardware  \\\n",
      "0                    NaN     NaN    NaN               NaN   \n",
      "1                    NaN     NaN    NaN               NaN   \n",
      "2                    NaN     NaN    NaN               NaN   \n",
      "3                    NaN     NaN    NaN               NaN   \n",
      "4                    NaN     NaN    NaN               NaN   \n",
      "...                  ...     ...    ...               ...   \n",
      "11494                NaN     NaN    NaN               NaN   \n",
      "11495                NaN     NaN    NaN               NaN   \n",
      "11496                NaN     NaN    NaN               NaN   \n",
      "11497                NaN     NaN    NaN               NaN   \n",
      "11498                NaN     NaN    NaN               NaN   \n",
      "\n",
      "      Network_Requirements Affected_Protocols Authentication_Required  \\\n",
      "0                      NaN                NaN                     NaN   \n",
      "1                      NaN                NaN                     NaN   \n",
      "2                      NaN                NaN                     NaN   \n",
      "3                      NaN                NaN                     NaN   \n",
      "4                      NaN                NaN                     NaN   \n",
      "...                    ...                ...                     ...   \n",
      "11494                  NaN                NaN                     NaN   \n",
      "11495                  NaN                NaN                     NaN   \n",
      "11496                  NaN                NaN                     NaN   \n",
      "11497                  NaN                NaN                     NaN   \n",
      "11498                  NaN                NaN                     NaN   \n",
      "\n",
      "      Privileges_Required User_Interaction_Required Vendor  \n",
      "0                     NaN                       NaN    NaN  \n",
      "1                     NaN                       NaN    NaN  \n",
      "2                     NaN                       NaN    NaN  \n",
      "3                     NaN                       NaN    NaN  \n",
      "4                     NaN                       NaN    NaN  \n",
      "...                   ...                       ...    ...  \n",
      "11494                 NaN                       NaN    NaN  \n",
      "11495                 NaN                       NaN    NaN  \n",
      "11496                 NaN                       NaN    NaN  \n",
      "11497                 NaN                       NaN    NaN  \n",
      "11498                 NaN                       NaN    NaN  \n",
      "\n",
      "[11499 rows x 17 columns]\n",
      "ID                                               3120\n",
      "CVE-ID                                  CVE-2005-0141\n",
      "CVSS-V3                                           NaN\n",
      "CVSS-V2                                           2.6\n",
      "SEVERITY                                          LOW\n",
      "CWE-ID                                  NVD-CWE-Other\n",
      "Operating_System                                  NaN\n",
      "Software_Component                   Firefox, Mozilla\n",
      "Version                      before 1.0, before 1.7.5\n",
      "Impact                               load local files\n",
      "Affected_Hardware                                 NaN\n",
      "Network_Requirements                           remote\n",
      "Affected_Protocols                                NaN\n",
      "Authentication_Required                           NaN\n",
      "Privileges_Required                               NaN\n",
      "User_Interaction_Required                         Yes\n",
      "Vendor                                        Mozilla\n",
      "Name: 3119, dtype: object\n"
     ]
    }
   ],
   "source": [
    "import pandas as pd\n",
    "\n",
    "# Load the CSV file\n",
    "df = pd.read_csv(\"cleaned1_final_data.csv\")\n",
    "\n",
    "# Check rows with embedded or unbalanced quotes\n",
    "mask = df.apply(lambda row: row.astype(str).str.contains(r'\".*\".*\".*'), axis=1)\n",
    "problematic_rows = df[mask]\n",
    "\n",
    "# Display problematic rows for manual inspection\n",
    "print(\"Rows with potentially problematic quotes:\")\n",
    "print(problematic_rows)\n",
    "\n",
    "# Optional: Print the specific row with the ID (e.g., index 3119) if necessary\n",
    "print(df.iloc[3119])  # Print the specific row to inspect\n",
    "\n",
    "# Correct issues by escaping quotes or removing problematic rows\n",
    "df = df.replace({r'\"([^\"]*)\"$': r'\\1'}, regex=True)  # Replace improperly closed quotes\n"
   ]
  },
  {
   "cell_type": "code",
   "execution_count": 15,
   "metadata": {},
   "outputs": [
    {
     "name": "stderr",
     "output_type": "stream",
     "text": [
      "C:\\Users\\lenovo\\AppData\\Local\\Temp\\ipykernel_21724\\3668364494.py:5: FutureWarning: DataFrame.applymap has been deprecated. Use DataFrame.map instead.\n",
      "  df = df.applymap(lambda x: x.replace('\"', '\\\"') if isinstance(x, str) else x)\n"
     ]
    }
   ],
   "source": [
    "# Option 1: Remove rows with improperly quoted strings\n",
    "df = df[~mask]  # Removes rows with unbalanced quotes\n",
    "\n",
    "# Option 2: Escape embedded quotes in the entire DataFrame\n",
    "df = df.applymap(lambda x: x.replace('\"', '\\\"') if isinstance(x, str) else x)\n"
   ]
  },
  {
   "cell_type": "code",
   "execution_count": 16,
   "metadata": {},
   "outputs": [
    {
     "name": "stdout",
     "output_type": "stream",
     "text": [
      "Rows with potentially problematic quotes:\n",
      "       ID CVE-ID  CVSS-V3  CVSS-V2 SEVERITY CWE-ID Operating_System  \\\n",
      "0     NaN    NaN      NaN      NaN      NaN    NaN              NaN   \n",
      "1     NaN    NaN      NaN      NaN      NaN    NaN              NaN   \n",
      "2     NaN    NaN      NaN      NaN      NaN    NaN              NaN   \n",
      "3     NaN    NaN      NaN      NaN      NaN    NaN              NaN   \n",
      "4     NaN    NaN      NaN      NaN      NaN    NaN              NaN   \n",
      "...    ..    ...      ...      ...      ...    ...              ...   \n",
      "11494 NaN    NaN      NaN      NaN      NaN    NaN              NaN   \n",
      "11495 NaN    NaN      NaN      NaN      NaN    NaN              NaN   \n",
      "11496 NaN    NaN      NaN      NaN      NaN    NaN              NaN   \n",
      "11497 NaN    NaN      NaN      NaN      NaN    NaN              NaN   \n",
      "11498 NaN    NaN      NaN      NaN      NaN    NaN              NaN   \n",
      "\n",
      "      Software_Component Version Impact Affected_Hardware  \\\n",
      "0                    NaN     NaN    NaN               NaN   \n",
      "1                    NaN     NaN    NaN               NaN   \n",
      "2                    NaN     NaN    NaN               NaN   \n",
      "3                    NaN     NaN    NaN               NaN   \n",
      "4                    NaN     NaN    NaN               NaN   \n",
      "...                  ...     ...    ...               ...   \n",
      "11494                NaN     NaN    NaN               NaN   \n",
      "11495                NaN     NaN    NaN               NaN   \n",
      "11496                NaN     NaN    NaN               NaN   \n",
      "11497                NaN     NaN    NaN               NaN   \n",
      "11498                NaN     NaN    NaN               NaN   \n",
      "\n",
      "      Network_Requirements Affected_Protocols Authentication_Required  \\\n",
      "0                      NaN                NaN                     NaN   \n",
      "1                      NaN                NaN                     NaN   \n",
      "2                      NaN                NaN                     NaN   \n",
      "3                      NaN                NaN                     NaN   \n",
      "4                      NaN                NaN                     NaN   \n",
      "...                    ...                ...                     ...   \n",
      "11494                  NaN                NaN                     NaN   \n",
      "11495                  NaN                NaN                     NaN   \n",
      "11496                  NaN                NaN                     NaN   \n",
      "11497                  NaN                NaN                     NaN   \n",
      "11498                  NaN                NaN                     NaN   \n",
      "\n",
      "      Privileges_Required User_Interaction_Required Vendor  \n",
      "0                     NaN                       NaN    NaN  \n",
      "1                     NaN                       NaN    NaN  \n",
      "2                     NaN                       NaN    NaN  \n",
      "3                     NaN                       NaN    NaN  \n",
      "4                     NaN                       NaN    NaN  \n",
      "...                   ...                       ...    ...  \n",
      "11494                 NaN                       NaN    NaN  \n",
      "11495                 NaN                       NaN    NaN  \n",
      "11496                 NaN                       NaN    NaN  \n",
      "11497                 NaN                       NaN    NaN  \n",
      "11498                 NaN                       NaN    NaN  \n",
      "\n",
      "[11499 rows x 17 columns]\n"
     ]
    }
   ],
   "source": [
    "# Save the cleaned DataFrame\n",
    "mask = df.apply(lambda row: row.astype(str).str.contains(r'\".*\".*\".*'), axis=1)\n",
    "problematic_rows = df[mask]\n",
    "\n",
    "# Display problematic rows for manual inspection\n",
    "print(\"Rows with potentially problematic quotes:\")\n",
    "print(problematic_rows)"
   ]
  },
  {
   "cell_type": "code",
   "execution_count": 17,
   "metadata": {},
   "outputs": [
    {
     "name": "stderr",
     "output_type": "stream",
     "text": [
      "C:\\Users\\lenovo\\AppData\\Local\\Temp\\ipykernel_21724\\1711239679.py:10: FutureWarning: DataFrame.applymap has been deprecated. Use DataFrame.map instead.\n",
      "  df = df.applymap(lambda x: x.strip() if isinstance(x, str) else x)  # Remove extra spaces\n",
      "C:\\Users\\lenovo\\AppData\\Local\\Temp\\ipykernel_21724\\1711239679.py:11: FutureWarning: DataFrame.applymap has been deprecated. Use DataFrame.map instead.\n",
      "  df = df.applymap(lambda x: x.replace('\"', '') if isinstance(x, str) else x)  # Remove embedded quotes\n"
     ]
    },
    {
     "name": "stdout",
     "output_type": "stream",
     "text": [
      "Cleaned DataFrame:\n",
      "   ID         CVE-ID  CVSS-V3  CVSS-V2 SEVERITY         CWE-ID  \\\n",
      "0   1  CVE-1999-0001      NaN      5.0   MEDIUM         CWE-20   \n",
      "1   2  CVE-1999-0002      NaN     10.0     HIGH        CWE-119   \n",
      "2   3  CVE-1999-0003      NaN     10.0     HIGH  NVD-CWE-Other   \n",
      "3   4  CVE-1999-0004      NaN      5.0   MEDIUM  NVD-CWE-Other   \n",
      "4   5  CVE-1999-0005      NaN     10.0     HIGH  NVD-CWE-Other   \n",
      "\n",
      "  Operating_System Software_Component Version  \\\n",
      "0      BSD-derived         ip_input.c     NaN   \n",
      "1            Linux         NFS mountd     NaN   \n",
      "2              NaN                NaN     NaN   \n",
      "3              NaN                NaN     NaN   \n",
      "4              NaN                NaN     NaN   \n",
      "\n",
      "                              Impact Affected_Hardware Network_Requirements  \\\n",
      "0  denial of service (crash or hang)               NaN               remote   \n",
      "1                        root access               NaN               remote   \n",
      "2                                NaN               NaN                  NaN   \n",
      "3                                NaN               NaN                  NaN   \n",
      "4                                NaN               NaN                  NaN   \n",
      "\n",
      "  Affected_Protocols Authentication_Required Privileges_Required  \\\n",
      "0             TCP/IP                     NaN                 NaN   \n",
      "1                NFS                     NaN                 NaN   \n",
      "2                NaN                     NaN                 NaN   \n",
      "3                NaN                     NaN                 NaN   \n",
      "4                NaN                     NaN                 NaN   \n",
      "\n",
      "  User_Interaction_Required Vendor  \n",
      "0                       NaN    NaN  \n",
      "1                       NaN    NaN  \n",
      "2                       NaN    NaN  \n",
      "3                       NaN    NaN  \n",
      "4                       NaN    NaN  \n"
     ]
    }
   ],
   "source": [
    "import pandas as pd\n",
    "\n",
    "# Load the CSV file\n",
    "df = pd.read_csv(\"cleaned1_final_data.csv\")\n",
    "\n",
    "# Step 1: Drop rows where all columns are NaN\n",
    "df.dropna(how=\"all\", inplace=True)\n",
    "\n",
    "# Step 2: Remove leading and trailing whitespace and fix any embedded quotes\n",
    "df = df.applymap(lambda x: x.strip() if isinstance(x, str) else x)  # Remove extra spaces\n",
    "df = df.applymap(lambda x: x.replace('\"', '') if isinstance(x, str) else x)  # Remove embedded quotes\n",
    "\n",
    "# Step 3: Inspect the cleaned DataFrame\n",
    "print(\"Cleaned DataFrame:\")\n",
    "print(df.head())\n",
    "\n"
   ]
  },
  {
   "cell_type": "code",
   "execution_count": 18,
   "metadata": {},
   "outputs": [
    {
     "name": "stdout",
     "output_type": "stream",
     "text": [
      "Number of rows with all NaN values: 0\n",
      "NaN values in critical columns:\n",
      "CVE-ID      False\n",
      "SEVERITY     True\n",
      "dtype: bool\n"
     ]
    }
   ],
   "source": [
    "# Check for any rows that are entirely NaN\n",
    "all_nan_rows = df[df.isna().all(axis=1)]\n",
    "print(f\"Number of rows with all NaN values: {len(all_nan_rows)}\")\n",
    "\n",
    "# Check for any NaN values in important columns (like 'CVE-ID' or 'SEVERITY')\n",
    "critical_columns = ['CVE-ID', 'SEVERITY']  # Update based on columns you consider essential\n",
    "nan_critical = df[critical_columns].isna().any()\n",
    "print(\"NaN values in critical columns:\")\n",
    "print(nan_critical)\n"
   ]
  },
  {
   "cell_type": "code",
   "execution_count": 19,
   "metadata": {},
   "outputs": [
    {
     "name": "stderr",
     "output_type": "stream",
     "text": [
      "C:\\Users\\lenovo\\AppData\\Local\\Temp\\ipykernel_21724\\940271823.py:2: FutureWarning: A value is trying to be set on a copy of a DataFrame or Series through chained assignment using an inplace method.\n",
      "The behavior will change in pandas 3.0. This inplace method will never work because the intermediate object on which we are setting values always behaves as a copy.\n",
      "\n",
      "For example, when doing 'df[col].method(value, inplace=True)', try using 'df.method({col: value}, inplace=True)' or df[col] = df[col].method(value) instead, to perform the operation inplace on the original object.\n",
      "\n",
      "\n",
      "  df['SEVERITY'].fillna(\"UNKNOWN\", inplace=True)\n"
     ]
    }
   ],
   "source": [
    "# Fill NaN values in SEVERITY with a default value\n",
    "df['SEVERITY'].fillna(\"UNKNOWN\", inplace=True)\n"
   ]
  },
  {
   "cell_type": "code",
   "execution_count": 20,
   "metadata": {},
   "outputs": [],
   "source": [
    "# Drop rows where SEVERITY is NaN\n",
    "df.dropna(subset=['SEVERITY'], inplace=True)\n"
   ]
  },
  {
   "cell_type": "code",
   "execution_count": 21,
   "metadata": {},
   "outputs": [
    {
     "name": "stderr",
     "output_type": "stream",
     "text": [
      "C:\\Users\\lenovo\\AppData\\Local\\Temp\\ipykernel_21724\\1502360915.py:3: FutureWarning: A value is trying to be set on a copy of a DataFrame or Series through chained assignment using an inplace method.\n",
      "The behavior will change in pandas 3.0. This inplace method will never work because the intermediate object on which we are setting values always behaves as a copy.\n",
      "\n",
      "For example, when doing 'df[col].method(value, inplace=True)', try using 'df.method({col: value}, inplace=True)' or df[col] = df[col].method(value) instead, to perform the operation inplace on the original object.\n",
      "\n",
      "\n",
      "  df['SEVERITY'].fillna(most_common_severity, inplace=True)\n"
     ]
    }
   ],
   "source": [
    "# Fill NaN in SEVERITY with the most frequent value\n",
    "most_common_severity = df['SEVERITY'].mode()[0]\n",
    "df['SEVERITY'].fillna(most_common_severity, inplace=True)\n"
   ]
  },
  {
   "cell_type": "code",
   "execution_count": 22,
   "metadata": {},
   "outputs": [
    {
     "name": "stdout",
     "output_type": "stream",
     "text": [
      "Remaining NaN in SEVERITY: 0\n"
     ]
    }
   ],
   "source": [
    "# Check for any remaining NaN in SEVERITY\n",
    "print(\"Remaining NaN in SEVERITY:\", df['SEVERITY'].isna().sum())\n"
   ]
  },
  {
   "cell_type": "code",
   "execution_count": 23,
   "metadata": {},
   "outputs": [
    {
     "data": {
      "image/png": "[encoded data removed]",
      "text/plain": [
       "<Figure size 1000x600 with 1 Axes>"
      ]
     },
     "metadata": {},
     "output_type": "display_data"
    }
   ],
   "source": [
    "import seaborn as sns\n",
    "import matplotlib.pyplot as plt\n",
    "\n",
    "# Visualize missing values\n",
    "plt.figure(figsize=(10, 6))\n",
    "sns.heatmap(df.isna(), cbar=False, cmap=\"viridis\")\n",
    "plt.title(\"Missing Values Heatmap\")\n",
    "plt.show()\n"
   ]
  },
  {
   "cell_type": "code",
   "execution_count": 24,
   "metadata": {},
   "outputs": [
    {
     "name": "stdout",
     "output_type": "stream",
     "text": [
      "Number of duplicate rows: 0\n"
     ]
    }
   ],
   "source": [
    "# Check for duplicates\n",
    "duplicates = df.duplicated()\n",
    "print(f\"Number of duplicate rows: {duplicates.sum()}\")\n"
   ]
  },
  {
   "cell_type": "code",
   "execution_count": 25,
   "metadata": {},
   "outputs": [
    {
     "name": "stdout",
     "output_type": "stream",
     "text": [
      "Number of rows with problematic quotes: 0\n"
     ]
    },
    {
     "name": "stderr",
     "output_type": "stream",
     "text": [
      "C:\\Users\\lenovo\\AppData\\Local\\Temp\\ipykernel_21724\\1269154106.py:2: FutureWarning: DataFrame.applymap has been deprecated. Use DataFrame.map instead.\n",
      "  quote_issues = df.applymap(lambda x: '\"' in x if isinstance(x, str) else False)\n"
     ]
    }
   ],
   "source": [
    "# Identify rows with unescaped or embedded quotes\n",
    "quote_issues = df.applymap(lambda x: '\"' in x if isinstance(x, str) else False)\n",
    "problematic_rows = df[quote_issues.any(axis=1)]\n",
    "print(f\"Number of rows with problematic quotes: {len(problematic_rows)}\")\n"
   ]
  },
  {
   "cell_type": "code",
   "execution_count": 26,
   "metadata": {},
   "outputs": [
    {
     "name": "stdout",
     "output_type": "stream",
     "text": [
      "Data types:\n",
      "ID                             int64\n",
      "CVE-ID                        object\n",
      "CVSS-V3                      float64\n",
      "CVSS-V2                      float64\n",
      "SEVERITY                      object\n",
      "CWE-ID                        object\n",
      "Operating_System              object\n",
      "Software_Component            object\n",
      "Version                       object\n",
      "Impact                        object\n",
      "Affected_Hardware             object\n",
      "Network_Requirements          object\n",
      "Affected_Protocols            object\n",
      "Authentication_Required       object\n",
      "Privileges_Required           object\n",
      "User_Interaction_Required     object\n",
      "Vendor                        object\n",
      "dtype: object\n"
     ]
    }
   ],
   "source": [
    "# Check data types\n",
    "print(\"Data types:\")\n",
    "print(df.dtypes)\n"
   ]
  },
  {
   "cell_type": "code",
   "execution_count": 27,
   "metadata": {},
   "outputs": [
    {
     "name": "stdout",
     "output_type": "stream",
     "text": [
      "DataFrame Summary:\n",
      "<class 'pandas.core.frame.DataFrame'>\n",
      "RangeIndex: 11499 entries, 0 to 11498\n",
      "Data columns (total 17 columns):\n",
      " #   Column                     Non-Null Count  Dtype  \n",
      "---  ------                     --------------  -----  \n",
      " 0   ID                         11499 non-null  int64  \n",
      " 1   CVE-ID                     11499 non-null  object \n",
      " 2   CVSS-V3                    3027 non-null   float64\n",
      " 3   CVSS-V2                    11498 non-null  float64\n",
      " 4   SEVERITY                   11499 non-null  object \n",
      " 5   CWE-ID                     11499 non-null  object \n",
      " 6   Operating_System           2348 non-null   object \n",
      " 7   Software_Component         9821 non-null   object \n",
      " 8   Version                    7607 non-null   object \n",
      " 9   Impact                     9689 non-null   object \n",
      " 10  Affected_Hardware          219 non-null    object \n",
      " 11  Network_Requirements       7472 non-null   object \n",
      " 12  Affected_Protocols         1519 non-null   object \n",
      " 13  Authentication_Required    1703 non-null   object \n",
      " 14  Privileges_Required        668 non-null    object \n",
      " 15  User_Interaction_Required  2402 non-null   object \n",
      " 16  Vendor                     6507 non-null   object \n",
      "dtypes: float64(2), int64(1), object(14)\n",
      "memory usage: 1.5+ MB\n",
      "None\n"
     ]
    }
   ],
   "source": [
    "# General summary of the DataFrame\n",
    "print(\"DataFrame Summary:\")\n",
    "print(df.info())\n"
   ]
  },
  {
   "cell_type": "code",
   "execution_count": 28,
   "metadata": {},
   "outputs": [],
   "source": [
    "# Save the cleaned data to a new CSV file\n",
    "df.to_csv(\"cleaned_final_data_v2.csv\", index=False)"
   ]
  },
  {
   "cell_type": "code",
   "execution_count": null,
   "metadata": {},
   "outputs": [],
   "source": []
  }
 ],
 "metadata": {
  "kernelspec": {
   "display_name": "Python 3",
   "language": "python",
   "name": "python3"
  },
  "language_info": {
   "codemirror_mode": {
    "name": "ipython",
    "version": 3
   },
   "file_extension": ".py",
   "mimetype": "text/x-python",
   "name": "python",
   "nbconvert_exporter": "python",
   "pygments_lexer": "ipython3",
   "version": "3.10.15"
  }
 },
 "nbformat": 4,
 "nbformat_minor": 2
}
